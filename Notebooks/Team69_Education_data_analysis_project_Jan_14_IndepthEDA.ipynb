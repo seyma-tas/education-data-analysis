{
  "nbformat": 4,
  "nbformat_minor": 0,
  "metadata": {
    "colab": {
      "name": "Team69-Education-data-analysis-project_Jan_14_IndepthEDA.ipynb",
      "provenance": []
    },
    "kernelspec": {
      "name": "python3",
      "display_name": "Python 3"
    }
  },
  "cells": [
    {
      "cell_type": "markdown",
      "metadata": {
        "id": "dLsS-BYExZ81"
      },
      "source": [
        "### Mounting Colab To Drive"
      ]
    },
    {
      "cell_type": "code",
      "metadata": {
        "id": "Qyg7jcQxmn2o",
        "colab": {
          "base_uri": "https://localhost:8080/"
        },
        "outputId": "65347c4e-d63a-4da9-eb8a-5a83dae59d21"
      },
      "source": [
        "from google.colab import drive\n",
        "drive.mount('/content/drive/')"
      ],
      "execution_count": null,
      "outputs": [
        {
          "output_type": "stream",
          "text": [
            "Drive already mounted at /content/drive/; to attempt to forcibly remount, call drive.mount(\"/content/drive/\", force_remount=True).\n"
          ],
          "name": "stdout"
        }
      ]
    },
    {
      "cell_type": "markdown",
      "metadata": {
        "id": "sRgrlX2SxQ5q"
      },
      "source": [
        "### Importing the necessary libraries"
      ]
    },
    {
      "cell_type": "code",
      "metadata": {
        "id": "OkGT9L_18T3s"
      },
      "source": [
        "import pandas as pd\n",
        "import matplotlib.pyplot as plt\n",
        "import seaborn as sns"
      ],
      "execution_count": null,
      "outputs": []
    },
    {
      "cell_type": "markdown",
      "metadata": {
        "id": "EJvNATVx7e5R"
      },
      "source": [
        "### Information About The Datasets"
      ]
    },
    {
      "cell_type": "markdown",
      "metadata": {
        "id": "vRqYixy57y6i"
      },
      "source": [
        ""
      ]
    },
    {
      "cell_type": "markdown",
      "metadata": {
        "id": "lNiRML65xnWS"
      },
      "source": [
        "# Reading The Datasets With Pandas"
      ]
    },
    {
      "cell_type": "markdown",
      "metadata": {
        "id": "lSFgJmPSx0kN"
      },
      "source": [
        "### 1) spg-report2019 dataset"
      ]
    },
    {
      "cell_type": "code",
      "metadata": {
        "id": "SHlpCJ_bbJGt",
        "colab": {
          "base_uri": "https://localhost:8080/",
          "height": 428
        },
        "outputId": "a55595a5-aaa5-4edd-a521-432580745bc2"
      },
      "source": [
        "schools_df = pd.read_csv('/content/drive/Shared drives/Data Science for All - Empowerment/education-data-analysis-project/spg-report2019_final.csv')\n",
        "schools_df.head()"
      ],
      "execution_count": null,
      "outputs": [
        {
          "output_type": "stream",
          "text": [
            "/usr/local/lib/python3.6/dist-packages/IPython/core/interactiveshell.py:2718: DtypeWarning: Columns (1,3) have mixed types.Specify dtype option on import or set low_memory=False.\n",
            "  interactivity=interactivity, compiler=compiler, result=result)\n"
          ],
          "name": "stderr"
        },
        {
          "output_type": "execute_result",
          "data": {
            "text/html": [
              "<div>\n",
              "<style scoped>\n",
              "    .dataframe tbody tr th:only-of-type {\n",
              "        vertical-align: middle;\n",
              "    }\n",
              "\n",
              "    .dataframe tbody tr th {\n",
              "        vertical-align: top;\n",
              "    }\n",
              "\n",
              "    .dataframe thead th {\n",
              "        text-align: right;\n",
              "    }\n",
              "</style>\n",
              "<table border=\"1\" class=\"dataframe\">\n",
              "  <thead>\n",
              "    <tr style=\"text-align: right;\">\n",
              "      <th></th>\n",
              "      <th>reporting_year</th>\n",
              "      <th>lea_code</th>\n",
              "      <th>lea_name</th>\n",
              "      <th>school_code</th>\n",
              "      <th>school_name</th>\n",
              "      <th>sbe_region</th>\n",
              "      <th>grade_span</th>\n",
              "      <th>title_1</th>\n",
              "      <th>missed_days</th>\n",
              "      <th>subgroup</th>\n",
              "      <th>spg_grade</th>\n",
              "      <th>spg_score</th>\n",
              "      <th>ach_score</th>\n",
              "      <th>eg_score</th>\n",
              "      <th>eg_status</th>\n",
              "      <th>eg_index</th>\n",
              "      <th>rd_spg_grade</th>\n",
              "      <th>rd_spg_score</th>\n",
              "      <th>rdgs_ach_score</th>\n",
              "      <th>rd_eg_score</th>\n",
              "      <th>rd_eg_status</th>\n",
              "      <th>rd_eg_index</th>\n",
              "      <th>ma_spg_grade</th>\n",
              "      <th>ma_spg_score</th>\n",
              "      <th>mags_ach_score</th>\n",
              "      <th>ma_eg_score</th>\n",
              "      <th>ma_eg_status</th>\n",
              "      <th>ma_eg_index</th>\n",
              "      <th>aaa_score</th>\n",
              "      <th>scgs_score</th>\n",
              "      <th>elp_score</th>\n",
              "      <th>cgrs_score</th>\n",
              "      <th>bi_score</th>\n",
              "      <th>awa_score</th>\n",
              "      <th>mcr_score</th>\n",
              "      <th>asm_option</th>\n",
              "      <th>k2_feeder</th>\n",
              "      <th>use_3yr</th>\n",
              "      <th>use_alt_weight</th>\n",
              "    </tr>\n",
              "  </thead>\n",
              "  <tbody>\n",
              "    <tr>\n",
              "      <th>0</th>\n",
              "      <td>2019</td>\n",
              "      <td>10</td>\n",
              "      <td>Alamance-Burlington Schools</td>\n",
              "      <td>10303</td>\n",
              "      <td>ABSS Early College at ACC</td>\n",
              "      <td>Piedmont-Triad</td>\n",
              "      <td>09-13</td>\n",
              "      <td>NaN</td>\n",
              "      <td>1.0</td>\n",
              "      <td>ALL</td>\n",
              "      <td>A</td>\n",
              "      <td>88.0</td>\n",
              "      <td>90.4</td>\n",
              "      <td>80.3</td>\n",
              "      <td>Met</td>\n",
              "      <td>0.15</td>\n",
              "      <td>NaN</td>\n",
              "      <td>NaN</td>\n",
              "      <td>NaN</td>\n",
              "      <td>NaN</td>\n",
              "      <td>NaN</td>\n",
              "      <td>NaN</td>\n",
              "      <td>NaN</td>\n",
              "      <td>NaN</td>\n",
              "      <td>NaN</td>\n",
              "      <td>NaN</td>\n",
              "      <td>NaN</td>\n",
              "      <td>NaN</td>\n",
              "      <td>84.2</td>\n",
              "      <td>NaN</td>\n",
              "      <td>NaN</td>\n",
              "      <td>NaN</td>\n",
              "      <td>&gt;95</td>\n",
              "      <td>87.2</td>\n",
              "      <td>&gt;95</td>\n",
              "      <td>NaN</td>\n",
              "      <td>NaN</td>\n",
              "      <td>NaN</td>\n",
              "      <td>NaN</td>\n",
              "    </tr>\n",
              "    <tr>\n",
              "      <th>1</th>\n",
              "      <td>2019</td>\n",
              "      <td>10</td>\n",
              "      <td>Alamance-Burlington Schools</td>\n",
              "      <td>10303</td>\n",
              "      <td>ABSS Early College at ACC</td>\n",
              "      <td>Piedmont-Triad</td>\n",
              "      <td>09-13</td>\n",
              "      <td>NaN</td>\n",
              "      <td>1.0</td>\n",
              "      <td>AMIN</td>\n",
              "      <td>I</td>\n",
              "      <td>NaN</td>\n",
              "      <td>NaN</td>\n",
              "      <td>NaN</td>\n",
              "      <td>NaN</td>\n",
              "      <td>NaN</td>\n",
              "      <td>NaN</td>\n",
              "      <td>NaN</td>\n",
              "      <td>NaN</td>\n",
              "      <td>NaN</td>\n",
              "      <td>NaN</td>\n",
              "      <td>NaN</td>\n",
              "      <td>NaN</td>\n",
              "      <td>NaN</td>\n",
              "      <td>NaN</td>\n",
              "      <td>NaN</td>\n",
              "      <td>NaN</td>\n",
              "      <td>NaN</td>\n",
              "      <td>NaN</td>\n",
              "      <td>NaN</td>\n",
              "      <td>NaN</td>\n",
              "      <td>NaN</td>\n",
              "      <td>NaN</td>\n",
              "      <td>NaN</td>\n",
              "      <td>NaN</td>\n",
              "      <td>NaN</td>\n",
              "      <td>NaN</td>\n",
              "      <td>NaN</td>\n",
              "      <td>NaN</td>\n",
              "    </tr>\n",
              "    <tr>\n",
              "      <th>2</th>\n",
              "      <td>2019</td>\n",
              "      <td>10</td>\n",
              "      <td>Alamance-Burlington Schools</td>\n",
              "      <td>10303</td>\n",
              "      <td>ABSS Early College at ACC</td>\n",
              "      <td>Piedmont-Triad</td>\n",
              "      <td>09-13</td>\n",
              "      <td>NaN</td>\n",
              "      <td>1.0</td>\n",
              "      <td>ASIA</td>\n",
              "      <td>I</td>\n",
              "      <td>NaN</td>\n",
              "      <td>NaN</td>\n",
              "      <td>NaN</td>\n",
              "      <td>NaN</td>\n",
              "      <td>NaN</td>\n",
              "      <td>NaN</td>\n",
              "      <td>NaN</td>\n",
              "      <td>NaN</td>\n",
              "      <td>NaN</td>\n",
              "      <td>NaN</td>\n",
              "      <td>NaN</td>\n",
              "      <td>NaN</td>\n",
              "      <td>NaN</td>\n",
              "      <td>NaN</td>\n",
              "      <td>NaN</td>\n",
              "      <td>NaN</td>\n",
              "      <td>NaN</td>\n",
              "      <td>NaN</td>\n",
              "      <td>NaN</td>\n",
              "      <td>NaN</td>\n",
              "      <td>NaN</td>\n",
              "      <td>NaN</td>\n",
              "      <td>NaN</td>\n",
              "      <td>NaN</td>\n",
              "      <td>NaN</td>\n",
              "      <td>NaN</td>\n",
              "      <td>NaN</td>\n",
              "      <td>NaN</td>\n",
              "    </tr>\n",
              "    <tr>\n",
              "      <th>3</th>\n",
              "      <td>2019</td>\n",
              "      <td>10</td>\n",
              "      <td>Alamance-Burlington Schools</td>\n",
              "      <td>10303</td>\n",
              "      <td>ABSS Early College at ACC</td>\n",
              "      <td>Piedmont-Triad</td>\n",
              "      <td>09-13</td>\n",
              "      <td>NaN</td>\n",
              "      <td>1.0</td>\n",
              "      <td>BLCK</td>\n",
              "      <td>I</td>\n",
              "      <td>NaN</td>\n",
              "      <td>NaN</td>\n",
              "      <td>NaN</td>\n",
              "      <td>NaN</td>\n",
              "      <td>NaN</td>\n",
              "      <td>NaN</td>\n",
              "      <td>NaN</td>\n",
              "      <td>NaN</td>\n",
              "      <td>NaN</td>\n",
              "      <td>NaN</td>\n",
              "      <td>NaN</td>\n",
              "      <td>NaN</td>\n",
              "      <td>NaN</td>\n",
              "      <td>NaN</td>\n",
              "      <td>NaN</td>\n",
              "      <td>NaN</td>\n",
              "      <td>NaN</td>\n",
              "      <td>NaN</td>\n",
              "      <td>NaN</td>\n",
              "      <td>NaN</td>\n",
              "      <td>NaN</td>\n",
              "      <td>NaN</td>\n",
              "      <td>NaN</td>\n",
              "      <td>NaN</td>\n",
              "      <td>NaN</td>\n",
              "      <td>NaN</td>\n",
              "      <td>NaN</td>\n",
              "      <td>NaN</td>\n",
              "    </tr>\n",
              "    <tr>\n",
              "      <th>4</th>\n",
              "      <td>2019</td>\n",
              "      <td>10</td>\n",
              "      <td>Alamance-Burlington Schools</td>\n",
              "      <td>10303</td>\n",
              "      <td>ABSS Early College at ACC</td>\n",
              "      <td>Piedmont-Triad</td>\n",
              "      <td>09-13</td>\n",
              "      <td>NaN</td>\n",
              "      <td>1.0</td>\n",
              "      <td>HISP</td>\n",
              "      <td>B</td>\n",
              "      <td>71.0</td>\n",
              "      <td>70.6</td>\n",
              "      <td>NaN</td>\n",
              "      <td>NaN</td>\n",
              "      <td>NaN</td>\n",
              "      <td>NaN</td>\n",
              "      <td>NaN</td>\n",
              "      <td>NaN</td>\n",
              "      <td>NaN</td>\n",
              "      <td>NaN</td>\n",
              "      <td>NaN</td>\n",
              "      <td>NaN</td>\n",
              "      <td>NaN</td>\n",
              "      <td>NaN</td>\n",
              "      <td>NaN</td>\n",
              "      <td>NaN</td>\n",
              "      <td>NaN</td>\n",
              "      <td>70.6</td>\n",
              "      <td>NaN</td>\n",
              "      <td>NaN</td>\n",
              "      <td>NaN</td>\n",
              "      <td>NaN</td>\n",
              "      <td>NaN</td>\n",
              "      <td>NaN</td>\n",
              "      <td>NaN</td>\n",
              "      <td>NaN</td>\n",
              "      <td>NaN</td>\n",
              "      <td>NaN</td>\n",
              "    </tr>\n",
              "  </tbody>\n",
              "</table>\n",
              "</div>"
            ],
            "text/plain": [
              "   reporting_year lea_code  ... use_3yr use_alt_weight\n",
              "0            2019       10  ...     NaN            NaN\n",
              "1            2019       10  ...     NaN            NaN\n",
              "2            2019       10  ...     NaN            NaN\n",
              "3            2019       10  ...     NaN            NaN\n",
              "4            2019       10  ...     NaN            NaN\n",
              "\n",
              "[5 rows x 39 columns]"
            ]
          },
          "metadata": {
            "tags": []
          },
          "execution_count": 4
        }
      ]
    },
    {
      "cell_type": "markdown",
      "metadata": {
        "id": "_LbdCdS_qXcO"
      },
      "source": [
        "Printing the basic information about the spg-report2019 dataset"
      ]
    },
    {
      "cell_type": "code",
      "metadata": {
        "colab": {
          "base_uri": "https://localhost:8080/"
        },
        "id": "nJLdXNPh4xLL",
        "outputId": "b8623f39-db43-4cf3-eaba-2a54e8154ac4"
      },
      "source": [
        "schools_df.shape\n"
      ],
      "execution_count": null,
      "outputs": [
        {
          "output_type": "execute_result",
          "data": {
            "text/plain": [
              "(26540, 39)"
            ]
          },
          "metadata": {
            "tags": []
          },
          "execution_count": 5
        }
      ]
    },
    {
      "cell_type": "code",
      "metadata": {
        "colab": {
          "base_uri": "https://localhost:8080/"
        },
        "id": "UBqWA6UpXE7t",
        "outputId": "844f3a2b-331e-4e9f-f523-5ef943d86997"
      },
      "source": [
        "schools_df.info()"
      ],
      "execution_count": null,
      "outputs": [
        {
          "output_type": "stream",
          "text": [
            "<class 'pandas.core.frame.DataFrame'>\n",
            "RangeIndex: 26540 entries, 0 to 26539\n",
            "Data columns (total 39 columns):\n",
            " #   Column          Non-Null Count  Dtype  \n",
            "---  ------          --------------  -----  \n",
            " 0   reporting_year  26540 non-null  int64  \n",
            " 1   lea_code        26540 non-null  object \n",
            " 2   lea_name        26540 non-null  object \n",
            " 3   school_code     26540 non-null  object \n",
            " 4   school_name     26540 non-null  object \n",
            " 5   sbe_region      26540 non-null  object \n",
            " 6   grade_span      26540 non-null  object \n",
            " 7   title_1         14920 non-null  object \n",
            " 8   missed_days     26540 non-null  float64\n",
            " 9   subgroup        26540 non-null  object \n",
            " 10  spg_grade       26510 non-null  object \n",
            " 11  spg_score       16333 non-null  float64\n",
            " 12  ach_score       16059 non-null  float64\n",
            " 13  eg_score        14382 non-null  float64\n",
            " 14  eg_status       14382 non-null  object \n",
            " 15  eg_index        14382 non-null  float64\n",
            " 16  rd_spg_grade    2105 non-null   object \n",
            " 17  rd_spg_score    1997 non-null   float64\n",
            " 18  rdgs_ach_score  1997 non-null   object \n",
            " 19  rd_eg_score     1994 non-null   float64\n",
            " 20  rd_eg_status    1994 non-null   object \n",
            " 21  rd_eg_index     1994 non-null   float64\n",
            " 22  ma_spg_grade    2105 non-null   object \n",
            " 23  ma_spg_score    1997 non-null   float64\n",
            " 24  mags_ach_score  1997 non-null   object \n",
            " 25  ma_eg_score     1964 non-null   float64\n",
            " 26  ma_eg_status    1964 non-null   object \n",
            " 27  ma_eg_index     1964 non-null   float64\n",
            " 28  aaa_score       16037 non-null  object \n",
            " 29  scgs_score      6072 non-null   object \n",
            " 30  elp_score       2221 non-null   object \n",
            " 31  cgrs_score      2122 non-null   object \n",
            " 32  bi_score        2087 non-null   object \n",
            " 33  awa_score       1797 non-null   object \n",
            " 34  mcr_score       1967 non-null   object \n",
            " 35  asm_option      940 non-null    object \n",
            " 36  k2_feeder       390 non-null    float64\n",
            " 37  use_3yr         150 non-null    object \n",
            " 38  use_alt_weight  21 non-null     object \n",
            "dtypes: float64(12), int64(1), object(26)\n",
            "memory usage: 7.9+ MB\n"
          ],
          "name": "stdout"
        }
      ]
    },
    {
      "cell_type": "markdown",
      "metadata": {
        "id": "5axTbMTKq1nS"
      },
      "source": [
        "Checking null values for spg-report2019 dataset"
      ]
    },
    {
      "cell_type": "code",
      "metadata": {
        "id": "FDxWlejIXv26",
        "colab": {
          "base_uri": "https://localhost:8080/"
        },
        "outputId": "bd8f5f0a-f64a-4503-9b55-e75f5b80e87b"
      },
      "source": [
        "schools_df.isna().sum()"
      ],
      "execution_count": null,
      "outputs": [
        {
          "output_type": "execute_result",
          "data": {
            "text/plain": [
              "reporting_year        0\n",
              "lea_code              0\n",
              "lea_name              0\n",
              "school_code           0\n",
              "school_name           0\n",
              "sbe_region            0\n",
              "grade_span            0\n",
              "title_1           11620\n",
              "missed_days           0\n",
              "subgroup              0\n",
              "spg_grade            30\n",
              "spg_score         10207\n",
              "ach_score         10481\n",
              "eg_score          12158\n",
              "eg_status         12158\n",
              "eg_index          12158\n",
              "rd_spg_grade      24435\n",
              "rd_spg_score      24543\n",
              "rdgs_ach_score    24543\n",
              "rd_eg_score       24546\n",
              "rd_eg_status      24546\n",
              "rd_eg_index       24546\n",
              "ma_spg_grade      24435\n",
              "ma_spg_score      24543\n",
              "mags_ach_score    24543\n",
              "ma_eg_score       24576\n",
              "ma_eg_status      24576\n",
              "ma_eg_index       24576\n",
              "aaa_score         10503\n",
              "scgs_score        20468\n",
              "elp_score         24319\n",
              "cgrs_score        24418\n",
              "bi_score          24453\n",
              "awa_score         24743\n",
              "mcr_score         24573\n",
              "asm_option        25600\n",
              "k2_feeder         26150\n",
              "use_3yr           26390\n",
              "use_alt_weight    26519\n",
              "dtype: int64"
            ]
          },
          "metadata": {
            "tags": []
          },
          "execution_count": 7
        }
      ]
    },
    {
      "cell_type": "markdown",
      "metadata": {
        "id": "F7oGceNGyHDT"
      },
      "source": [
        "2) 2019-2020 SAT Dataset"
      ]
    },
    {
      "cell_type": "code",
      "metadata": {
        "colab": {
          "base_uri": "https://localhost:8080/",
          "height": 1000
        },
        "id": "w5IBAnx0J6Ed",
        "outputId": "2fa6eb7b-e945-4e6f-eb5c-7105b8d83c72"
      },
      "source": [
        "sat_df = pd.read_csv('/content/drive/Shared drives/Data Science for All - Empowerment/education-data-analysis-project/satleasch2020_09212020.csv')\n",
        "sat_df.head(30)"
      ],
      "execution_count": null,
      "outputs": [
        {
          "output_type": "execute_result",
          "data": {
            "text/html": [
              "<div>\n",
              "<style scoped>\n",
              "    .dataframe tbody tr th:only-of-type {\n",
              "        vertical-align: middle;\n",
              "    }\n",
              "\n",
              "    .dataframe tbody tr th {\n",
              "        vertical-align: top;\n",
              "    }\n",
              "\n",
              "    .dataframe thead th {\n",
              "        text-align: right;\n",
              "    }\n",
              "</style>\n",
              "<table border=\"1\" class=\"dataframe\">\n",
              "  <thead>\n",
              "    <tr style=\"text-align: right;\">\n",
              "      <th></th>\n",
              "      <th>Unnamed: 0</th>\n",
              "      <th>School System &amp;School</th>\n",
              "      <th>Unnamed: 2</th>\n",
              "      <th>Unnamed: 3</th>\n",
              "      <th>Unnamed: 4</th>\n",
              "      <th># Tested</th>\n",
              "      <th>% Tested</th>\n",
              "      <th>Total</th>\n",
              "      <th>ERW</th>\n",
              "      <th>Math</th>\n",
              "    </tr>\n",
              "  </thead>\n",
              "  <tbody>\n",
              "    <tr>\n",
              "      <th>0</th>\n",
              "      <td>NaN</td>\n",
              "      <td>NaN</td>\n",
              "      <td>United States (Public School Students)</td>\n",
              "      <td>NaN</td>\n",
              "      <td>NaN</td>\n",
              "      <td>1,849,197</td>\n",
              "      <td>100.0</td>\n",
              "      <td>1030</td>\n",
              "      <td>520</td>\n",
              "      <td>510</td>\n",
              "    </tr>\n",
              "    <tr>\n",
              "      <th>1</th>\n",
              "      <td>NaN</td>\n",
              "      <td>NaN</td>\n",
              "      <td>North Carolina (Public School Students)</td>\n",
              "      <td>NaN</td>\n",
              "      <td>NaN</td>\n",
              "      <td>44,282</td>\n",
              "      <td>42.6</td>\n",
              "      <td>1089</td>\n",
              "      <td>548</td>\n",
              "      <td>540</td>\n",
              "    </tr>\n",
              "    <tr>\n",
              "      <th>2</th>\n",
              "      <td>NaN</td>\n",
              "      <td>NaN</td>\n",
              "      <td>NC School of Science &amp; Math</td>\n",
              "      <td>NaN</td>\n",
              "      <td>NaN</td>\n",
              "      <td>293</td>\n",
              "      <td>NaN</td>\n",
              "      <td>1428</td>\n",
              "      <td>702</td>\n",
              "      <td>725</td>\n",
              "    </tr>\n",
              "    <tr>\n",
              "      <th>3</th>\n",
              "      <td>NaN</td>\n",
              "      <td>NaN</td>\n",
              "      <td>NC School of the Arts</td>\n",
              "      <td>NaN</td>\n",
              "      <td>NaN</td>\n",
              "      <td>88</td>\n",
              "      <td>NaN</td>\n",
              "      <td>1178</td>\n",
              "      <td>609</td>\n",
              "      <td>569</td>\n",
              "    </tr>\n",
              "    <tr>\n",
              "      <th>4</th>\n",
              "      <td>10</td>\n",
              "      <td>Alamance-Burlington Schools</td>\n",
              "      <td>NaN</td>\n",
              "      <td>NaN</td>\n",
              "      <td>NaN</td>\n",
              "      <td>672</td>\n",
              "      <td>43.2</td>\n",
              "      <td>1036</td>\n",
              "      <td>517</td>\n",
              "      <td>518</td>\n",
              "    </tr>\n",
              "    <tr>\n",
              "      <th>5</th>\n",
              "      <td>10</td>\n",
              "      <td>303</td>\n",
              "      <td>Abss Early College At Acc</td>\n",
              "      <td>NaN</td>\n",
              "      <td>NaN</td>\n",
              "      <td>19</td>\n",
              "      <td>33.3</td>\n",
              "      <td>1152</td>\n",
              "      <td>572</td>\n",
              "      <td>580</td>\n",
              "    </tr>\n",
              "    <tr>\n",
              "      <th>6</th>\n",
              "      <td>10</td>\n",
              "      <td>324</td>\n",
              "      <td>Eastern Alamance High</td>\n",
              "      <td>NaN</td>\n",
              "      <td>NaN</td>\n",
              "      <td>113</td>\n",
              "      <td>42</td>\n",
              "      <td>1079</td>\n",
              "      <td>535</td>\n",
              "      <td>544</td>\n",
              "    </tr>\n",
              "    <tr>\n",
              "      <th>7</th>\n",
              "      <td>10</td>\n",
              "      <td>348</td>\n",
              "      <td>Graham High</td>\n",
              "      <td>NaN</td>\n",
              "      <td>NaN</td>\n",
              "      <td>69</td>\n",
              "      <td>51.9</td>\n",
              "      <td>919</td>\n",
              "      <td>464</td>\n",
              "      <td>455</td>\n",
              "    </tr>\n",
              "    <tr>\n",
              "      <th>8</th>\n",
              "      <td>10</td>\n",
              "      <td>360</td>\n",
              "      <td>Hugh M Cummings High</td>\n",
              "      <td>NaN</td>\n",
              "      <td>NaN</td>\n",
              "      <td>65</td>\n",
              "      <td>31</td>\n",
              "      <td>956</td>\n",
              "      <td>476</td>\n",
              "      <td>480</td>\n",
              "    </tr>\n",
              "    <tr>\n",
              "      <th>9</th>\n",
              "      <td>10</td>\n",
              "      <td>388</td>\n",
              "      <td>Southern Alamance High</td>\n",
              "      <td>NaN</td>\n",
              "      <td>NaN</td>\n",
              "      <td>136</td>\n",
              "      <td>38.9</td>\n",
              "      <td>1028</td>\n",
              "      <td>514</td>\n",
              "      <td>514</td>\n",
              "    </tr>\n",
              "    <tr>\n",
              "      <th>10</th>\n",
              "      <td>10</td>\n",
              "      <td>396</td>\n",
              "      <td>Walter M Williams High</td>\n",
              "      <td>NaN</td>\n",
              "      <td>NaN</td>\n",
              "      <td>135</td>\n",
              "      <td>52.7</td>\n",
              "      <td>1029</td>\n",
              "      <td>516</td>\n",
              "      <td>514</td>\n",
              "    </tr>\n",
              "    <tr>\n",
              "      <th>11</th>\n",
              "      <td>10</td>\n",
              "      <td>400</td>\n",
              "      <td>Western Alamance High</td>\n",
              "      <td>NaN</td>\n",
              "      <td>NaN</td>\n",
              "      <td>135</td>\n",
              "      <td>49.1</td>\n",
              "      <td>1095</td>\n",
              "      <td>547</td>\n",
              "      <td>547</td>\n",
              "    </tr>\n",
              "    <tr>\n",
              "      <th>12</th>\n",
              "      <td>20</td>\n",
              "      <td>Alexander County Schools</td>\n",
              "      <td>NaN</td>\n",
              "      <td>NaN</td>\n",
              "      <td>NaN</td>\n",
              "      <td>78</td>\n",
              "      <td>23.4</td>\n",
              "      <td>1083</td>\n",
              "      <td>543</td>\n",
              "      <td>540</td>\n",
              "    </tr>\n",
              "    <tr>\n",
              "      <th>13</th>\n",
              "      <td>20</td>\n",
              "      <td>302</td>\n",
              "      <td>Alexander Central High</td>\n",
              "      <td>NaN</td>\n",
              "      <td>NaN</td>\n",
              "      <td>57</td>\n",
              "      <td>19.5</td>\n",
              "      <td>1061</td>\n",
              "      <td>534</td>\n",
              "      <td>528</td>\n",
              "    </tr>\n",
              "    <tr>\n",
              "      <th>14</th>\n",
              "      <td>20</td>\n",
              "      <td>303</td>\n",
              "      <td>Alexander Early College</td>\n",
              "      <td>NaN</td>\n",
              "      <td>NaN</td>\n",
              "      <td>21</td>\n",
              "      <td>51.2</td>\n",
              "      <td>1141</td>\n",
              "      <td>567</td>\n",
              "      <td>574</td>\n",
              "    </tr>\n",
              "    <tr>\n",
              "      <th>15</th>\n",
              "      <td>30</td>\n",
              "      <td>Alleghany County Schools</td>\n",
              "      <td>NaN</td>\n",
              "      <td>NaN</td>\n",
              "      <td>NaN</td>\n",
              "      <td>22</td>\n",
              "      <td>23.2</td>\n",
              "      <td>1046</td>\n",
              "      <td>515</td>\n",
              "      <td>532</td>\n",
              "    </tr>\n",
              "    <tr>\n",
              "      <th>16</th>\n",
              "      <td>30</td>\n",
              "      <td>304</td>\n",
              "      <td>Alleghany High</td>\n",
              "      <td>NaN</td>\n",
              "      <td>NaN</td>\n",
              "      <td>22</td>\n",
              "      <td>23.2</td>\n",
              "      <td>1046</td>\n",
              "      <td>515</td>\n",
              "      <td>532</td>\n",
              "    </tr>\n",
              "    <tr>\n",
              "      <th>17</th>\n",
              "      <td>40</td>\n",
              "      <td>Anson County Schools</td>\n",
              "      <td>NaN</td>\n",
              "      <td>NaN</td>\n",
              "      <td>NaN</td>\n",
              "      <td>100</td>\n",
              "      <td>46.1</td>\n",
              "      <td>948</td>\n",
              "      <td>482</td>\n",
              "      <td>466</td>\n",
              "    </tr>\n",
              "    <tr>\n",
              "      <th>18</th>\n",
              "      <td>40</td>\n",
              "      <td>304</td>\n",
              "      <td>Anson Co. Early College High</td>\n",
              "      <td>NaN</td>\n",
              "      <td>NaN</td>\n",
              "      <td>40</td>\n",
              "      <td>57.1</td>\n",
              "      <td>1024</td>\n",
              "      <td>519</td>\n",
              "      <td>505</td>\n",
              "    </tr>\n",
              "    <tr>\n",
              "      <th>19</th>\n",
              "      <td>40</td>\n",
              "      <td>306</td>\n",
              "      <td>Anson High School</td>\n",
              "      <td>NaN</td>\n",
              "      <td>NaN</td>\n",
              "      <td>60</td>\n",
              "      <td>41.7</td>\n",
              "      <td>897</td>\n",
              "      <td>457</td>\n",
              "      <td>440</td>\n",
              "    </tr>\n",
              "    <tr>\n",
              "      <th>20</th>\n",
              "      <td>50</td>\n",
              "      <td>Ashe County Schools</td>\n",
              "      <td>NaN</td>\n",
              "      <td>NaN</td>\n",
              "      <td>NaN</td>\n",
              "      <td>57</td>\n",
              "      <td>29.2</td>\n",
              "      <td>1098</td>\n",
              "      <td>564</td>\n",
              "      <td>534</td>\n",
              "    </tr>\n",
              "    <tr>\n",
              "      <th>21</th>\n",
              "      <td>50</td>\n",
              "      <td>302</td>\n",
              "      <td>Ashe County High</td>\n",
              "      <td>NaN</td>\n",
              "      <td>NaN</td>\n",
              "      <td>57</td>\n",
              "      <td>29.2</td>\n",
              "      <td>1098</td>\n",
              "      <td>564</td>\n",
              "      <td>534</td>\n",
              "    </tr>\n",
              "    <tr>\n",
              "      <th>22</th>\n",
              "      <td>60</td>\n",
              "      <td>Avery County Schools</td>\n",
              "      <td>NaN</td>\n",
              "      <td>NaN</td>\n",
              "      <td>NaN</td>\n",
              "      <td>20</td>\n",
              "      <td>18.2</td>\n",
              "      <td>1066</td>\n",
              "      <td>543</td>\n",
              "      <td>524</td>\n",
              "    </tr>\n",
              "    <tr>\n",
              "      <th>23</th>\n",
              "      <td>60</td>\n",
              "      <td>302</td>\n",
              "      <td>Avery County High</td>\n",
              "      <td>NaN</td>\n",
              "      <td>NaN</td>\n",
              "      <td>20</td>\n",
              "      <td>18.9</td>\n",
              "      <td>1066</td>\n",
              "      <td>543</td>\n",
              "      <td>524</td>\n",
              "    </tr>\n",
              "    <tr>\n",
              "      <th>24</th>\n",
              "      <td>70</td>\n",
              "      <td>Beaufort County Schools</td>\n",
              "      <td>NaN</td>\n",
              "      <td>NaN</td>\n",
              "      <td>NaN</td>\n",
              "      <td>127</td>\n",
              "      <td>26.7</td>\n",
              "      <td>1048</td>\n",
              "      <td>528</td>\n",
              "      <td>520</td>\n",
              "    </tr>\n",
              "    <tr>\n",
              "      <th>25</th>\n",
              "      <td>70</td>\n",
              "      <td>311</td>\n",
              "      <td>Beaufort Co Early College High</td>\n",
              "      <td>NaN</td>\n",
              "      <td>NaN</td>\n",
              "      <td>20</td>\n",
              "      <td>24.1</td>\n",
              "      <td>1211</td>\n",
              "      <td>618</td>\n",
              "      <td>593</td>\n",
              "    </tr>\n",
              "    <tr>\n",
              "      <th>26</th>\n",
              "      <td>70</td>\n",
              "      <td>330</td>\n",
              "      <td>Northside High</td>\n",
              "      <td>NaN</td>\n",
              "      <td>NaN</td>\n",
              "      <td>14</td>\n",
              "      <td>14</td>\n",
              "      <td>1127</td>\n",
              "      <td>556</td>\n",
              "      <td>571</td>\n",
              "    </tr>\n",
              "    <tr>\n",
              "      <th>27</th>\n",
              "      <td>70</td>\n",
              "      <td>339</td>\n",
              "      <td>Southside High</td>\n",
              "      <td>NaN</td>\n",
              "      <td>NaN</td>\n",
              "      <td>20</td>\n",
              "      <td>24.1</td>\n",
              "      <td>1002</td>\n",
              "      <td>495</td>\n",
              "      <td>507</td>\n",
              "    </tr>\n",
              "    <tr>\n",
              "      <th>28</th>\n",
              "      <td>70</td>\n",
              "      <td>342</td>\n",
              "      <td>Washington High</td>\n",
              "      <td>NaN</td>\n",
              "      <td>NaN</td>\n",
              "      <td>73</td>\n",
              "      <td>37.1</td>\n",
              "      <td>1000</td>\n",
              "      <td>507</td>\n",
              "      <td>493</td>\n",
              "    </tr>\n",
              "    <tr>\n",
              "      <th>29</th>\n",
              "      <td>80</td>\n",
              "      <td>Bertie County Schools</td>\n",
              "      <td>NaN</td>\n",
              "      <td>NaN</td>\n",
              "      <td>NaN</td>\n",
              "      <td>77</td>\n",
              "      <td>49.7</td>\n",
              "      <td>888</td>\n",
              "      <td>454</td>\n",
              "      <td>434</td>\n",
              "    </tr>\n",
              "  </tbody>\n",
              "</table>\n",
              "</div>"
            ],
            "text/plain": [
              "   Unnamed: 0          School System &School  ...  ERW  Math\n",
              "0         NaN                            NaN  ...  520   510\n",
              "1         NaN                            NaN  ...  548   540\n",
              "2         NaN                            NaN  ...  702   725\n",
              "3         NaN                            NaN  ...  609   569\n",
              "4          10   Alamance-Burlington Schools   ...  517   518\n",
              "5          10                            303  ...  572   580\n",
              "6          10                            324  ...  535   544\n",
              "7          10                            348  ...  464   455\n",
              "8          10                            360  ...  476   480\n",
              "9          10                            388  ...  514   514\n",
              "10         10                            396  ...  516   514\n",
              "11         10                            400  ...  547   547\n",
              "12         20      Alexander County Schools   ...  543   540\n",
              "13         20                            302  ...  534   528\n",
              "14         20                            303  ...  567   574\n",
              "15         30      Alleghany County Schools   ...  515   532\n",
              "16         30                            304  ...  515   532\n",
              "17         40          Anson County Schools   ...  482   466\n",
              "18         40                            304  ...  519   505\n",
              "19         40                            306  ...  457   440\n",
              "20         50           Ashe County Schools   ...  564   534\n",
              "21         50                            302  ...  564   534\n",
              "22         60          Avery County Schools   ...  543   524\n",
              "23         60                            302  ...  543   524\n",
              "24         70       Beaufort County Schools   ...  528   520\n",
              "25         70                            311  ...  618   593\n",
              "26         70                            330  ...  556   571\n",
              "27         70                            339  ...  495   507\n",
              "28         70                            342  ...  507   493\n",
              "29         80         Bertie County Schools   ...  454   434\n",
              "\n",
              "[30 rows x 10 columns]"
            ]
          },
          "metadata": {
            "tags": []
          },
          "execution_count": 8
        }
      ]
    },
    {
      "cell_type": "markdown",
      "metadata": {
        "id": "ImE87LzJqqAy"
      },
      "source": [
        "Printing the basic information about the SAT dataset\n",
        "\n"
      ]
    },
    {
      "cell_type": "code",
      "metadata": {
        "colab": {
          "base_uri": "https://localhost:8080/"
        },
        "id": "iVuNqzn13wsZ",
        "outputId": "0ad355b5-7dc4-4c4e-b0e4-409709150333"
      },
      "source": [
        "sat_df.shape"
      ],
      "execution_count": null,
      "outputs": [
        {
          "output_type": "execute_result",
          "data": {
            "text/plain": [
              "(702, 10)"
            ]
          },
          "metadata": {
            "tags": []
          },
          "execution_count": 9
        }
      ]
    },
    {
      "cell_type": "code",
      "metadata": {
        "colab": {
          "base_uri": "https://localhost:8080/"
        },
        "id": "VljaTP_e3ssj",
        "outputId": "bb41fcab-139a-4327-e2cd-5bef69c54caa"
      },
      "source": [
        "sat_df.info()"
      ],
      "execution_count": null,
      "outputs": [
        {
          "output_type": "stream",
          "text": [
            "<class 'pandas.core.frame.DataFrame'>\n",
            "RangeIndex: 702 entries, 0 to 701\n",
            "Data columns (total 10 columns):\n",
            " #   Column                 Non-Null Count  Dtype  \n",
            "---  ------                 --------------  -----  \n",
            " 0   Unnamed: 0             698 non-null    object \n",
            " 1   School System &School  698 non-null    object \n",
            " 2   Unnamed: 2             520 non-null    object \n",
            " 3   Unnamed: 3             0 non-null      float64\n",
            " 4   Unnamed: 4             0 non-null      float64\n",
            " 5   # Tested               702 non-null    object \n",
            " 6   % Tested               700 non-null    object \n",
            " 7   Total                  702 non-null    object \n",
            " 8   ERW                    702 non-null    object \n",
            " 9   Math                   702 non-null    object \n",
            "dtypes: float64(2), object(8)\n",
            "memory usage: 55.0+ KB\n"
          ],
          "name": "stdout"
        }
      ]
    },
    {
      "cell_type": "markdown",
      "metadata": {
        "id": "t88IE9rvq-XF"
      },
      "source": [
        "Checking null values for SAT dataset"
      ]
    },
    {
      "cell_type": "code",
      "metadata": {
        "colab": {
          "base_uri": "https://localhost:8080/"
        },
        "id": "H3Qb_W4G30VV",
        "outputId": "897a3c06-4b15-4f0d-b2e0-988dd944b503"
      },
      "source": [
        "sat_df.isna().sum()"
      ],
      "execution_count": null,
      "outputs": [
        {
          "output_type": "execute_result",
          "data": {
            "text/plain": [
              "Unnamed: 0                 4\n",
              "School System &School      4\n",
              "Unnamed: 2               182\n",
              "Unnamed: 3               702\n",
              "Unnamed: 4               702\n",
              "# Tested                   0\n",
              "% Tested                   2\n",
              "Total                      0\n",
              "ERW                        0\n",
              "Math                       0\n",
              "dtype: int64"
            ]
          },
          "metadata": {
            "tags": []
          },
          "execution_count": 11
        }
      ]
    },
    {
      "cell_type": "markdown",
      "metadata": {
        "id": "5OltjEU6J1C0"
      },
      "source": [
        "3) 2019-2020 ACT Dataset"
      ]
    },
    {
      "cell_type": "code",
      "metadata": {
        "colab": {
          "base_uri": "https://localhost:8080/",
          "height": 1000
        },
        "id": "lWki1OrKOzEo",
        "outputId": "56621f22-8a69-4788-f088-f62548adbcae"
      },
      "source": [
        "act_df = pd.read_excel('/content/drive/Shared drives/Data Science for All - Empowerment/education-data-analysis-project/actgrads2019-2020_10122020.xlsx')\n",
        "act_df.head(15)"
      ],
      "execution_count": null,
      "outputs": [
        {
          "output_type": "execute_result",
          "data": {
            "text/html": [
              "<div>\n",
              "<style scoped>\n",
              "    .dataframe tbody tr th:only-of-type {\n",
              "        vertical-align: middle;\n",
              "    }\n",
              "\n",
              "    .dataframe tbody tr th {\n",
              "        vertical-align: top;\n",
              "    }\n",
              "\n",
              "    .dataframe thead th {\n",
              "        text-align: right;\n",
              "    }\n",
              "</style>\n",
              "<table border=\"1\" class=\"dataframe\">\n",
              "  <thead>\n",
              "    <tr style=\"text-align: right;\">\n",
              "      <th></th>\n",
              "      <th>Unnamed: 0</th>\n",
              "      <th>Unnamed: 1</th>\n",
              "      <th>School System &amp; School</th>\n",
              "      <th># tested</th>\n",
              "      <th>Average Composite Score</th>\n",
              "      <th>Average English Score</th>\n",
              "      <th>% Met English Benchmark</th>\n",
              "      <th>Average Math Score</th>\n",
              "      <th>% Met Math Benchmark</th>\n",
              "      <th>Average Reading Score</th>\n",
              "      <th>% Met Reading Benchmark</th>\n",
              "      <th>Average Science Score</th>\n",
              "      <th>% Met Science Benchmark</th>\n",
              "      <th>% Met All Four Benchmarks</th>\n",
              "    </tr>\n",
              "  </thead>\n",
              "  <tbody>\n",
              "    <tr>\n",
              "      <th>0</th>\n",
              "      <td>NaN</td>\n",
              "      <td>NaN</td>\n",
              "      <td>United States (All Students)</td>\n",
              "      <td>1670497.0</td>\n",
              "      <td>20.6</td>\n",
              "      <td>19.9</td>\n",
              "      <td>58</td>\n",
              "      <td>20.2</td>\n",
              "      <td>37</td>\n",
              "      <td>21.2</td>\n",
              "      <td>45</td>\n",
              "      <td>20.6</td>\n",
              "      <td>36</td>\n",
              "      <td>26</td>\n",
              "    </tr>\n",
              "    <tr>\n",
              "      <th>1</th>\n",
              "      <td>NaN</td>\n",
              "      <td>NaN</td>\n",
              "      <td>North Carolina (All Students)</td>\n",
              "      <td>108350.0</td>\n",
              "      <td>18.8</td>\n",
              "      <td>17.3</td>\n",
              "      <td>43</td>\n",
              "      <td>18.9</td>\n",
              "      <td>28</td>\n",
              "      <td>19.5</td>\n",
              "      <td>35</td>\n",
              "      <td>18.9</td>\n",
              "      <td>27</td>\n",
              "      <td>18</td>\n",
              "    </tr>\n",
              "    <tr>\n",
              "      <th>2</th>\n",
              "      <td>NaN</td>\n",
              "      <td>NaN</td>\n",
              "      <td>State of North Carolina</td>\n",
              "      <td>103276.0</td>\n",
              "      <td>18.6</td>\n",
              "      <td>17</td>\n",
              "      <td>41</td>\n",
              "      <td>18.8</td>\n",
              "      <td>26</td>\n",
              "      <td>19.2</td>\n",
              "      <td>34</td>\n",
              "      <td>18.7</td>\n",
              "      <td>25</td>\n",
              "      <td>17</td>\n",
              "    </tr>\n",
              "    <tr>\n",
              "      <th>3</th>\n",
              "      <td>NaN</td>\n",
              "      <td>NaN</td>\n",
              "      <td>NC School Of Science &amp; Math</td>\n",
              "      <td>174.0</td>\n",
              "      <td>32.4</td>\n",
              "      <td>32.4</td>\n",
              "      <td>&gt;95</td>\n",
              "      <td>31.7</td>\n",
              "      <td>&gt;95</td>\n",
              "      <td>32.5</td>\n",
              "      <td>&gt;95</td>\n",
              "      <td>32.1</td>\n",
              "      <td>&gt;95</td>\n",
              "      <td>&gt;95</td>\n",
              "    </tr>\n",
              "    <tr>\n",
              "      <th>4</th>\n",
              "      <td>NaN</td>\n",
              "      <td>NaN</td>\n",
              "      <td>NC School Of The Arts</td>\n",
              "      <td>31.0</td>\n",
              "      <td>26.4</td>\n",
              "      <td>28.5</td>\n",
              "      <td>&gt;95</td>\n",
              "      <td>23.9</td>\n",
              "      <td>68</td>\n",
              "      <td>28.4</td>\n",
              "      <td>84</td>\n",
              "      <td>24.2</td>\n",
              "      <td>71</td>\n",
              "      <td>55</td>\n",
              "    </tr>\n",
              "    <tr>\n",
              "      <th>5</th>\n",
              "      <td>010</td>\n",
              "      <td>010</td>\n",
              "      <td>Alamance-Burlington Schools</td>\n",
              "      <td>1575.0</td>\n",
              "      <td>17.2</td>\n",
              "      <td>15.4</td>\n",
              "      <td>30</td>\n",
              "      <td>17.8</td>\n",
              "      <td>19</td>\n",
              "      <td>17.6</td>\n",
              "      <td>23</td>\n",
              "      <td>17.6</td>\n",
              "      <td>19</td>\n",
              "      <td>10</td>\n",
              "    </tr>\n",
              "    <tr>\n",
              "      <th>6</th>\n",
              "      <td>010</td>\n",
              "      <td>010303</td>\n",
              "      <td>ABSS Early College at ACC</td>\n",
              "      <td>59.0</td>\n",
              "      <td>22.6</td>\n",
              "      <td>21.3</td>\n",
              "      <td>80</td>\n",
              "      <td>22.8</td>\n",
              "      <td>64</td>\n",
              "      <td>23.2</td>\n",
              "      <td>51</td>\n",
              "      <td>22.7</td>\n",
              "      <td>58</td>\n",
              "      <td>37</td>\n",
              "    </tr>\n",
              "    <tr>\n",
              "      <th>7</th>\n",
              "      <td>010</td>\n",
              "      <td>010324</td>\n",
              "      <td>Eastern Alamance High</td>\n",
              "      <td>296.0</td>\n",
              "      <td>17.5</td>\n",
              "      <td>15.8</td>\n",
              "      <td>33</td>\n",
              "      <td>18.1</td>\n",
              "      <td>21</td>\n",
              "      <td>17.9</td>\n",
              "      <td>26</td>\n",
              "      <td>17.7</td>\n",
              "      <td>21</td>\n",
              "      <td>11</td>\n",
              "    </tr>\n",
              "    <tr>\n",
              "      <th>8</th>\n",
              "      <td>010</td>\n",
              "      <td>010348</td>\n",
              "      <td>Graham High</td>\n",
              "      <td>131.0</td>\n",
              "      <td>15.2</td>\n",
              "      <td>13</td>\n",
              "      <td>13</td>\n",
              "      <td>16.1</td>\n",
              "      <td>6</td>\n",
              "      <td>15.8</td>\n",
              "      <td>12</td>\n",
              "      <td>15.7</td>\n",
              "      <td>8</td>\n",
              "      <td>&lt;5</td>\n",
              "    </tr>\n",
              "    <tr>\n",
              "      <th>9</th>\n",
              "      <td>010</td>\n",
              "      <td>010360</td>\n",
              "      <td>Hugh M Cummings High</td>\n",
              "      <td>212.0</td>\n",
              "      <td>14.2</td>\n",
              "      <td>11.4</td>\n",
              "      <td>7</td>\n",
              "      <td>15.5</td>\n",
              "      <td>6</td>\n",
              "      <td>14.1</td>\n",
              "      <td>7</td>\n",
              "      <td>15</td>\n",
              "      <td>5</td>\n",
              "      <td>&lt;5</td>\n",
              "    </tr>\n",
              "    <tr>\n",
              "      <th>10</th>\n",
              "      <td>010</td>\n",
              "      <td>010378</td>\n",
              "      <td>Ray Street Academy</td>\n",
              "      <td>2.0</td>\n",
              "      <td>*</td>\n",
              "      <td>*</td>\n",
              "      <td>*</td>\n",
              "      <td>*</td>\n",
              "      <td>*</td>\n",
              "      <td>*</td>\n",
              "      <td>*</td>\n",
              "      <td>*</td>\n",
              "      <td>*</td>\n",
              "      <td>*</td>\n",
              "    </tr>\n",
              "    <tr>\n",
              "      <th>11</th>\n",
              "      <td>010</td>\n",
              "      <td>010388</td>\n",
              "      <td>Southern Alamance High</td>\n",
              "      <td>339.0</td>\n",
              "      <td>17.7</td>\n",
              "      <td>15.9</td>\n",
              "      <td>32</td>\n",
              "      <td>17.7</td>\n",
              "      <td>17</td>\n",
              "      <td>18.3</td>\n",
              "      <td>24</td>\n",
              "      <td>18.2</td>\n",
              "      <td>19</td>\n",
              "      <td>9</td>\n",
              "    </tr>\n",
              "    <tr>\n",
              "      <th>12</th>\n",
              "      <td>010</td>\n",
              "      <td>010396</td>\n",
              "      <td>Walter M Williams High</td>\n",
              "      <td>257.0</td>\n",
              "      <td>17.1</td>\n",
              "      <td>15.4</td>\n",
              "      <td>30</td>\n",
              "      <td>18</td>\n",
              "      <td>19</td>\n",
              "      <td>17</td>\n",
              "      <td>18</td>\n",
              "      <td>17.2</td>\n",
              "      <td>18</td>\n",
              "      <td>10</td>\n",
              "    </tr>\n",
              "    <tr>\n",
              "      <th>13</th>\n",
              "      <td>010</td>\n",
              "      <td>010400</td>\n",
              "      <td>Western Alamance High</td>\n",
              "      <td>279.0</td>\n",
              "      <td>18.8</td>\n",
              "      <td>17.2</td>\n",
              "      <td>41</td>\n",
              "      <td>19.1</td>\n",
              "      <td>29</td>\n",
              "      <td>19.4</td>\n",
              "      <td>34</td>\n",
              "      <td>18.9</td>\n",
              "      <td>24</td>\n",
              "      <td>16</td>\n",
              "    </tr>\n",
              "    <tr>\n",
              "      <th>14</th>\n",
              "      <td>020</td>\n",
              "      <td>020</td>\n",
              "      <td>Alexander County Schools</td>\n",
              "      <td>318.0</td>\n",
              "      <td>18.2</td>\n",
              "      <td>16.7</td>\n",
              "      <td>40</td>\n",
              "      <td>18.6</td>\n",
              "      <td>21</td>\n",
              "      <td>18.6</td>\n",
              "      <td>28</td>\n",
              "      <td>18.5</td>\n",
              "      <td>21</td>\n",
              "      <td>13</td>\n",
              "    </tr>\n",
              "  </tbody>\n",
              "</table>\n",
              "</div>"
            ],
            "text/plain": [
              "   Unnamed: 0 Unnamed: 1  ... % Met Science Benchmark  % Met All Four Benchmarks\n",
              "0         NaN        NaN  ...                      36                         26\n",
              "1         NaN        NaN  ...                      27                         18\n",
              "2         NaN        NaN  ...                      25                         17\n",
              "3         NaN        NaN  ...                     >95                        >95\n",
              "4         NaN        NaN  ...                      71                         55\n",
              "5         010        010  ...                      19                         10\n",
              "6         010     010303  ...                      58                         37\n",
              "7         010     010324  ...                      21                         11\n",
              "8         010     010348  ...                       8                         <5\n",
              "9         010     010360  ...                       5                         <5\n",
              "10        010     010378  ...                       *                          *\n",
              "11        010     010388  ...                      19                          9\n",
              "12        010     010396  ...                      18                         10\n",
              "13        010     010400  ...                      24                         16\n",
              "14        020        020  ...                      21                         13\n",
              "\n",
              "[15 rows x 14 columns]"
            ]
          },
          "metadata": {
            "tags": []
          },
          "execution_count": 12
        }
      ]
    },
    {
      "cell_type": "markdown",
      "metadata": {
        "id": "vMCkyxPFqxKL"
      },
      "source": [
        "Printing the basic information about the ACT dataset\n",
        "\n"
      ]
    },
    {
      "cell_type": "code",
      "metadata": {
        "colab": {
          "base_uri": "https://localhost:8080/"
        },
        "id": "fG7C4f474MT8",
        "outputId": "707a900a-43fe-4bde-9d55-fc65731d7ae4"
      },
      "source": [
        "act_df.shape"
      ],
      "execution_count": null,
      "outputs": [
        {
          "output_type": "execute_result",
          "data": {
            "text/plain": [
              "(766, 14)"
            ]
          },
          "metadata": {
            "tags": []
          },
          "execution_count": 13
        }
      ]
    },
    {
      "cell_type": "code",
      "metadata": {
        "colab": {
          "base_uri": "https://localhost:8080/"
        },
        "id": "OGf_Nk-a4QBU",
        "outputId": "72ba8210-6ee5-4c47-aa3e-2810ccf9a908"
      },
      "source": [
        "act_df.info()"
      ],
      "execution_count": null,
      "outputs": [
        {
          "output_type": "stream",
          "text": [
            "<class 'pandas.core.frame.DataFrame'>\n",
            "RangeIndex: 766 entries, 0 to 765\n",
            "Data columns (total 14 columns):\n",
            " #   Column                     Non-Null Count  Dtype  \n",
            "---  ------                     --------------  -----  \n",
            " 0   Unnamed: 0                 761 non-null    object \n",
            " 1   Unnamed: 1                 760 non-null    object \n",
            " 2   School System & School     692 non-null    object \n",
            " 3    # tested                  765 non-null    float64\n",
            " 4   Average Composite Score    765 non-null    object \n",
            " 5   Average English Score      765 non-null    object \n",
            " 6   % Met English Benchmark    765 non-null    object \n",
            " 7   Average Math Score         765 non-null    object \n",
            " 8   % Met Math Benchmark       765 non-null    object \n",
            " 9   Average Reading Score      765 non-null    object \n",
            " 10  % Met Reading Benchmark    765 non-null    object \n",
            " 11  Average Science Score      765 non-null    object \n",
            " 12  % Met Science Benchmark    765 non-null    object \n",
            " 13  % Met All Four Benchmarks  765 non-null    object \n",
            "dtypes: float64(1), object(13)\n",
            "memory usage: 83.9+ KB\n"
          ],
          "name": "stdout"
        }
      ]
    },
    {
      "cell_type": "markdown",
      "metadata": {
        "id": "n8nJHD7trB67"
      },
      "source": [
        "Checking null values for ACT dataset"
      ]
    },
    {
      "cell_type": "code",
      "metadata": {
        "colab": {
          "base_uri": "https://localhost:8080/"
        },
        "id": "I9tWku2e4XQw",
        "outputId": "305454a2-d2fe-4a26-a6c8-055826355a1e"
      },
      "source": [
        "act_df.isna().sum()"
      ],
      "execution_count": null,
      "outputs": [
        {
          "output_type": "execute_result",
          "data": {
            "text/plain": [
              "Unnamed: 0                    5\n",
              "Unnamed: 1                    6\n",
              "School System & School       74\n",
              " # tested                     1\n",
              "Average Composite Score       1\n",
              "Average English Score         1\n",
              "% Met English Benchmark       1\n",
              "Average Math Score            1\n",
              "% Met Math Benchmark          1\n",
              "Average Reading Score         1\n",
              "% Met Reading Benchmark       1\n",
              "Average Science Score         1\n",
              "% Met Science Benchmark       1\n",
              "% Met All Four Benchmarks     1\n",
              "dtype: int64"
            ]
          },
          "metadata": {
            "tags": []
          },
          "execution_count": 15
        }
      ]
    },
    {
      "cell_type": "markdown",
      "metadata": {
        "id": "2Py5j7IUu5Rg"
      },
      "source": [
        "# Data Cleaning"
      ]
    },
    {
      "cell_type": "markdown",
      "metadata": {
        "id": "L8iMQnQyL1qM"
      },
      "source": [
        "### ACT Dataset Cleaning "
      ]
    },
    {
      "cell_type": "markdown",
      "metadata": {
        "id": "fVZZJWG_L_6z"
      },
      "source": [
        "Removing top 3 rows \n"
      ]
    },
    {
      "cell_type": "code",
      "metadata": {
        "id": "xwMNY5l5L_ki"
      },
      "source": [
        "act_df = act_df.iloc[3:]"
      ],
      "execution_count": null,
      "outputs": []
    },
    {
      "cell_type": "code",
      "metadata": {
        "colab": {
          "base_uri": "https://localhost:8080/",
          "height": 479
        },
        "id": "mkw4h5ipLyCs",
        "outputId": "d5ba2838-db27-4820-b8c2-cc506dd00e21"
      },
      "source": [
        "act_df.head()"
      ],
      "execution_count": null,
      "outputs": [
        {
          "output_type": "execute_result",
          "data": {
            "text/html": [
              "<div>\n",
              "<style scoped>\n",
              "    .dataframe tbody tr th:only-of-type {\n",
              "        vertical-align: middle;\n",
              "    }\n",
              "\n",
              "    .dataframe tbody tr th {\n",
              "        vertical-align: top;\n",
              "    }\n",
              "\n",
              "    .dataframe thead th {\n",
              "        text-align: right;\n",
              "    }\n",
              "</style>\n",
              "<table border=\"1\" class=\"dataframe\">\n",
              "  <thead>\n",
              "    <tr style=\"text-align: right;\">\n",
              "      <th></th>\n",
              "      <th>Unnamed: 0</th>\n",
              "      <th>Unnamed: 1</th>\n",
              "      <th>School System &amp; School</th>\n",
              "      <th># tested</th>\n",
              "      <th>Average Composite Score</th>\n",
              "      <th>Average English Score</th>\n",
              "      <th>% Met English Benchmark</th>\n",
              "      <th>Average Math Score</th>\n",
              "      <th>% Met Math Benchmark</th>\n",
              "      <th>Average Reading Score</th>\n",
              "      <th>% Met Reading Benchmark</th>\n",
              "      <th>Average Science Score</th>\n",
              "      <th>% Met Science Benchmark</th>\n",
              "      <th>% Met All Four Benchmarks</th>\n",
              "    </tr>\n",
              "  </thead>\n",
              "  <tbody>\n",
              "    <tr>\n",
              "      <th>3</th>\n",
              "      <td>NaN</td>\n",
              "      <td>NaN</td>\n",
              "      <td>NC School Of Science &amp; Math</td>\n",
              "      <td>174.0</td>\n",
              "      <td>32.4</td>\n",
              "      <td>32.4</td>\n",
              "      <td>&gt;95</td>\n",
              "      <td>31.7</td>\n",
              "      <td>&gt;95</td>\n",
              "      <td>32.5</td>\n",
              "      <td>&gt;95</td>\n",
              "      <td>32.1</td>\n",
              "      <td>&gt;95</td>\n",
              "      <td>&gt;95</td>\n",
              "    </tr>\n",
              "    <tr>\n",
              "      <th>4</th>\n",
              "      <td>NaN</td>\n",
              "      <td>NaN</td>\n",
              "      <td>NC School Of The Arts</td>\n",
              "      <td>31.0</td>\n",
              "      <td>26.4</td>\n",
              "      <td>28.5</td>\n",
              "      <td>&gt;95</td>\n",
              "      <td>23.9</td>\n",
              "      <td>68</td>\n",
              "      <td>28.4</td>\n",
              "      <td>84</td>\n",
              "      <td>24.2</td>\n",
              "      <td>71</td>\n",
              "      <td>55</td>\n",
              "    </tr>\n",
              "    <tr>\n",
              "      <th>5</th>\n",
              "      <td>010</td>\n",
              "      <td>010</td>\n",
              "      <td>Alamance-Burlington Schools</td>\n",
              "      <td>1575.0</td>\n",
              "      <td>17.2</td>\n",
              "      <td>15.4</td>\n",
              "      <td>30</td>\n",
              "      <td>17.8</td>\n",
              "      <td>19</td>\n",
              "      <td>17.6</td>\n",
              "      <td>23</td>\n",
              "      <td>17.6</td>\n",
              "      <td>19</td>\n",
              "      <td>10</td>\n",
              "    </tr>\n",
              "    <tr>\n",
              "      <th>6</th>\n",
              "      <td>010</td>\n",
              "      <td>010303</td>\n",
              "      <td>ABSS Early College at ACC</td>\n",
              "      <td>59.0</td>\n",
              "      <td>22.6</td>\n",
              "      <td>21.3</td>\n",
              "      <td>80</td>\n",
              "      <td>22.8</td>\n",
              "      <td>64</td>\n",
              "      <td>23.2</td>\n",
              "      <td>51</td>\n",
              "      <td>22.7</td>\n",
              "      <td>58</td>\n",
              "      <td>37</td>\n",
              "    </tr>\n",
              "    <tr>\n",
              "      <th>7</th>\n",
              "      <td>010</td>\n",
              "      <td>010324</td>\n",
              "      <td>Eastern Alamance High</td>\n",
              "      <td>296.0</td>\n",
              "      <td>17.5</td>\n",
              "      <td>15.8</td>\n",
              "      <td>33</td>\n",
              "      <td>18.1</td>\n",
              "      <td>21</td>\n",
              "      <td>17.9</td>\n",
              "      <td>26</td>\n",
              "      <td>17.7</td>\n",
              "      <td>21</td>\n",
              "      <td>11</td>\n",
              "    </tr>\n",
              "  </tbody>\n",
              "</table>\n",
              "</div>"
            ],
            "text/plain": [
              "  Unnamed: 0 Unnamed: 1  ... % Met Science Benchmark  % Met All Four Benchmarks\n",
              "3        NaN        NaN  ...                     >95                        >95\n",
              "4        NaN        NaN  ...                      71                         55\n",
              "5        010        010  ...                      19                         10\n",
              "6        010     010303  ...                      58                         37\n",
              "7        010     010324  ...                      21                         11\n",
              "\n",
              "[5 rows x 14 columns]"
            ]
          },
          "metadata": {
            "tags": []
          },
          "execution_count": 17
        }
      ]
    },
    {
      "cell_type": "markdown",
      "metadata": {
        "id": "OrI90Llc8WWR"
      },
      "source": [
        "Preparing Strings To Numeric Values"
      ]
    },
    {
      "cell_type": "code",
      "metadata": {
        "id": "H952MB4w-64m"
      },
      "source": [
        "act_df = act_df.apply(lambda x: str(x).replace('>95', '95'))\n",
        "act_df = act_df.apply(lambda x: str(x).replace('<5', '5'))\n",
        "act_df = act_df.apply(lambda x: str(x).replace('*', '0'))\n",
        "act_df = act_df.apply(lambda x: str(x).replace('nan', '999'))\n",
        "act_df = act_df.apply(lambda x: str(x).replace('      .', '0'))"
      ],
      "execution_count": null,
      "outputs": []
    },
    {
      "cell_type": "markdown",
      "metadata": {
        "id": "E-pvW8coNMyp"
      },
      "source": [
        "Changing data types of columns to float"
      ]
    },
    {
      "cell_type": "code",
      "metadata": {
        "id": "UvqNA9ixALnX"
      },
      "source": [
        "\n",
        "columns_to_float = [' # tested', 'Average Composite Score', 'Average English Score','% Met English Benchmark', 'Average Math Score', '% Met Math Benchmark',\n",
        "                    'Average Reading Score', '% Met Reading Benchmark', 'Average Science Score ', '% Met Science Benchmark', '% Met All Four Benchmarks']\n",
        "for column in columns_to_float:\n",
        "  act_df[column] = pd.to_numeric(act_df[column], errors='coerce')\n",
        "\n",
        "\n"
      ],
      "execution_count": null,
      "outputs": []
    },
    {
      "cell_type": "markdown",
      "metadata": {
        "id": "HkPIuyWN03e2"
      },
      "source": [
        "### SAT Dataset Cleaning "
      ]
    },
    {
      "cell_type": "code",
      "metadata": {
        "id": "0VUzUCo93VDD"
      },
      "source": [
        "sat_df = sat_df.iloc[2:]"
      ],
      "execution_count": null,
      "outputs": []
    },
    {
      "cell_type": "code",
      "metadata": {
        "id": "ARMrK19e1w9L"
      },
      "source": [
        "sat_df['# Tested'] = sat_df['# Tested'].apply(lambda x: str(x).replace('<10', '10'))"
      ],
      "execution_count": null,
      "outputs": []
    },
    {
      "cell_type": "code",
      "metadata": {
        "id": "BH2--3CJ3pJW"
      },
      "source": [
        "sat_df['# Tested'] = pd.to_numeric(sat_df['# Tested'], errors='coerce')"
      ],
      "execution_count": null,
      "outputs": []
    },
    {
      "cell_type": "code",
      "metadata": {
        "id": "ZA7W_fL_1IXW"
      },
      "source": [
        "sat_df = sat_df.drop('Unnamed: 3', axis = 1) \n",
        "sat_df = sat_df.drop('Unnamed: 4', axis = 1) "
      ],
      "execution_count": null,
      "outputs": []
    },
    {
      "cell_type": "markdown",
      "metadata": {
        "id": "8PrJELsivDJ9"
      },
      "source": [
        "### Schools_df dataset cleaning"
      ]
    },
    {
      "cell_type": "markdown",
      "metadata": {
        "id": "o6ZrW-sxTuXg"
      },
      "source": [
        "Dropping unnecessary columns"
      ]
    },
    {
      "cell_type": "code",
      "metadata": {
        "id": "9HHCNmx-TktS"
      },
      "source": [
        "columns_to_drop = ['asm_option', 'k2_feeder', 'use_3yr', 'use_alt_weight', 'scgs_score', 'reporting_year',\n",
        "                   'rd_spg_grade', 'rd_spg_score', 'rdgs_ach_score', 'rd_eg_score', 'rd_eg_status', 'rd_eg_index', \n",
        "                   'ma_spg_grade', 'ma_spg_score', 'mags_ach_score', 'ma_eg_score', 'ma_eg_status', 'ma_eg_index']\n",
        "schools_df = schools_df.drop(columns_to_drop, axis = 1) "
      ],
      "execution_count": null,
      "outputs": []
    },
    {
      "cell_type": "markdown",
      "metadata": {
        "id": "bzsJqQOdBewF"
      },
      "source": [
        "Dropping unnecessary rows from grade_span column\n",
        "\n",
        "We focus on the high schools so we drop the other schools from grade_span column. After droping elementary and middle schools, we have 6600 rows.\n",
        "\n"
      ]
    },
    {
      "cell_type": "code",
      "metadata": {
        "id": "lzx6DguGArQr"
      },
      "source": [
        "grade_span_to_drop = ['01-05','01-08','02-03','02-04','02-05','03-05','03-08','04-05','04-06','04-08',\n",
        "                      '04-09','05-06','05-08','05-09','06-06','06-07','06-08','06-09','06-10','07-08',\n",
        "                      '09-09','09-10','09-11','0K-01','0K-02','0K-03','0K-04','0K-05','0K-06','0K-07',\n",
        "                      '0K-08','0K-09','0K-11','PK-01','PK-02','PK-03','PK-04','PK-05','PK-06','PK-07',\n",
        "                      'PK-08','PK-09','PK-0K','UN-GR']\n",
        "\n",
        "schools_df = schools_df[~schools_df['grade_span'].isin(grade_span_to_drop)]"
      ],
      "execution_count": null,
      "outputs": []
    },
    {
      "cell_type": "markdown",
      "metadata": {
        "id": "ABoLpxVpsMuk"
      },
      "source": [
        "After dropping we have 6600 rows. "
      ]
    },
    {
      "cell_type": "code",
      "metadata": {
        "colab": {
          "base_uri": "https://localhost:8080/"
        },
        "id": "xt81Ig0kKlvb",
        "outputId": "b914e95a-021c-4125-958d-b252763c6af3"
      },
      "source": [
        "schools_df.shape"
      ],
      "execution_count": null,
      "outputs": [
        {
          "output_type": "execute_result",
          "data": {
            "text/plain": [
              "(6600, 21)"
            ]
          },
          "metadata": {
            "tags": []
          },
          "execution_count": 26
        }
      ]
    },
    {
      "cell_type": "code",
      "metadata": {
        "colab": {
          "base_uri": "https://localhost:8080/"
        },
        "id": "esQ9zolSLJPk",
        "outputId": "29ef94f0-5519-4e6d-cf63-d0bf7f2cf0a6"
      },
      "source": [
        "schools_df.info()"
      ],
      "execution_count": null,
      "outputs": [
        {
          "output_type": "stream",
          "text": [
            "<class 'pandas.core.frame.DataFrame'>\n",
            "Int64Index: 6600 entries, 0 to 26539\n",
            "Data columns (total 21 columns):\n",
            " #   Column       Non-Null Count  Dtype  \n",
            "---  ------       --------------  -----  \n",
            " 0   lea_code     6600 non-null   object \n",
            " 1   lea_name     6600 non-null   object \n",
            " 2   school_code  6600 non-null   object \n",
            " 3   school_name  6600 non-null   object \n",
            " 4   sbe_region   6600 non-null   object \n",
            " 5   grade_span   6600 non-null   object \n",
            " 6   title_1      1140 non-null   object \n",
            " 7   missed_days  6600 non-null   float64\n",
            " 8   subgroup     6600 non-null   object \n",
            " 9   spg_grade    6570 non-null   object \n",
            " 10  spg_score    3165 non-null   float64\n",
            " 11  ach_score    3165 non-null   float64\n",
            " 12  eg_score     2880 non-null   float64\n",
            " 13  eg_status    2880 non-null   object \n",
            " 14  eg_index     2880 non-null   float64\n",
            " 15  aaa_score    3143 non-null   object \n",
            " 16  elp_score    140 non-null    object \n",
            " 17  cgrs_score   2122 non-null   object \n",
            " 18  bi_score     2059 non-null   object \n",
            " 19  awa_score    1797 non-null   object \n",
            " 20  mcr_score    1967 non-null   object \n",
            "dtypes: float64(5), object(16)\n",
            "memory usage: 1.1+ MB\n"
          ],
          "name": "stdout"
        }
      ]
    },
    {
      "cell_type": "code",
      "metadata": {
        "colab": {
          "base_uri": "https://localhost:8080/"
        },
        "id": "bErp3XRRLeoo",
        "outputId": "8ef6677e-b36d-4523-92c7-dc8cecef279c"
      },
      "source": [
        "schools_df.isna().sum()"
      ],
      "execution_count": null,
      "outputs": [
        {
          "output_type": "execute_result",
          "data": {
            "text/plain": [
              "lea_code          0\n",
              "lea_name          0\n",
              "school_code       0\n",
              "school_name       0\n",
              "sbe_region        0\n",
              "grade_span        0\n",
              "title_1        5460\n",
              "missed_days       0\n",
              "subgroup          0\n",
              "spg_grade        30\n",
              "spg_score      3435\n",
              "ach_score      3435\n",
              "eg_score       3720\n",
              "eg_status      3720\n",
              "eg_index       3720\n",
              "aaa_score      3457\n",
              "elp_score      6460\n",
              "cgrs_score     4478\n",
              "bi_score       4541\n",
              "awa_score      4803\n",
              "mcr_score      4633\n",
              "dtype: int64"
            ]
          },
          "metadata": {
            "tags": []
          },
          "execution_count": 28
        }
      ]
    },
    {
      "cell_type": "code",
      "metadata": {
        "id": "lszoQlnRVXpO"
      },
      "source": [
        "columns_to_numeric = ['elp_score', 'cgrs_score', 'bi_score', 'awa_score', 'mcr_score']\n",
        "for column in columns_to_numeric:\n",
        "  schools_df[column] = schools_df[column].apply(lambda x: str(x).replace('<5', '5'))\n",
        "  schools_df[column] = schools_df[column].apply(lambda x: str(x).replace('nan', '999'))"
      ],
      "execution_count": null,
      "outputs": []
    },
    {
      "cell_type": "code",
      "metadata": {
        "id": "sLOThklWVFC-"
      },
      "source": [
        "for column in columns_to_numeric:\n",
        "  schools_df[column] = pd.to_numeric(schools_df[column], errors='coerce')"
      ],
      "execution_count": null,
      "outputs": []
    },
    {
      "cell_type": "code",
      "metadata": {
        "id": "vm2DHTmPxIw2"
      },
      "source": [
        "schools_df['title_1'] = schools_df['title_1'].apply(lambda x: str(x).replace('nan', 'N'))\n",
        "schools_df['spg_grade'] = schools_df['spg_grade'].apply(lambda x: str(x).replace('nan', 'I'))\n",
        "schools_df['spg_score'] = schools_df['spg_score'].apply(lambda x: str(x).replace('nan', '999'))\n",
        "schools_df['ach_score'] = schools_df['ach_score'].apply(lambda x: str(x).replace('nan', '999'))\n",
        "schools_df['eg_score'] = schools_df['eg_score'].apply(lambda x: str(x).replace('nan', '999'))\n",
        "schools_df['eg_status'] = schools_df['eg_status'].apply(lambda x: str(x).replace('nan', 'insuff_data'))\n",
        "schools_df['eg_index'] = schools_df['eg_index'].apply(lambda x: str(x).replace('nan', '50.'))\n"
      ],
      "execution_count": null,
      "outputs": []
    },
    {
      "cell_type": "markdown",
      "metadata": {
        "id": "_lHcou5191wo"
      },
      "source": [
        "Making A Dataframe Without Demografic Subgroups"
      ]
    },
    {
      "cell_type": "markdown",
      "metadata": {
        "id": "b7fZyWuDsdLu"
      },
      "source": [
        "When we exclude the subgroups we have only the unique schools. This school_df_all can be joined with zip code information to discover the unique properties of the schools. We have 660 schools after eliminating the subgroups."
      ]
    },
    {
      "cell_type": "code",
      "metadata": {
        "id": "QScS_u33OP7h"
      },
      "source": [
        "schools_df_all = schools_df[schools_df['subgroup'].isin(['ALL'])]"
      ],
      "execution_count": null,
      "outputs": []
    },
    {
      "cell_type": "code",
      "metadata": {
        "colab": {
          "base_uri": "https://localhost:8080/"
        },
        "id": "qLjAMP_SPERe",
        "outputId": "19825f72-0b18-407d-861f-3ef6160de079"
      },
      "source": [
        "schools_df_all.shape"
      ],
      "execution_count": null,
      "outputs": [
        {
          "output_type": "execute_result",
          "data": {
            "text/plain": [
              "(660, 21)"
            ]
          },
          "metadata": {
            "tags": []
          },
          "execution_count": 33
        }
      ]
    },
    {
      "cell_type": "code",
      "metadata": {
        "colab": {
          "base_uri": "https://localhost:8080/"
        },
        "id": "Q03fSsqzPLUB",
        "outputId": "10b7f121-d176-4f53-8b77-3b10ac6e01a9"
      },
      "source": [
        "schools_df_all.isna().sum()"
      ],
      "execution_count": null,
      "outputs": [
        {
          "output_type": "execute_result",
          "data": {
            "text/plain": [
              "lea_code         0\n",
              "lea_name         0\n",
              "school_code      0\n",
              "school_name      0\n",
              "sbe_region       0\n",
              "grade_span       0\n",
              "title_1          0\n",
              "missed_days      0\n",
              "subgroup         0\n",
              "spg_grade        0\n",
              "spg_score        0\n",
              "ach_score        0\n",
              "eg_score         0\n",
              "eg_status        0\n",
              "eg_index         0\n",
              "aaa_score      103\n",
              "elp_score        0\n",
              "cgrs_score     139\n",
              "bi_score        34\n",
              "awa_score       32\n",
              "mcr_score      264\n",
              "dtype: int64"
            ]
          },
          "metadata": {
            "tags": []
          },
          "execution_count": 34
        }
      ]
    },
    {
      "cell_type": "code",
      "metadata": {
        "colab": {
          "base_uri": "https://localhost:8080/"
        },
        "id": "JToxweSTPrGN",
        "outputId": "32622d6c-21aa-4f41-e066-ef8ee72a2d08"
      },
      "source": [
        "schools_df_all.info()"
      ],
      "execution_count": null,
      "outputs": [
        {
          "output_type": "stream",
          "text": [
            "<class 'pandas.core.frame.DataFrame'>\n",
            "Int64Index: 660 entries, 0 to 26530\n",
            "Data columns (total 21 columns):\n",
            " #   Column       Non-Null Count  Dtype  \n",
            "---  ------       --------------  -----  \n",
            " 0   lea_code     660 non-null    object \n",
            " 1   lea_name     660 non-null    object \n",
            " 2   school_code  660 non-null    object \n",
            " 3   school_name  660 non-null    object \n",
            " 4   sbe_region   660 non-null    object \n",
            " 5   grade_span   660 non-null    object \n",
            " 6   title_1      660 non-null    object \n",
            " 7   missed_days  660 non-null    float64\n",
            " 8   subgroup     660 non-null    object \n",
            " 9   spg_grade    660 non-null    object \n",
            " 10  spg_score    660 non-null    object \n",
            " 11  ach_score    660 non-null    object \n",
            " 12  eg_score     660 non-null    object \n",
            " 13  eg_status    660 non-null    object \n",
            " 14  eg_index     660 non-null    object \n",
            " 15  aaa_score    557 non-null    object \n",
            " 16  elp_score    660 non-null    float64\n",
            " 17  cgrs_score   521 non-null    float64\n",
            " 18  bi_score     626 non-null    float64\n",
            " 19  awa_score    628 non-null    float64\n",
            " 20  mcr_score    396 non-null    float64\n",
            "dtypes: float64(6), object(15)\n",
            "memory usage: 113.4+ KB\n"
          ],
          "name": "stdout"
        }
      ]
    },
    {
      "cell_type": "markdown",
      "metadata": {
        "id": "NjCm-z7jppoh"
      },
      "source": [
        "**bold text**## Basic EDA"
      ]
    },
    {
      "cell_type": "markdown",
      "metadata": {
        "id": "XSxfhWjXsscP"
      },
      "source": [
        "### Schools_df EDA"
      ]
    },
    {
      "cell_type": "markdown",
      "metadata": {
        "id": "-0WuzBKwlehv"
      },
      "source": [
        "### Univariate EDA"
      ]
    },
    {
      "cell_type": "markdown",
      "metadata": {
        "id": "gx6VG_SDq3ic"
      },
      "source": [
        "Schools_df"
      ]
    },
    {
      "cell_type": "code",
      "metadata": {
        "colab": {
          "base_uri": "https://localhost:8080/"
        },
        "id": "vapTSANijtEh",
        "outputId": "b163b7c1-13d7-48db-a640-cdc6aa36d3ae"
      },
      "source": [
        "list(schools_df_all.columns)"
      ],
      "execution_count": null,
      "outputs": [
        {
          "output_type": "execute_result",
          "data": {
            "text/plain": [
              "['lea_code',\n",
              " 'lea_name',\n",
              " 'school_code',\n",
              " 'school_name',\n",
              " 'sbe_region',\n",
              " 'grade_span',\n",
              " 'title_1',\n",
              " 'missed_days',\n",
              " 'subgroup',\n",
              " 'spg_grade',\n",
              " 'spg_score',\n",
              " 'ach_score',\n",
              " 'eg_score',\n",
              " 'eg_status',\n",
              " 'eg_index',\n",
              " 'aaa_score',\n",
              " 'elp_score',\n",
              " 'cgrs_score',\n",
              " 'bi_score',\n",
              " 'awa_score',\n",
              " 'mcr_score']"
            ]
          },
          "metadata": {
            "tags": []
          },
          "execution_count": 36
        }
      ]
    },
    {
      "cell_type": "code",
      "metadata": {
        "id": "TowAbQWdi_Vz"
      },
      "source": [
        "# for column in list(schools_df_all.columns):\n",
        "#   schools_df_all[column].hist()"
      ],
      "execution_count": null,
      "outputs": []
    },
    {
      "cell_type": "code",
      "metadata": {
        "colab": {
          "base_uri": "https://localhost:8080/",
          "height": 304
        },
        "id": "9-JBQx-GjwZG",
        "outputId": "541e03b0-daaf-4227-a74a-e96384edbfc9"
      },
      "source": [
        "plt.figure(figsize=(22,8))\n",
        "schools_df_all.sbe_region.hist(bins=50);"
      ],
      "execution_count": null,
      "outputs": [
        {
          "output_type": "display_data",
          "data": {
            "image/png": "[encoded data removed]",
            "text/plain": [
              "<Figure size 1584x576 with 1 Axes>"
            ]
          },
          "metadata": {
            "tags": [],
            "needs_background": "light"
          }
        }
      ]
    },
    {
      "cell_type": "code",
      "metadata": {
        "colab": {
          "base_uri": "https://localhost:8080/",
          "height": 304
        },
        "id": "qJ-fPZRVlq09",
        "outputId": "1bea4cf8-25de-433b-80b1-6f18cba26e7f"
      },
      "source": [
        "plt.figure(figsize=(22,8))\n",
        "schools_df_all.grade_span.hist(bins=50);"
      ],
      "execution_count": null,
      "outputs": [
        {
          "output_type": "display_data",
          "data": {
            "image/png": "[encoded data removed]",
            "text/plain": [
              "<Figure size 1584x576 with 1 Axes>"
            ]
          },
          "metadata": {
            "tags": [],
            "needs_background": "light"
          }
        }
      ]
    },
    {
      "cell_type": "code",
      "metadata": {
        "colab": {
          "base_uri": "https://localhost:8080/",
          "height": 304
        },
        "id": "HrzZ6m7tmEHJ",
        "outputId": "bc117e8d-b533-41df-9ce6-7aa1998e8d5a"
      },
      "source": [
        "plt.figure(figsize=(22,8))\n",
        "schools_df_all.title_1.hist(bins=50);"
      ],
      "execution_count": null,
      "outputs": [
        {
          "output_type": "display_data",
          "data": {
            "image/png": "[encoded data removed]",
            "text/plain": [
              "<Figure size 1584x576 with 1 Axes>"
            ]
          },
          "metadata": {
            "tags": [],
            "needs_background": "light"
          }
        }
      ]
    },
    {
      "cell_type": "code",
      "metadata": {
        "colab": {
          "base_uri": "https://localhost:8080/",
          "height": 304
        },
        "id": "kDXXMMKBmUVo",
        "outputId": "638a8b44-709c-40f7-b5e0-21ba4a519008"
      },
      "source": [
        "plt.figure(figsize=(22,8))\n",
        "schools_df_all.missed_days.hist(bins=100);"
      ],
      "execution_count": null,
      "outputs": [
        {
          "output_type": "display_data",
          "data": {
            "image/png": "[encoded data removed]",
            "text/plain": [
              "<Figure size 1584x576 with 1 Axes>"
            ]
          },
          "metadata": {
            "tags": [],
            "needs_background": "light"
          }
        }
      ]
    },
    {
      "cell_type": "code",
      "metadata": {
        "colab": {
          "base_uri": "https://localhost:8080/",
          "height": 304
        },
        "id": "EZnoZi1pm0I-",
        "outputId": "aab14301-5f68-419f-f933-a9797d0d112e"
      },
      "source": [
        "plt.figure(figsize=(22,8))\n",
        "schools_df.subgroup.hist(bins=100);"
      ],
      "execution_count": null,
      "outputs": [
        {
          "output_type": "display_data",
          "data": {
            "image/png": "[encoded data removed]",
            "text/plain": [
              "<Figure size 1584x576 with 1 Axes>"
            ]
          },
          "metadata": {
            "tags": [],
            "needs_background": "light"
          }
        }
      ]
    },
    {
      "cell_type": "code",
      "metadata": {
        "colab": {
          "base_uri": "https://localhost:8080/",
          "height": 503
        },
        "id": "3XRaAqTXnK79",
        "outputId": "dd1863c6-bab9-47d4-ef3b-660e4d971a4c"
      },
      "source": [
        "plt.figure(figsize=(22,8))\n",
        "schools_df_all.spg_grade.hist(bins=100);"
      ],
      "execution_count": null,
      "outputs": [
        {
          "output_type": "display_data",
          "data": {
            "image/png": "[encoded data removed]",
            "text/plain": [
              "<Figure size 1584x576 with 1 Axes>"
            ]
          },
          "metadata": {
            "tags": [],
            "needs_background": "light"
          }
        }
      ]
    },
    {
      "cell_type": "code",
      "metadata": {
        "colab": {
          "base_uri": "https://localhost:8080/",
          "height": 380
        },
        "id": "yldpNw8anXgw",
        "outputId": "7dbc82d9-b0a5-4cca-a020-593eeab63cf9"
      },
      "source": [
        "plt.figure(figsize=(22, 10))\n",
        "schools_df_all.spg_score.hist(bins=60,xrot=80,xlabelsize=14, ylabelsize=20);"
      ],
      "execution_count": null,
      "outputs": [
        {
          "output_type": "display_data",
          "data": {
            "image/png": "[encoded data removed]",
            "text/plain": [
              "<Figure size 1584x720 with 1 Axes>"
            ]
          },
          "metadata": {
            "tags": [],
            "needs_background": "light"
          }
        }
      ]
    },
    {
      "cell_type": "code",
      "metadata": {
        "id": "SIHajuK45JcS"
      },
      "source": [
        ""
      ],
      "execution_count": null,
      "outputs": []
    },
    {
      "cell_type": "code",
      "metadata": {
        "colab": {
          "base_uri": "https://localhost:8080/",
          "height": 315
        },
        "id": "AFhM_vv4nz9n",
        "outputId": "3ecca041-d10b-4707-c50d-6f7482a9abdb"
      },
      "source": [
        "plt.figure(figsize=(22,8))\n",
        "schools_df_all.ach_score.hist(bins=100, xrot=90);"
      ],
      "execution_count": null,
      "outputs": [
        {
          "output_type": "display_data",
          "data": {
            "image/png": "[encoded data removed]",
            "text/plain": [
              "<Figure size 1584x576 with 1 Axes>"
            ]
          },
          "metadata": {
            "tags": [],
            "needs_background": "light"
          }
        }
      ]
    },
    {
      "cell_type": "code",
      "metadata": {
        "colab": {
          "base_uri": "https://localhost:8080/"
        },
        "id": "BhdeiF4vtZaF",
        "outputId": "d347bc59-3d37-4916-cebe-e499b8262217"
      },
      "source": [
        "schools_df_all.ach_score.value_counts()"
      ],
      "execution_count": null,
      "outputs": [
        {
          "output_type": "execute_result",
          "data": {
            "text/plain": [
              "999     94\n",
              "68.9     6\n",
              "69.8     6\n",
              "53.8     5\n",
              "72.0     5\n",
              "        ..\n",
              "52.9     1\n",
              "47.2     1\n",
              "50.0     1\n",
              "49.5     1\n",
              "62.0     1\n",
              "Name: ach_score, Length: 333, dtype: int64"
            ]
          },
          "metadata": {
            "tags": []
          },
          "execution_count": 46
        }
      ]
    },
    {
      "cell_type": "code",
      "metadata": {
        "colab": {
          "base_uri": "https://localhost:8080/",
          "height": 315
        },
        "id": "SDC4KtN7oM3E",
        "outputId": "80ef7770-5267-4985-f94a-692f695a62d2"
      },
      "source": [
        "plt.figure(figsize=(22,8))\n",
        "schools_df_all.eg_score.hist(bins=100, xrot=90);"
      ],
      "execution_count": null,
      "outputs": [
        {
          "output_type": "display_data",
          "data": {
            "image/png": "[encoded data removed]",
            "text/plain": [
              "<Figure size 1584x576 with 1 Axes>"
            ]
          },
          "metadata": {
            "tags": [],
            "needs_background": "light"
          }
        }
      ]
    },
    {
      "cell_type": "code",
      "metadata": {
        "colab": {
          "base_uri": "https://localhost:8080/",
          "height": 332
        },
        "id": "Efcww8bDoYgm",
        "outputId": "e43ffd2d-e629-45b7-9e9a-95cc6e93ea12"
      },
      "source": [
        "plt.figure(figsize=(22,8))\n",
        "schools_df_all.eg_status.hist(bins=100, xrot=70);"
      ],
      "execution_count": null,
      "outputs": [
        {
          "output_type": "display_data",
          "data": {
            "image/png": "[encoded data removed]",
            "text/plain": [
              "<Figure size 1584x576 with 1 Axes>"
            ]
          },
          "metadata": {
            "tags": [],
            "needs_background": "light"
          }
        }
      ]
    },
    {
      "cell_type": "code",
      "metadata": {
        "colab": {
          "base_uri": "https://localhost:8080/",
          "height": 313
        },
        "id": "wrvylsXKqcj4",
        "outputId": "575b8526-86f7-4a1f-a3d7-618f5b092d05"
      },
      "source": [
        "plt.figure(figsize=(22,8))\n",
        "schools_df_all.elp_score.hist(bins=50, xrot=90);"
      ],
      "execution_count": null,
      "outputs": [
        {
          "output_type": "display_data",
          "data": {
            "image/png": "[encoded data removed]",
            "text/plain": [
              "<Figure size 1584x576 with 1 Axes>"
            ]
          },
          "metadata": {
            "tags": [],
            "needs_background": "light"
          }
        }
      ]
    },
    {
      "cell_type": "code",
      "metadata": {
        "colab": {
          "base_uri": "https://localhost:8080/",
          "height": 313
        },
        "id": "74I88dm5osAz",
        "outputId": "32d2a479-a230-47cb-f81c-6d12b9293429"
      },
      "source": [
        "plt.figure(figsize=(22,8))\n",
        "schools_df_all.cgrs_score.hist(bins=50, xrot=90);"
      ],
      "execution_count": null,
      "outputs": [
        {
          "output_type": "display_data",
          "data": {
            "image/png": "[encoded data removed]",
            "text/plain": [
              "<Figure size 1584x576 with 1 Axes>"
            ]
          },
          "metadata": {
            "tags": [],
            "needs_background": "light"
          }
        }
      ]
    },
    {
      "cell_type": "code",
      "metadata": {
        "colab": {
          "base_uri": "https://localhost:8080/",
          "height": 313
        },
        "id": "UmMkAWZcqfC-",
        "outputId": "80c58fc4-9957-4429-fdba-b0033cc8c763"
      },
      "source": [
        "plt.figure(figsize=(22,8))\n",
        "schools_df_all.bi_score.hist(bins=50, xrot=90);"
      ],
      "execution_count": null,
      "outputs": [
        {
          "output_type": "display_data",
          "data": {
            "image/png": "[encoded data removed]",
            "text/plain": [
              "<Figure size 1584x576 with 1 Axes>"
            ]
          },
          "metadata": {
            "tags": [],
            "needs_background": "light"
          }
        }
      ]
    },
    {
      "cell_type": "code",
      "metadata": {
        "colab": {
          "base_uri": "https://localhost:8080/",
          "height": 313
        },
        "id": "H8HOhD5GqmOK",
        "outputId": "3de0e6be-cf21-469c-9454-2ea00418ff2f"
      },
      "source": [
        "plt.figure(figsize=(22,8))\n",
        "schools_df_all.awa_score.hist(bins=50, xrot=90);"
      ],
      "execution_count": null,
      "outputs": [
        {
          "output_type": "display_data",
          "data": {
            "image/png": "[encoded data removed]",
            "text/plain": [
              "<Figure size 1584x576 with 1 Axes>"
            ]
          },
          "metadata": {
            "tags": [],
            "needs_background": "light"
          }
        }
      ]
    },
    {
      "cell_type": "code",
      "metadata": {
        "colab": {
          "base_uri": "https://localhost:8080/",
          "height": 313
        },
        "id": "tUinbI9uquvR",
        "outputId": "f5a20ec5-6b8e-46f4-c287-cd90ed74dafa"
      },
      "source": [
        "plt.figure(figsize=(22,8))\n",
        "schools_df_all.mcr_score.hist(bins=50, xrot=90);"
      ],
      "execution_count": null,
      "outputs": [
        {
          "output_type": "display_data",
          "data": {
            "image/png": "[encoded data removed]",
            "text/plain": [
              "<Figure size 1584x576 with 1 Axes>"
            ]
          },
          "metadata": {
            "tags": [],
            "needs_background": "light"
          }
        }
      ]
    },
    {
      "cell_type": "code",
      "metadata": {
        "id": "rQas-skgvaMs"
      },
      "source": [
        ""
      ],
      "execution_count": null,
      "outputs": []
    },
    {
      "cell_type": "markdown",
      "metadata": {
        "id": "inRUI7vWs9GX"
      },
      "source": [
        "### Act_df EDA"
      ]
    },
    {
      "cell_type": "code",
      "metadata": {
        "id": "VO3Yj0l-sOL3",
        "colab": {
          "base_uri": "https://localhost:8080/"
        },
        "outputId": "20bf3306-c951-42f5-85a1-bda8f259bb16"
      },
      "source": [
        "act_df"
      ],
      "execution_count": null,
      "outputs": [
        {
          "output_type": "execute_result",
          "data": {
            "text/plain": [
              "Unnamed: 0                   3                                             ...\n",
              "Unnamed: 1                   3                                           Na...\n",
              "School System & School       3      NC School Of Science & Math\\n4         ...\n",
              " # tested                                                                  NaN\n",
              "Average Composite Score                                                    NaN\n",
              "Average English Score                                                      NaN\n",
              "% Met English Benchmark                                                    NaN\n",
              "Average Math Score                                                         NaN\n",
              "% Met Math Benchmark                                                       NaN\n",
              "Average Reading Score                                                      NaN\n",
              "% Met Reading Benchmark                                                    NaN\n",
              "Average Science Score                                                      NaN\n",
              "% Met Science Benchmark                                                    NaN\n",
              "% Met All Four Benchmarks                                                  NaN\n",
              "dtype: object"
            ]
          },
          "metadata": {
            "tags": []
          },
          "execution_count": 54
        }
      ]
    },
    {
      "cell_type": "code",
      "metadata": {
        "id": "42CB2d12tLMf"
      },
      "source": [
        ""
      ],
      "execution_count": null,
      "outputs": []
    },
    {
      "cell_type": "markdown",
      "metadata": {
        "id": "tf_IC2g2tCjf"
      },
      "source": [
        "### Sat_df EDA"
      ]
    },
    {
      "cell_type": "code",
      "metadata": {
        "colab": {
          "base_uri": "https://localhost:8080/"
        },
        "id": "xLz90pkbs5XJ",
        "outputId": "8c953555-66d9-45b5-89e3-b95c2ee4b6a9"
      },
      "source": [
        "list(sat_df.columns)"
      ],
      "execution_count": null,
      "outputs": [
        {
          "output_type": "execute_result",
          "data": {
            "text/plain": [
              "['Unnamed: 0',\n",
              " 'School System &School',\n",
              " 'Unnamed: 2',\n",
              " '# Tested',\n",
              " '% Tested',\n",
              " 'Total',\n",
              " 'ERW',\n",
              " 'Math']"
            ]
          },
          "metadata": {
            "tags": []
          },
          "execution_count": 55
        }
      ]
    },
    {
      "cell_type": "code",
      "metadata": {
        "id": "8Ec22-abtWOt",
        "colab": {
          "base_uri": "https://localhost:8080/",
          "height": 255
        },
        "outputId": "0ac04281-9ad2-4c28-9ed0-26acb0b6aaa8"
      },
      "source": [
        "sat_df.head()"
      ],
      "execution_count": null,
      "outputs": [
        {
          "output_type": "execute_result",
          "data": {
            "text/html": [
              "<div>\n",
              "<style scoped>\n",
              "    .dataframe tbody tr th:only-of-type {\n",
              "        vertical-align: middle;\n",
              "    }\n",
              "\n",
              "    .dataframe tbody tr th {\n",
              "        vertical-align: top;\n",
              "    }\n",
              "\n",
              "    .dataframe thead th {\n",
              "        text-align: right;\n",
              "    }\n",
              "</style>\n",
              "<table border=\"1\" class=\"dataframe\">\n",
              "  <thead>\n",
              "    <tr style=\"text-align: right;\">\n",
              "      <th></th>\n",
              "      <th>Unnamed: 0</th>\n",
              "      <th>School System &amp;School</th>\n",
              "      <th>Unnamed: 2</th>\n",
              "      <th># Tested</th>\n",
              "      <th>% Tested</th>\n",
              "      <th>Total</th>\n",
              "      <th>ERW</th>\n",
              "      <th>Math</th>\n",
              "    </tr>\n",
              "  </thead>\n",
              "  <tbody>\n",
              "    <tr>\n",
              "      <th>2</th>\n",
              "      <td>NaN</td>\n",
              "      <td>NaN</td>\n",
              "      <td>NC School of Science &amp; Math</td>\n",
              "      <td>293</td>\n",
              "      <td>NaN</td>\n",
              "      <td>1428</td>\n",
              "      <td>702</td>\n",
              "      <td>725</td>\n",
              "    </tr>\n",
              "    <tr>\n",
              "      <th>3</th>\n",
              "      <td>NaN</td>\n",
              "      <td>NaN</td>\n",
              "      <td>NC School of the Arts</td>\n",
              "      <td>88</td>\n",
              "      <td>NaN</td>\n",
              "      <td>1178</td>\n",
              "      <td>609</td>\n",
              "      <td>569</td>\n",
              "    </tr>\n",
              "    <tr>\n",
              "      <th>4</th>\n",
              "      <td>10</td>\n",
              "      <td>Alamance-Burlington Schools</td>\n",
              "      <td>NaN</td>\n",
              "      <td>672</td>\n",
              "      <td>43.2</td>\n",
              "      <td>1036</td>\n",
              "      <td>517</td>\n",
              "      <td>518</td>\n",
              "    </tr>\n",
              "    <tr>\n",
              "      <th>5</th>\n",
              "      <td>10</td>\n",
              "      <td>303</td>\n",
              "      <td>Abss Early College At Acc</td>\n",
              "      <td>19</td>\n",
              "      <td>33.3</td>\n",
              "      <td>1152</td>\n",
              "      <td>572</td>\n",
              "      <td>580</td>\n",
              "    </tr>\n",
              "    <tr>\n",
              "      <th>6</th>\n",
              "      <td>10</td>\n",
              "      <td>324</td>\n",
              "      <td>Eastern Alamance High</td>\n",
              "      <td>113</td>\n",
              "      <td>42</td>\n",
              "      <td>1079</td>\n",
              "      <td>535</td>\n",
              "      <td>544</td>\n",
              "    </tr>\n",
              "  </tbody>\n",
              "</table>\n",
              "</div>"
            ],
            "text/plain": [
              "  Unnamed: 0          School System &School  ...  ERW  Math\n",
              "2        NaN                            NaN  ...  702   725\n",
              "3        NaN                            NaN  ...  609   569\n",
              "4         10   Alamance-Burlington Schools   ...  517   518\n",
              "5         10                            303  ...  572   580\n",
              "6         10                            324  ...  535   544\n",
              "\n",
              "[5 rows x 8 columns]"
            ]
          },
          "metadata": {
            "tags": []
          },
          "execution_count": 56
        }
      ]
    },
    {
      "cell_type": "code",
      "metadata": {
        "colab": {
          "base_uri": "https://localhost:8080/"
        },
        "id": "32WAO0kXxz-R",
        "outputId": "d5848916-41dc-458d-fccb-c11757354bbf"
      },
      "source": [
        "sat_df.columns"
      ],
      "execution_count": null,
      "outputs": [
        {
          "output_type": "execute_result",
          "data": {
            "text/plain": [
              "Index(['Unnamed: 0', 'School System &School', 'Unnamed: 2', '# Tested',\n",
              "       '% Tested', 'Total', 'ERW', 'Math'],\n",
              "      dtype='object')"
            ]
          },
          "metadata": {
            "tags": []
          },
          "execution_count": 57
        }
      ]
    },
    {
      "cell_type": "code",
      "metadata": {
        "colab": {
          "base_uri": "https://localhost:8080/",
          "height": 330
        },
        "id": "0P0oHHoLyugB",
        "outputId": "88f774fe-37ab-44bd-8683-f094222eaf51"
      },
      "source": [
        "plt.figure(figsize=(22,8))\n",
        "sat_df['Unnamed: 0'].hist(xrot=80)"
      ],
      "execution_count": null,
      "outputs": [
        {
          "output_type": "execute_result",
          "data": {
            "text/plain": [
              "<matplotlib.axes._subplots.AxesSubplot at 0x7fbcae0a1748>"
            ]
          },
          "metadata": {
            "tags": []
          },
          "execution_count": 58
        },
        {
          "output_type": "display_data",
          "data": {
            "image/png": "[encoded data removed]",
            "text/plain": [
              "<Figure size 1584x576 with 1 Axes>"
            ]
          },
          "metadata": {
            "tags": [],
            "needs_background": "light"
          }
        }
      ]
    },
    {
      "cell_type": "code",
      "metadata": {
        "colab": {
          "base_uri": "https://localhost:8080/",
          "height": 215
        },
        "id": "wBeYS_WS4A6v",
        "outputId": "67a8e181-1b48-4576-b657-07fcb9595747"
      },
      "source": [
        "a = 1.23\n",
        "\n",
        "round(a,1) # this one would work\n",
        "\n",
        "a.round(1) # this one gives me error message \"AttributeError: 'float' object has no attribute 'round'\""
      ],
      "execution_count": null,
      "outputs": [
        {
          "output_type": "error",
          "ename": "AttributeError",
          "evalue": "ignored",
          "traceback": [
            "\u001b[0;31m---------------------------------------------------------------------------\u001b[0m",
            "\u001b[0;31mAttributeError\u001b[0m                            Traceback (most recent call last)",
            "\u001b[0;32m<ipython-input-60-d6c9e6996430>\u001b[0m in \u001b[0;36m<module>\u001b[0;34m()\u001b[0m\n\u001b[1;32m      3\u001b[0m \u001b[0mround\u001b[0m\u001b[0;34m(\u001b[0m\u001b[0ma\u001b[0m\u001b[0;34m,\u001b[0m\u001b[0;36m1\u001b[0m\u001b[0;34m)\u001b[0m \u001b[0;31m# this one would work\u001b[0m\u001b[0;34m\u001b[0m\u001b[0;34m\u001b[0m\u001b[0m\n\u001b[1;32m      4\u001b[0m \u001b[0;34m\u001b[0m\u001b[0m\n\u001b[0;32m----> 5\u001b[0;31m \u001b[0ma\u001b[0m\u001b[0;34m.\u001b[0m\u001b[0mround\u001b[0m\u001b[0;34m(\u001b[0m\u001b[0;36m1\u001b[0m\u001b[0;34m)\u001b[0m \u001b[0;31m# this one gives me error message \"AttributeError: 'float' object has no attribute 'round'\"\u001b[0m\u001b[0;34m\u001b[0m\u001b[0;34m\u001b[0m\u001b[0m\n\u001b[0m",
            "\u001b[0;31mAttributeError\u001b[0m: 'float' object has no attribute 'round'"
          ]
        }
      ]
    },
    {
      "cell_type": "code",
      "metadata": {
        "colab": {
          "base_uri": "https://localhost:8080/",
          "height": 341
        },
        "id": "dqkdPvDZy0_I",
        "outputId": "068d3364-c210-4ca9-dbe9-e733a615910e"
      },
      "source": [
        "round_sat = sat_df['% Tested'].apply(lambda x : round(x))\n",
        "# tempDF['int_measure'] = tempDF['measure'].astype(int)\n",
        "# df['Numeric Column'].apply(lambda x : math.round(x,2))\n"
      ],
      "execution_count": null,
      "outputs": [
        {
          "output_type": "error",
          "ename": "ValueError",
          "evalue": "ignored",
          "traceback": [
            "\u001b[0;31m---------------------------------------------------------------------------\u001b[0m",
            "\u001b[0;31mValueError\u001b[0m                                Traceback (most recent call last)",
            "\u001b[0;32m<ipython-input-61-adf3027609a8>\u001b[0m in \u001b[0;36m<module>\u001b[0;34m()\u001b[0m\n\u001b[0;32m----> 1\u001b[0;31m \u001b[0mround_sat\u001b[0m \u001b[0;34m=\u001b[0m \u001b[0msat_df\u001b[0m\u001b[0;34m[\u001b[0m\u001b[0;34m'% Tested'\u001b[0m\u001b[0;34m]\u001b[0m\u001b[0;34m.\u001b[0m\u001b[0mapply\u001b[0m\u001b[0;34m(\u001b[0m\u001b[0;32mlambda\u001b[0m \u001b[0mx\u001b[0m \u001b[0;34m:\u001b[0m \u001b[0mround\u001b[0m\u001b[0;34m(\u001b[0m\u001b[0mx\u001b[0m\u001b[0;34m)\u001b[0m\u001b[0;34m)\u001b[0m\u001b[0;34m\u001b[0m\u001b[0;34m\u001b[0m\u001b[0m\n\u001b[0m\u001b[1;32m      2\u001b[0m \u001b[0;31m# tempDF['int_measure'] = tempDF['measure'].astype(int)\u001b[0m\u001b[0;34m\u001b[0m\u001b[0;34m\u001b[0m\u001b[0;34m\u001b[0m\u001b[0m\n\u001b[1;32m      3\u001b[0m \u001b[0;31m# df['Numeric Column'].apply(lambda x : math.round(x,2))\u001b[0m\u001b[0;34m\u001b[0m\u001b[0;34m\u001b[0m\u001b[0;34m\u001b[0m\u001b[0m\n",
            "\u001b[0;32m/usr/local/lib/python3.6/dist-packages/pandas/core/series.py\u001b[0m in \u001b[0;36mapply\u001b[0;34m(self, func, convert_dtype, args, **kwds)\u001b[0m\n\u001b[1;32m   4211\u001b[0m             \u001b[0;32melse\u001b[0m\u001b[0;34m:\u001b[0m\u001b[0;34m\u001b[0m\u001b[0;34m\u001b[0m\u001b[0m\n\u001b[1;32m   4212\u001b[0m                 \u001b[0mvalues\u001b[0m \u001b[0;34m=\u001b[0m \u001b[0mself\u001b[0m\u001b[0;34m.\u001b[0m\u001b[0mastype\u001b[0m\u001b[0;34m(\u001b[0m\u001b[0mobject\u001b[0m\u001b[0;34m)\u001b[0m\u001b[0;34m.\u001b[0m\u001b[0m_values\u001b[0m\u001b[0;34m\u001b[0m\u001b[0;34m\u001b[0m\u001b[0m\n\u001b[0;32m-> 4213\u001b[0;31m                 \u001b[0mmapped\u001b[0m \u001b[0;34m=\u001b[0m \u001b[0mlib\u001b[0m\u001b[0;34m.\u001b[0m\u001b[0mmap_infer\u001b[0m\u001b[0;34m(\u001b[0m\u001b[0mvalues\u001b[0m\u001b[0;34m,\u001b[0m \u001b[0mf\u001b[0m\u001b[0;34m,\u001b[0m \u001b[0mconvert\u001b[0m\u001b[0;34m=\u001b[0m\u001b[0mconvert_dtype\u001b[0m\u001b[0;34m)\u001b[0m\u001b[0;34m\u001b[0m\u001b[0;34m\u001b[0m\u001b[0m\n\u001b[0m\u001b[1;32m   4214\u001b[0m \u001b[0;34m\u001b[0m\u001b[0m\n\u001b[1;32m   4215\u001b[0m         \u001b[0;32mif\u001b[0m \u001b[0mlen\u001b[0m\u001b[0;34m(\u001b[0m\u001b[0mmapped\u001b[0m\u001b[0;34m)\u001b[0m \u001b[0;32mand\u001b[0m \u001b[0misinstance\u001b[0m\u001b[0;34m(\u001b[0m\u001b[0mmapped\u001b[0m\u001b[0;34m[\u001b[0m\u001b[0;36m0\u001b[0m\u001b[0;34m]\u001b[0m\u001b[0;34m,\u001b[0m \u001b[0mSeries\u001b[0m\u001b[0;34m)\u001b[0m\u001b[0;34m:\u001b[0m\u001b[0;34m\u001b[0m\u001b[0;34m\u001b[0m\u001b[0m\n",
            "\u001b[0;32mpandas/_libs/lib.pyx\u001b[0m in \u001b[0;36mpandas._libs.lib.map_infer\u001b[0;34m()\u001b[0m\n",
            "\u001b[0;32m<ipython-input-61-adf3027609a8>\u001b[0m in \u001b[0;36m<lambda>\u001b[0;34m(x)\u001b[0m\n\u001b[0;32m----> 1\u001b[0;31m \u001b[0mround_sat\u001b[0m \u001b[0;34m=\u001b[0m \u001b[0msat_df\u001b[0m\u001b[0;34m[\u001b[0m\u001b[0;34m'% Tested'\u001b[0m\u001b[0;34m]\u001b[0m\u001b[0;34m.\u001b[0m\u001b[0mapply\u001b[0m\u001b[0;34m(\u001b[0m\u001b[0;32mlambda\u001b[0m \u001b[0mx\u001b[0m \u001b[0;34m:\u001b[0m \u001b[0mround\u001b[0m\u001b[0;34m(\u001b[0m\u001b[0mx\u001b[0m\u001b[0;34m)\u001b[0m\u001b[0;34m)\u001b[0m\u001b[0;34m\u001b[0m\u001b[0;34m\u001b[0m\u001b[0m\n\u001b[0m\u001b[1;32m      2\u001b[0m \u001b[0;31m# tempDF['int_measure'] = tempDF['measure'].astype(int)\u001b[0m\u001b[0;34m\u001b[0m\u001b[0;34m\u001b[0m\u001b[0;34m\u001b[0m\u001b[0m\n\u001b[1;32m      3\u001b[0m \u001b[0;31m# df['Numeric Column'].apply(lambda x : math.round(x,2))\u001b[0m\u001b[0;34m\u001b[0m\u001b[0;34m\u001b[0m\u001b[0;34m\u001b[0m\u001b[0m\n",
            "\u001b[0;31mValueError\u001b[0m: cannot convert float NaN to integer"
          ]
        }
      ]
    },
    {
      "cell_type": "code",
      "metadata": {
        "id": "EU6GaR_QzWA0"
      },
      "source": [
        "plt.figure(figsize=(22,8))\n",
        "sat_df['Total'].hist(xrot=80)"
      ],
      "execution_count": null,
      "outputs": []
    },
    {
      "cell_type": "code",
      "metadata": {
        "id": "05ouSZ8u2RB1"
      },
      "source": [
        "plt.figure(figsize=(22,8))\n",
        "sat_df['ERW'].hist(xrot=80)"
      ],
      "execution_count": null,
      "outputs": []
    },
    {
      "cell_type": "code",
      "metadata": {
        "id": "iKL5Gb942Wtj"
      },
      "source": [
        "plt.figure(figsize=(22,8))\n",
        "sat_df['Math'].hist(xrot=80)"
      ],
      "execution_count": null,
      "outputs": []
    },
    {
      "cell_type": "code",
      "metadata": {
        "id": "XgAPthdCylwh"
      },
      "source": [
        "sns.distplot(df['SalePrice'], color='g', bins=100, hist_kws={'alpha': 0.4});"
      ],
      "execution_count": null,
      "outputs": []
    },
    {
      "cell_type": "code",
      "metadata": {
        "id": "2On-cQz12ZkL"
      },
      "source": [
        "sat_df['Math'].value_counts()"
      ],
      "execution_count": null,
      "outputs": []
    },
    {
      "cell_type": "code",
      "metadata": {
        "id": "dcT2e0Mm2ftZ"
      },
      "source": [
        "\n",
        "# sns.histplot(schools_df['spg_score'], color='g', bins=10)\n"
      ],
      "execution_count": null,
      "outputs": []
    }
  ]
}