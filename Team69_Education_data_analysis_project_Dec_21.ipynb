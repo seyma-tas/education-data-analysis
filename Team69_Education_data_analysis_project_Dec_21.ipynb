{
  "nbformat": 4,
  "nbformat_minor": 0,
  "metadata": {
    "colab": {
      "name": "Team69-Education-data-analysis-project_Dec_21.ipynb",
      "provenance": []
    },
    "kernelspec": {
      "name": "python3",
      "display_name": "Python 3"
    }
  },
  "cells": [
    {
      "cell_type": "markdown",
      "metadata": {
        "id": "dLsS-BYExZ81"
      },
      "source": [
        "### Mounting Colab To Drive"
      ]
    },
    {
      "cell_type": "code",
      "metadata": {
        "id": "Qyg7jcQxmn2o",
        "colab": {
          "base_uri": "https://localhost:8080/"
        },
        "outputId": "1a3f3f76-1e6d-4bfa-83ee-d24a85fbf972"
      },
      "source": [
        "from google.colab import drive\n",
        "drive.mount('/content/drive/')"
      ],
      "execution_count": 726,
      "outputs": [
        {
          "output_type": "stream",
          "text": [
            "Drive already mounted at /content/drive/; to attempt to forcibly remount, call drive.mount(\"/content/drive/\", force_remount=True).\n"
          ],
          "name": "stdout"
        }
      ]
    },
    {
      "cell_type": "markdown",
      "metadata": {
        "id": "sRgrlX2SxQ5q"
      },
      "source": [
        "### Importing the necessary libraries"
      ]
    },
    {
      "cell_type": "code",
      "metadata": {
        "id": "OkGT9L_18T3s"
      },
      "source": [
        "import pandas as pd"
      ],
      "execution_count": 727,
      "outputs": []
    },
    {
      "cell_type": "markdown",
      "metadata": {
        "id": "lNiRML65xnWS"
      },
      "source": [
        "### Reading The Datasets"
      ]
    },
    {
      "cell_type": "markdown",
      "metadata": {
        "id": "lSFgJmPSx0kN"
      },
      "source": [
        "1) spg-report2019 dataset"
      ]
    },
    {
      "cell_type": "code",
      "metadata": {
        "id": "Pzg7a0e_9m_k",
        "colab": {
          "base_uri": "https://localhost:8080/",
          "height": 428
        },
        "outputId": "cff43b47-20c1-4111-ef84-7ca72d9a2f64"
      },
      "source": [
        "schools_df = pd.read_csv('/content/drive/Shared drives/Data Science for All - Empowerment/education-data-analysis-project/spg-report2019_final.csv')\n",
        "schools_df.head()\n"
      ],
      "execution_count": 728,
      "outputs": [
        {
          "output_type": "stream",
          "text": [
            "/usr/local/lib/python3.6/dist-packages/IPython/core/interactiveshell.py:2718: DtypeWarning: Columns (1,3) have mixed types.Specify dtype option on import or set low_memory=False.\n",
            "  interactivity=interactivity, compiler=compiler, result=result)\n"
          ],
          "name": "stderr"
        },
        {
          "output_type": "execute_result",
          "data": {
            "text/html": [
              "<div>\n",
              "<style scoped>\n",
              "    .dataframe tbody tr th:only-of-type {\n",
              "        vertical-align: middle;\n",
              "    }\n",
              "\n",
              "    .dataframe tbody tr th {\n",
              "        vertical-align: top;\n",
              "    }\n",
              "\n",
              "    .dataframe thead th {\n",
              "        text-align: right;\n",
              "    }\n",
              "</style>\n",
              "<table border=\"1\" class=\"dataframe\">\n",
              "  <thead>\n",
              "    <tr style=\"text-align: right;\">\n",
              "      <th></th>\n",
              "      <th>reporting_year</th>\n",
              "      <th>lea_code</th>\n",
              "      <th>lea_name</th>\n",
              "      <th>school_code</th>\n",
              "      <th>school_name</th>\n",
              "      <th>sbe_region</th>\n",
              "      <th>grade_span</th>\n",
              "      <th>title_1</th>\n",
              "      <th>missed_days</th>\n",
              "      <th>subgroup</th>\n",
              "      <th>spg_grade</th>\n",
              "      <th>spg_score</th>\n",
              "      <th>ach_score</th>\n",
              "      <th>eg_score</th>\n",
              "      <th>eg_status</th>\n",
              "      <th>eg_index</th>\n",
              "      <th>rd_spg_grade</th>\n",
              "      <th>rd_spg_score</th>\n",
              "      <th>rdgs_ach_score</th>\n",
              "      <th>rd_eg_score</th>\n",
              "      <th>rd_eg_status</th>\n",
              "      <th>rd_eg_index</th>\n",
              "      <th>ma_spg_grade</th>\n",
              "      <th>ma_spg_score</th>\n",
              "      <th>mags_ach_score</th>\n",
              "      <th>ma_eg_score</th>\n",
              "      <th>ma_eg_status</th>\n",
              "      <th>ma_eg_index</th>\n",
              "      <th>aaa_score</th>\n",
              "      <th>scgs_score</th>\n",
              "      <th>elp_score</th>\n",
              "      <th>cgrs_score</th>\n",
              "      <th>bi_score</th>\n",
              "      <th>awa_score</th>\n",
              "      <th>mcr_score</th>\n",
              "      <th>asm_option</th>\n",
              "      <th>k2_feeder</th>\n",
              "      <th>use_3yr</th>\n",
              "      <th>use_alt_weight</th>\n",
              "    </tr>\n",
              "  </thead>\n",
              "  <tbody>\n",
              "    <tr>\n",
              "      <th>0</th>\n",
              "      <td>2019</td>\n",
              "      <td>10</td>\n",
              "      <td>Alamance-Burlington Schools</td>\n",
              "      <td>10303</td>\n",
              "      <td>ABSS Early College at ACC</td>\n",
              "      <td>Piedmont-Triad</td>\n",
              "      <td>09-13</td>\n",
              "      <td>NaN</td>\n",
              "      <td>1.0</td>\n",
              "      <td>ALL</td>\n",
              "      <td>A</td>\n",
              "      <td>88.0</td>\n",
              "      <td>90.4</td>\n",
              "      <td>80.3</td>\n",
              "      <td>Met</td>\n",
              "      <td>0.15</td>\n",
              "      <td>NaN</td>\n",
              "      <td>NaN</td>\n",
              "      <td>NaN</td>\n",
              "      <td>NaN</td>\n",
              "      <td>NaN</td>\n",
              "      <td>NaN</td>\n",
              "      <td>NaN</td>\n",
              "      <td>NaN</td>\n",
              "      <td>NaN</td>\n",
              "      <td>NaN</td>\n",
              "      <td>NaN</td>\n",
              "      <td>NaN</td>\n",
              "      <td>84.2</td>\n",
              "      <td>NaN</td>\n",
              "      <td>NaN</td>\n",
              "      <td>NaN</td>\n",
              "      <td>&gt;95</td>\n",
              "      <td>87.2</td>\n",
              "      <td>&gt;95</td>\n",
              "      <td>NaN</td>\n",
              "      <td>NaN</td>\n",
              "      <td>NaN</td>\n",
              "      <td>NaN</td>\n",
              "    </tr>\n",
              "    <tr>\n",
              "      <th>1</th>\n",
              "      <td>2019</td>\n",
              "      <td>10</td>\n",
              "      <td>Alamance-Burlington Schools</td>\n",
              "      <td>10303</td>\n",
              "      <td>ABSS Early College at ACC</td>\n",
              "      <td>Piedmont-Triad</td>\n",
              "      <td>09-13</td>\n",
              "      <td>NaN</td>\n",
              "      <td>1.0</td>\n",
              "      <td>AMIN</td>\n",
              "      <td>I</td>\n",
              "      <td>NaN</td>\n",
              "      <td>NaN</td>\n",
              "      <td>NaN</td>\n",
              "      <td>NaN</td>\n",
              "      <td>NaN</td>\n",
              "      <td>NaN</td>\n",
              "      <td>NaN</td>\n",
              "      <td>NaN</td>\n",
              "      <td>NaN</td>\n",
              "      <td>NaN</td>\n",
              "      <td>NaN</td>\n",
              "      <td>NaN</td>\n",
              "      <td>NaN</td>\n",
              "      <td>NaN</td>\n",
              "      <td>NaN</td>\n",
              "      <td>NaN</td>\n",
              "      <td>NaN</td>\n",
              "      <td>NaN</td>\n",
              "      <td>NaN</td>\n",
              "      <td>NaN</td>\n",
              "      <td>NaN</td>\n",
              "      <td>NaN</td>\n",
              "      <td>NaN</td>\n",
              "      <td>NaN</td>\n",
              "      <td>NaN</td>\n",
              "      <td>NaN</td>\n",
              "      <td>NaN</td>\n",
              "      <td>NaN</td>\n",
              "    </tr>\n",
              "    <tr>\n",
              "      <th>2</th>\n",
              "      <td>2019</td>\n",
              "      <td>10</td>\n",
              "      <td>Alamance-Burlington Schools</td>\n",
              "      <td>10303</td>\n",
              "      <td>ABSS Early College at ACC</td>\n",
              "      <td>Piedmont-Triad</td>\n",
              "      <td>09-13</td>\n",
              "      <td>NaN</td>\n",
              "      <td>1.0</td>\n",
              "      <td>ASIA</td>\n",
              "      <td>I</td>\n",
              "      <td>NaN</td>\n",
              "      <td>NaN</td>\n",
              "      <td>NaN</td>\n",
              "      <td>NaN</td>\n",
              "      <td>NaN</td>\n",
              "      <td>NaN</td>\n",
              "      <td>NaN</td>\n",
              "      <td>NaN</td>\n",
              "      <td>NaN</td>\n",
              "      <td>NaN</td>\n",
              "      <td>NaN</td>\n",
              "      <td>NaN</td>\n",
              "      <td>NaN</td>\n",
              "      <td>NaN</td>\n",
              "      <td>NaN</td>\n",
              "      <td>NaN</td>\n",
              "      <td>NaN</td>\n",
              "      <td>NaN</td>\n",
              "      <td>NaN</td>\n",
              "      <td>NaN</td>\n",
              "      <td>NaN</td>\n",
              "      <td>NaN</td>\n",
              "      <td>NaN</td>\n",
              "      <td>NaN</td>\n",
              "      <td>NaN</td>\n",
              "      <td>NaN</td>\n",
              "      <td>NaN</td>\n",
              "      <td>NaN</td>\n",
              "    </tr>\n",
              "    <tr>\n",
              "      <th>3</th>\n",
              "      <td>2019</td>\n",
              "      <td>10</td>\n",
              "      <td>Alamance-Burlington Schools</td>\n",
              "      <td>10303</td>\n",
              "      <td>ABSS Early College at ACC</td>\n",
              "      <td>Piedmont-Triad</td>\n",
              "      <td>09-13</td>\n",
              "      <td>NaN</td>\n",
              "      <td>1.0</td>\n",
              "      <td>BLCK</td>\n",
              "      <td>I</td>\n",
              "      <td>NaN</td>\n",
              "      <td>NaN</td>\n",
              "      <td>NaN</td>\n",
              "      <td>NaN</td>\n",
              "      <td>NaN</td>\n",
              "      <td>NaN</td>\n",
              "      <td>NaN</td>\n",
              "      <td>NaN</td>\n",
              "      <td>NaN</td>\n",
              "      <td>NaN</td>\n",
              "      <td>NaN</td>\n",
              "      <td>NaN</td>\n",
              "      <td>NaN</td>\n",
              "      <td>NaN</td>\n",
              "      <td>NaN</td>\n",
              "      <td>NaN</td>\n",
              "      <td>NaN</td>\n",
              "      <td>NaN</td>\n",
              "      <td>NaN</td>\n",
              "      <td>NaN</td>\n",
              "      <td>NaN</td>\n",
              "      <td>NaN</td>\n",
              "      <td>NaN</td>\n",
              "      <td>NaN</td>\n",
              "      <td>NaN</td>\n",
              "      <td>NaN</td>\n",
              "      <td>NaN</td>\n",
              "      <td>NaN</td>\n",
              "    </tr>\n",
              "    <tr>\n",
              "      <th>4</th>\n",
              "      <td>2019</td>\n",
              "      <td>10</td>\n",
              "      <td>Alamance-Burlington Schools</td>\n",
              "      <td>10303</td>\n",
              "      <td>ABSS Early College at ACC</td>\n",
              "      <td>Piedmont-Triad</td>\n",
              "      <td>09-13</td>\n",
              "      <td>NaN</td>\n",
              "      <td>1.0</td>\n",
              "      <td>HISP</td>\n",
              "      <td>B</td>\n",
              "      <td>71.0</td>\n",
              "      <td>70.6</td>\n",
              "      <td>NaN</td>\n",
              "      <td>NaN</td>\n",
              "      <td>NaN</td>\n",
              "      <td>NaN</td>\n",
              "      <td>NaN</td>\n",
              "      <td>NaN</td>\n",
              "      <td>NaN</td>\n",
              "      <td>NaN</td>\n",
              "      <td>NaN</td>\n",
              "      <td>NaN</td>\n",
              "      <td>NaN</td>\n",
              "      <td>NaN</td>\n",
              "      <td>NaN</td>\n",
              "      <td>NaN</td>\n",
              "      <td>NaN</td>\n",
              "      <td>70.6</td>\n",
              "      <td>NaN</td>\n",
              "      <td>NaN</td>\n",
              "      <td>NaN</td>\n",
              "      <td>NaN</td>\n",
              "      <td>NaN</td>\n",
              "      <td>NaN</td>\n",
              "      <td>NaN</td>\n",
              "      <td>NaN</td>\n",
              "      <td>NaN</td>\n",
              "      <td>NaN</td>\n",
              "    </tr>\n",
              "  </tbody>\n",
              "</table>\n",
              "</div>"
            ],
            "text/plain": [
              "   reporting_year lea_code  ... use_3yr use_alt_weight\n",
              "0            2019       10  ...     NaN            NaN\n",
              "1            2019       10  ...     NaN            NaN\n",
              "2            2019       10  ...     NaN            NaN\n",
              "3            2019       10  ...     NaN            NaN\n",
              "4            2019       10  ...     NaN            NaN\n",
              "\n",
              "[5 rows x 39 columns]"
            ]
          },
          "metadata": {
            "tags": []
          },
          "execution_count": 728
        }
      ]
    },
    {
      "cell_type": "code",
      "metadata": {
        "id": "SHlpCJ_bbJGt",
        "colab": {
          "base_uri": "https://localhost:8080/",
          "height": 428
        },
        "outputId": "63f913ed-a3c2-423e-ef54-85ab5bb96dba"
      },
      "source": [
        "schools_df = pd.read_csv('/content/drive/Shared drives/Data Science for All - Empowerment/education-data-analysis-project/spg-report2019_final.csv')\n",
        "schools_df.head()"
      ],
      "execution_count": 729,
      "outputs": [
        {
          "output_type": "stream",
          "text": [
            "/usr/local/lib/python3.6/dist-packages/IPython/core/interactiveshell.py:2718: DtypeWarning: Columns (1,3) have mixed types.Specify dtype option on import or set low_memory=False.\n",
            "  interactivity=interactivity, compiler=compiler, result=result)\n"
          ],
          "name": "stderr"
        },
        {
          "output_type": "execute_result",
          "data": {
            "text/html": [
              "<div>\n",
              "<style scoped>\n",
              "    .dataframe tbody tr th:only-of-type {\n",
              "        vertical-align: middle;\n",
              "    }\n",
              "\n",
              "    .dataframe tbody tr th {\n",
              "        vertical-align: top;\n",
              "    }\n",
              "\n",
              "    .dataframe thead th {\n",
              "        text-align: right;\n",
              "    }\n",
              "</style>\n",
              "<table border=\"1\" class=\"dataframe\">\n",
              "  <thead>\n",
              "    <tr style=\"text-align: right;\">\n",
              "      <th></th>\n",
              "      <th>reporting_year</th>\n",
              "      <th>lea_code</th>\n",
              "      <th>lea_name</th>\n",
              "      <th>school_code</th>\n",
              "      <th>school_name</th>\n",
              "      <th>sbe_region</th>\n",
              "      <th>grade_span</th>\n",
              "      <th>title_1</th>\n",
              "      <th>missed_days</th>\n",
              "      <th>subgroup</th>\n",
              "      <th>spg_grade</th>\n",
              "      <th>spg_score</th>\n",
              "      <th>ach_score</th>\n",
              "      <th>eg_score</th>\n",
              "      <th>eg_status</th>\n",
              "      <th>eg_index</th>\n",
              "      <th>rd_spg_grade</th>\n",
              "      <th>rd_spg_score</th>\n",
              "      <th>rdgs_ach_score</th>\n",
              "      <th>rd_eg_score</th>\n",
              "      <th>rd_eg_status</th>\n",
              "      <th>rd_eg_index</th>\n",
              "      <th>ma_spg_grade</th>\n",
              "      <th>ma_spg_score</th>\n",
              "      <th>mags_ach_score</th>\n",
              "      <th>ma_eg_score</th>\n",
              "      <th>ma_eg_status</th>\n",
              "      <th>ma_eg_index</th>\n",
              "      <th>aaa_score</th>\n",
              "      <th>scgs_score</th>\n",
              "      <th>elp_score</th>\n",
              "      <th>cgrs_score</th>\n",
              "      <th>bi_score</th>\n",
              "      <th>awa_score</th>\n",
              "      <th>mcr_score</th>\n",
              "      <th>asm_option</th>\n",
              "      <th>k2_feeder</th>\n",
              "      <th>use_3yr</th>\n",
              "      <th>use_alt_weight</th>\n",
              "    </tr>\n",
              "  </thead>\n",
              "  <tbody>\n",
              "    <tr>\n",
              "      <th>0</th>\n",
              "      <td>2019</td>\n",
              "      <td>10</td>\n",
              "      <td>Alamance-Burlington Schools</td>\n",
              "      <td>10303</td>\n",
              "      <td>ABSS Early College at ACC</td>\n",
              "      <td>Piedmont-Triad</td>\n",
              "      <td>09-13</td>\n",
              "      <td>NaN</td>\n",
              "      <td>1.0</td>\n",
              "      <td>ALL</td>\n",
              "      <td>A</td>\n",
              "      <td>88.0</td>\n",
              "      <td>90.4</td>\n",
              "      <td>80.3</td>\n",
              "      <td>Met</td>\n",
              "      <td>0.15</td>\n",
              "      <td>NaN</td>\n",
              "      <td>NaN</td>\n",
              "      <td>NaN</td>\n",
              "      <td>NaN</td>\n",
              "      <td>NaN</td>\n",
              "      <td>NaN</td>\n",
              "      <td>NaN</td>\n",
              "      <td>NaN</td>\n",
              "      <td>NaN</td>\n",
              "      <td>NaN</td>\n",
              "      <td>NaN</td>\n",
              "      <td>NaN</td>\n",
              "      <td>84.2</td>\n",
              "      <td>NaN</td>\n",
              "      <td>NaN</td>\n",
              "      <td>NaN</td>\n",
              "      <td>&gt;95</td>\n",
              "      <td>87.2</td>\n",
              "      <td>&gt;95</td>\n",
              "      <td>NaN</td>\n",
              "      <td>NaN</td>\n",
              "      <td>NaN</td>\n",
              "      <td>NaN</td>\n",
              "    </tr>\n",
              "    <tr>\n",
              "      <th>1</th>\n",
              "      <td>2019</td>\n",
              "      <td>10</td>\n",
              "      <td>Alamance-Burlington Schools</td>\n",
              "      <td>10303</td>\n",
              "      <td>ABSS Early College at ACC</td>\n",
              "      <td>Piedmont-Triad</td>\n",
              "      <td>09-13</td>\n",
              "      <td>NaN</td>\n",
              "      <td>1.0</td>\n",
              "      <td>AMIN</td>\n",
              "      <td>I</td>\n",
              "      <td>NaN</td>\n",
              "      <td>NaN</td>\n",
              "      <td>NaN</td>\n",
              "      <td>NaN</td>\n",
              "      <td>NaN</td>\n",
              "      <td>NaN</td>\n",
              "      <td>NaN</td>\n",
              "      <td>NaN</td>\n",
              "      <td>NaN</td>\n",
              "      <td>NaN</td>\n",
              "      <td>NaN</td>\n",
              "      <td>NaN</td>\n",
              "      <td>NaN</td>\n",
              "      <td>NaN</td>\n",
              "      <td>NaN</td>\n",
              "      <td>NaN</td>\n",
              "      <td>NaN</td>\n",
              "      <td>NaN</td>\n",
              "      <td>NaN</td>\n",
              "      <td>NaN</td>\n",
              "      <td>NaN</td>\n",
              "      <td>NaN</td>\n",
              "      <td>NaN</td>\n",
              "      <td>NaN</td>\n",
              "      <td>NaN</td>\n",
              "      <td>NaN</td>\n",
              "      <td>NaN</td>\n",
              "      <td>NaN</td>\n",
              "    </tr>\n",
              "    <tr>\n",
              "      <th>2</th>\n",
              "      <td>2019</td>\n",
              "      <td>10</td>\n",
              "      <td>Alamance-Burlington Schools</td>\n",
              "      <td>10303</td>\n",
              "      <td>ABSS Early College at ACC</td>\n",
              "      <td>Piedmont-Triad</td>\n",
              "      <td>09-13</td>\n",
              "      <td>NaN</td>\n",
              "      <td>1.0</td>\n",
              "      <td>ASIA</td>\n",
              "      <td>I</td>\n",
              "      <td>NaN</td>\n",
              "      <td>NaN</td>\n",
              "      <td>NaN</td>\n",
              "      <td>NaN</td>\n",
              "      <td>NaN</td>\n",
              "      <td>NaN</td>\n",
              "      <td>NaN</td>\n",
              "      <td>NaN</td>\n",
              "      <td>NaN</td>\n",
              "      <td>NaN</td>\n",
              "      <td>NaN</td>\n",
              "      <td>NaN</td>\n",
              "      <td>NaN</td>\n",
              "      <td>NaN</td>\n",
              "      <td>NaN</td>\n",
              "      <td>NaN</td>\n",
              "      <td>NaN</td>\n",
              "      <td>NaN</td>\n",
              "      <td>NaN</td>\n",
              "      <td>NaN</td>\n",
              "      <td>NaN</td>\n",
              "      <td>NaN</td>\n",
              "      <td>NaN</td>\n",
              "      <td>NaN</td>\n",
              "      <td>NaN</td>\n",
              "      <td>NaN</td>\n",
              "      <td>NaN</td>\n",
              "      <td>NaN</td>\n",
              "    </tr>\n",
              "    <tr>\n",
              "      <th>3</th>\n",
              "      <td>2019</td>\n",
              "      <td>10</td>\n",
              "      <td>Alamance-Burlington Schools</td>\n",
              "      <td>10303</td>\n",
              "      <td>ABSS Early College at ACC</td>\n",
              "      <td>Piedmont-Triad</td>\n",
              "      <td>09-13</td>\n",
              "      <td>NaN</td>\n",
              "      <td>1.0</td>\n",
              "      <td>BLCK</td>\n",
              "      <td>I</td>\n",
              "      <td>NaN</td>\n",
              "      <td>NaN</td>\n",
              "      <td>NaN</td>\n",
              "      <td>NaN</td>\n",
              "      <td>NaN</td>\n",
              "      <td>NaN</td>\n",
              "      <td>NaN</td>\n",
              "      <td>NaN</td>\n",
              "      <td>NaN</td>\n",
              "      <td>NaN</td>\n",
              "      <td>NaN</td>\n",
              "      <td>NaN</td>\n",
              "      <td>NaN</td>\n",
              "      <td>NaN</td>\n",
              "      <td>NaN</td>\n",
              "      <td>NaN</td>\n",
              "      <td>NaN</td>\n",
              "      <td>NaN</td>\n",
              "      <td>NaN</td>\n",
              "      <td>NaN</td>\n",
              "      <td>NaN</td>\n",
              "      <td>NaN</td>\n",
              "      <td>NaN</td>\n",
              "      <td>NaN</td>\n",
              "      <td>NaN</td>\n",
              "      <td>NaN</td>\n",
              "      <td>NaN</td>\n",
              "      <td>NaN</td>\n",
              "    </tr>\n",
              "    <tr>\n",
              "      <th>4</th>\n",
              "      <td>2019</td>\n",
              "      <td>10</td>\n",
              "      <td>Alamance-Burlington Schools</td>\n",
              "      <td>10303</td>\n",
              "      <td>ABSS Early College at ACC</td>\n",
              "      <td>Piedmont-Triad</td>\n",
              "      <td>09-13</td>\n",
              "      <td>NaN</td>\n",
              "      <td>1.0</td>\n",
              "      <td>HISP</td>\n",
              "      <td>B</td>\n",
              "      <td>71.0</td>\n",
              "      <td>70.6</td>\n",
              "      <td>NaN</td>\n",
              "      <td>NaN</td>\n",
              "      <td>NaN</td>\n",
              "      <td>NaN</td>\n",
              "      <td>NaN</td>\n",
              "      <td>NaN</td>\n",
              "      <td>NaN</td>\n",
              "      <td>NaN</td>\n",
              "      <td>NaN</td>\n",
              "      <td>NaN</td>\n",
              "      <td>NaN</td>\n",
              "      <td>NaN</td>\n",
              "      <td>NaN</td>\n",
              "      <td>NaN</td>\n",
              "      <td>NaN</td>\n",
              "      <td>70.6</td>\n",
              "      <td>NaN</td>\n",
              "      <td>NaN</td>\n",
              "      <td>NaN</td>\n",
              "      <td>NaN</td>\n",
              "      <td>NaN</td>\n",
              "      <td>NaN</td>\n",
              "      <td>NaN</td>\n",
              "      <td>NaN</td>\n",
              "      <td>NaN</td>\n",
              "      <td>NaN</td>\n",
              "    </tr>\n",
              "  </tbody>\n",
              "</table>\n",
              "</div>"
            ],
            "text/plain": [
              "   reporting_year lea_code  ... use_3yr use_alt_weight\n",
              "0            2019       10  ...     NaN            NaN\n",
              "1            2019       10  ...     NaN            NaN\n",
              "2            2019       10  ...     NaN            NaN\n",
              "3            2019       10  ...     NaN            NaN\n",
              "4            2019       10  ...     NaN            NaN\n",
              "\n",
              "[5 rows x 39 columns]"
            ]
          },
          "metadata": {
            "tags": []
          },
          "execution_count": 729
        }
      ]
    },
    {
      "cell_type": "code",
      "metadata": {
        "colab": {
          "base_uri": "https://localhost:8080/"
        },
        "id": "nJLdXNPh4xLL",
        "outputId": "2148ad00-9f7a-4c4f-d0be-6c0be8a24c94"
      },
      "source": [
        "schools_df.shape\n"
      ],
      "execution_count": 730,
      "outputs": [
        {
          "output_type": "execute_result",
          "data": {
            "text/plain": [
              "(26540, 39)"
            ]
          },
          "metadata": {
            "tags": []
          },
          "execution_count": 730
        }
      ]
    },
    {
      "cell_type": "code",
      "metadata": {
        "colab": {
          "base_uri": "https://localhost:8080/"
        },
        "id": "UBqWA6UpXE7t",
        "outputId": "4fe90457-8ffa-4e7e-9dba-6a263b038f95"
      },
      "source": [
        "schools_df.info()"
      ],
      "execution_count": 731,
      "outputs": [
        {
          "output_type": "stream",
          "text": [
            "<class 'pandas.core.frame.DataFrame'>\n",
            "RangeIndex: 26540 entries, 0 to 26539\n",
            "Data columns (total 39 columns):\n",
            " #   Column          Non-Null Count  Dtype  \n",
            "---  ------          --------------  -----  \n",
            " 0   reporting_year  26540 non-null  int64  \n",
            " 1   lea_code        26540 non-null  object \n",
            " 2   lea_name        26540 non-null  object \n",
            " 3   school_code     26540 non-null  object \n",
            " 4   school_name     26540 non-null  object \n",
            " 5   sbe_region      26540 non-null  object \n",
            " 6   grade_span      26540 non-null  object \n",
            " 7   title_1         14920 non-null  object \n",
            " 8   missed_days     26540 non-null  float64\n",
            " 9   subgroup        26540 non-null  object \n",
            " 10  spg_grade       26510 non-null  object \n",
            " 11  spg_score       16333 non-null  float64\n",
            " 12  ach_score       16059 non-null  float64\n",
            " 13  eg_score        14382 non-null  float64\n",
            " 14  eg_status       14382 non-null  object \n",
            " 15  eg_index        14382 non-null  float64\n",
            " 16  rd_spg_grade    2105 non-null   object \n",
            " 17  rd_spg_score    1997 non-null   float64\n",
            " 18  rdgs_ach_score  1997 non-null   object \n",
            " 19  rd_eg_score     1994 non-null   float64\n",
            " 20  rd_eg_status    1994 non-null   object \n",
            " 21  rd_eg_index     1994 non-null   float64\n",
            " 22  ma_spg_grade    2105 non-null   object \n",
            " 23  ma_spg_score    1997 non-null   float64\n",
            " 24  mags_ach_score  1997 non-null   object \n",
            " 25  ma_eg_score     1964 non-null   float64\n",
            " 26  ma_eg_status    1964 non-null   object \n",
            " 27  ma_eg_index     1964 non-null   float64\n",
            " 28  aaa_score       16037 non-null  object \n",
            " 29  scgs_score      6072 non-null   object \n",
            " 30  elp_score       2221 non-null   object \n",
            " 31  cgrs_score      2122 non-null   object \n",
            " 32  bi_score        2087 non-null   object \n",
            " 33  awa_score       1797 non-null   object \n",
            " 34  mcr_score       1967 non-null   object \n",
            " 35  asm_option      940 non-null    object \n",
            " 36  k2_feeder       390 non-null    float64\n",
            " 37  use_3yr         150 non-null    object \n",
            " 38  use_alt_weight  21 non-null     object \n",
            "dtypes: float64(12), int64(1), object(26)\n",
            "memory usage: 7.9+ MB\n"
          ],
          "name": "stdout"
        }
      ]
    },
    {
      "cell_type": "code",
      "metadata": {
        "id": "FDxWlejIXv26",
        "colab": {
          "base_uri": "https://localhost:8080/"
        },
        "outputId": "c91599a9-fee0-4ef9-df08-069b8ecf126b"
      },
      "source": [
        "schools_df.isna().sum()"
      ],
      "execution_count": 732,
      "outputs": [
        {
          "output_type": "execute_result",
          "data": {
            "text/plain": [
              "reporting_year        0\n",
              "lea_code              0\n",
              "lea_name              0\n",
              "school_code           0\n",
              "school_name           0\n",
              "sbe_region            0\n",
              "grade_span            0\n",
              "title_1           11620\n",
              "missed_days           0\n",
              "subgroup              0\n",
              "spg_grade            30\n",
              "spg_score         10207\n",
              "ach_score         10481\n",
              "eg_score          12158\n",
              "eg_status         12158\n",
              "eg_index          12158\n",
              "rd_spg_grade      24435\n",
              "rd_spg_score      24543\n",
              "rdgs_ach_score    24543\n",
              "rd_eg_score       24546\n",
              "rd_eg_status      24546\n",
              "rd_eg_index       24546\n",
              "ma_spg_grade      24435\n",
              "ma_spg_score      24543\n",
              "mags_ach_score    24543\n",
              "ma_eg_score       24576\n",
              "ma_eg_status      24576\n",
              "ma_eg_index       24576\n",
              "aaa_score         10503\n",
              "scgs_score        20468\n",
              "elp_score         24319\n",
              "cgrs_score        24418\n",
              "bi_score          24453\n",
              "awa_score         24743\n",
              "mcr_score         24573\n",
              "asm_option        25600\n",
              "k2_feeder         26150\n",
              "use_3yr           26390\n",
              "use_alt_weight    26519\n",
              "dtype: int64"
            ]
          },
          "metadata": {
            "tags": []
          },
          "execution_count": 732
        }
      ]
    },
    {
      "cell_type": "markdown",
      "metadata": {
        "id": "F7oGceNGyHDT"
      },
      "source": [
        "2) 2019-2020 SAT Dataset"
      ]
    },
    {
      "cell_type": "code",
      "metadata": {
        "colab": {
          "base_uri": "https://localhost:8080/",
          "height": 979
        },
        "id": "w5IBAnx0J6Ed",
        "outputId": "481ada24-89a4-4463-f928-c3ba727f1c3d"
      },
      "source": [
        "sat_df = pd.read_csv('/content/drive/Shared drives/Data Science for All - Empowerment/education-data-analysis-project/satleasch2020_09212020.csv')\n",
        "sat_df.head(30)"
      ],
      "execution_count": 733,
      "outputs": [
        {
          "output_type": "execute_result",
          "data": {
            "text/html": [
              "<div>\n",
              "<style scoped>\n",
              "    .dataframe tbody tr th:only-of-type {\n",
              "        vertical-align: middle;\n",
              "    }\n",
              "\n",
              "    .dataframe tbody tr th {\n",
              "        vertical-align: top;\n",
              "    }\n",
              "\n",
              "    .dataframe thead th {\n",
              "        text-align: right;\n",
              "    }\n",
              "</style>\n",
              "<table border=\"1\" class=\"dataframe\">\n",
              "  <thead>\n",
              "    <tr style=\"text-align: right;\">\n",
              "      <th></th>\n",
              "      <th>Unnamed: 0</th>\n",
              "      <th>School System &amp;School</th>\n",
              "      <th>Unnamed: 2</th>\n",
              "      <th>Unnamed: 3</th>\n",
              "      <th>Unnamed: 4</th>\n",
              "      <th># Tested</th>\n",
              "      <th>% Tested</th>\n",
              "      <th>Total</th>\n",
              "      <th>ERW</th>\n",
              "      <th>Math</th>\n",
              "    </tr>\n",
              "  </thead>\n",
              "  <tbody>\n",
              "    <tr>\n",
              "      <th>0</th>\n",
              "      <td>NaN</td>\n",
              "      <td>NaN</td>\n",
              "      <td>United States (Public School Students)</td>\n",
              "      <td>NaN</td>\n",
              "      <td>NaN</td>\n",
              "      <td>1,849,197</td>\n",
              "      <td>100.0</td>\n",
              "      <td>1030</td>\n",
              "      <td>520</td>\n",
              "      <td>510</td>\n",
              "    </tr>\n",
              "    <tr>\n",
              "      <th>1</th>\n",
              "      <td>NaN</td>\n",
              "      <td>NaN</td>\n",
              "      <td>North Carolina (Public School Students)</td>\n",
              "      <td>NaN</td>\n",
              "      <td>NaN</td>\n",
              "      <td>44,282</td>\n",
              "      <td>42.6</td>\n",
              "      <td>1089</td>\n",
              "      <td>548</td>\n",
              "      <td>540</td>\n",
              "    </tr>\n",
              "    <tr>\n",
              "      <th>2</th>\n",
              "      <td>NaN</td>\n",
              "      <td>NaN</td>\n",
              "      <td>NC School of Science &amp; Math</td>\n",
              "      <td>NaN</td>\n",
              "      <td>NaN</td>\n",
              "      <td>293</td>\n",
              "      <td>NaN</td>\n",
              "      <td>1428</td>\n",
              "      <td>702</td>\n",
              "      <td>725</td>\n",
              "    </tr>\n",
              "    <tr>\n",
              "      <th>3</th>\n",
              "      <td>NaN</td>\n",
              "      <td>NaN</td>\n",
              "      <td>NC School of the Arts</td>\n",
              "      <td>NaN</td>\n",
              "      <td>NaN</td>\n",
              "      <td>88</td>\n",
              "      <td>NaN</td>\n",
              "      <td>1178</td>\n",
              "      <td>609</td>\n",
              "      <td>569</td>\n",
              "    </tr>\n",
              "    <tr>\n",
              "      <th>4</th>\n",
              "      <td>10</td>\n",
              "      <td>Alamance-Burlington Schools</td>\n",
              "      <td>NaN</td>\n",
              "      <td>NaN</td>\n",
              "      <td>NaN</td>\n",
              "      <td>672</td>\n",
              "      <td>43.2</td>\n",
              "      <td>1036</td>\n",
              "      <td>517</td>\n",
              "      <td>518</td>\n",
              "    </tr>\n",
              "    <tr>\n",
              "      <th>5</th>\n",
              "      <td>10</td>\n",
              "      <td>303</td>\n",
              "      <td>Abss Early College At Acc</td>\n",
              "      <td>NaN</td>\n",
              "      <td>NaN</td>\n",
              "      <td>19</td>\n",
              "      <td>33.3</td>\n",
              "      <td>1152</td>\n",
              "      <td>572</td>\n",
              "      <td>580</td>\n",
              "    </tr>\n",
              "    <tr>\n",
              "      <th>6</th>\n",
              "      <td>10</td>\n",
              "      <td>324</td>\n",
              "      <td>Eastern Alamance High</td>\n",
              "      <td>NaN</td>\n",
              "      <td>NaN</td>\n",
              "      <td>113</td>\n",
              "      <td>42</td>\n",
              "      <td>1079</td>\n",
              "      <td>535</td>\n",
              "      <td>544</td>\n",
              "    </tr>\n",
              "    <tr>\n",
              "      <th>7</th>\n",
              "      <td>10</td>\n",
              "      <td>348</td>\n",
              "      <td>Graham High</td>\n",
              "      <td>NaN</td>\n",
              "      <td>NaN</td>\n",
              "      <td>69</td>\n",
              "      <td>51.9</td>\n",
              "      <td>919</td>\n",
              "      <td>464</td>\n",
              "      <td>455</td>\n",
              "    </tr>\n",
              "    <tr>\n",
              "      <th>8</th>\n",
              "      <td>10</td>\n",
              "      <td>360</td>\n",
              "      <td>Hugh M Cummings High</td>\n",
              "      <td>NaN</td>\n",
              "      <td>NaN</td>\n",
              "      <td>65</td>\n",
              "      <td>31</td>\n",
              "      <td>956</td>\n",
              "      <td>476</td>\n",
              "      <td>480</td>\n",
              "    </tr>\n",
              "    <tr>\n",
              "      <th>9</th>\n",
              "      <td>10</td>\n",
              "      <td>388</td>\n",
              "      <td>Southern Alamance High</td>\n",
              "      <td>NaN</td>\n",
              "      <td>NaN</td>\n",
              "      <td>136</td>\n",
              "      <td>38.9</td>\n",
              "      <td>1028</td>\n",
              "      <td>514</td>\n",
              "      <td>514</td>\n",
              "    </tr>\n",
              "    <tr>\n",
              "      <th>10</th>\n",
              "      <td>10</td>\n",
              "      <td>396</td>\n",
              "      <td>Walter M Williams High</td>\n",
              "      <td>NaN</td>\n",
              "      <td>NaN</td>\n",
              "      <td>135</td>\n",
              "      <td>52.7</td>\n",
              "      <td>1029</td>\n",
              "      <td>516</td>\n",
              "      <td>514</td>\n",
              "    </tr>\n",
              "    <tr>\n",
              "      <th>11</th>\n",
              "      <td>10</td>\n",
              "      <td>400</td>\n",
              "      <td>Western Alamance High</td>\n",
              "      <td>NaN</td>\n",
              "      <td>NaN</td>\n",
              "      <td>135</td>\n",
              "      <td>49.1</td>\n",
              "      <td>1095</td>\n",
              "      <td>547</td>\n",
              "      <td>547</td>\n",
              "    </tr>\n",
              "    <tr>\n",
              "      <th>12</th>\n",
              "      <td>20</td>\n",
              "      <td>Alexander County Schools</td>\n",
              "      <td>NaN</td>\n",
              "      <td>NaN</td>\n",
              "      <td>NaN</td>\n",
              "      <td>78</td>\n",
              "      <td>23.4</td>\n",
              "      <td>1083</td>\n",
              "      <td>543</td>\n",
              "      <td>540</td>\n",
              "    </tr>\n",
              "    <tr>\n",
              "      <th>13</th>\n",
              "      <td>20</td>\n",
              "      <td>302</td>\n",
              "      <td>Alexander Central High</td>\n",
              "      <td>NaN</td>\n",
              "      <td>NaN</td>\n",
              "      <td>57</td>\n",
              "      <td>19.5</td>\n",
              "      <td>1061</td>\n",
              "      <td>534</td>\n",
              "      <td>528</td>\n",
              "    </tr>\n",
              "    <tr>\n",
              "      <th>14</th>\n",
              "      <td>20</td>\n",
              "      <td>303</td>\n",
              "      <td>Alexander Early College</td>\n",
              "      <td>NaN</td>\n",
              "      <td>NaN</td>\n",
              "      <td>21</td>\n",
              "      <td>51.2</td>\n",
              "      <td>1141</td>\n",
              "      <td>567</td>\n",
              "      <td>574</td>\n",
              "    </tr>\n",
              "    <tr>\n",
              "      <th>15</th>\n",
              "      <td>30</td>\n",
              "      <td>Alleghany County Schools</td>\n",
              "      <td>NaN</td>\n",
              "      <td>NaN</td>\n",
              "      <td>NaN</td>\n",
              "      <td>22</td>\n",
              "      <td>23.2</td>\n",
              "      <td>1046</td>\n",
              "      <td>515</td>\n",
              "      <td>532</td>\n",
              "    </tr>\n",
              "    <tr>\n",
              "      <th>16</th>\n",
              "      <td>30</td>\n",
              "      <td>304</td>\n",
              "      <td>Alleghany High</td>\n",
              "      <td>NaN</td>\n",
              "      <td>NaN</td>\n",
              "      <td>22</td>\n",
              "      <td>23.2</td>\n",
              "      <td>1046</td>\n",
              "      <td>515</td>\n",
              "      <td>532</td>\n",
              "    </tr>\n",
              "    <tr>\n",
              "      <th>17</th>\n",
              "      <td>40</td>\n",
              "      <td>Anson County Schools</td>\n",
              "      <td>NaN</td>\n",
              "      <td>NaN</td>\n",
              "      <td>NaN</td>\n",
              "      <td>100</td>\n",
              "      <td>46.1</td>\n",
              "      <td>948</td>\n",
              "      <td>482</td>\n",
              "      <td>466</td>\n",
              "    </tr>\n",
              "    <tr>\n",
              "      <th>18</th>\n",
              "      <td>40</td>\n",
              "      <td>304</td>\n",
              "      <td>Anson Co. Early College High</td>\n",
              "      <td>NaN</td>\n",
              "      <td>NaN</td>\n",
              "      <td>40</td>\n",
              "      <td>57.1</td>\n",
              "      <td>1024</td>\n",
              "      <td>519</td>\n",
              "      <td>505</td>\n",
              "    </tr>\n",
              "    <tr>\n",
              "      <th>19</th>\n",
              "      <td>40</td>\n",
              "      <td>306</td>\n",
              "      <td>Anson High School</td>\n",
              "      <td>NaN</td>\n",
              "      <td>NaN</td>\n",
              "      <td>60</td>\n",
              "      <td>41.7</td>\n",
              "      <td>897</td>\n",
              "      <td>457</td>\n",
              "      <td>440</td>\n",
              "    </tr>\n",
              "    <tr>\n",
              "      <th>20</th>\n",
              "      <td>50</td>\n",
              "      <td>Ashe County Schools</td>\n",
              "      <td>NaN</td>\n",
              "      <td>NaN</td>\n",
              "      <td>NaN</td>\n",
              "      <td>57</td>\n",
              "      <td>29.2</td>\n",
              "      <td>1098</td>\n",
              "      <td>564</td>\n",
              "      <td>534</td>\n",
              "    </tr>\n",
              "    <tr>\n",
              "      <th>21</th>\n",
              "      <td>50</td>\n",
              "      <td>302</td>\n",
              "      <td>Ashe County High</td>\n",
              "      <td>NaN</td>\n",
              "      <td>NaN</td>\n",
              "      <td>57</td>\n",
              "      <td>29.2</td>\n",
              "      <td>1098</td>\n",
              "      <td>564</td>\n",
              "      <td>534</td>\n",
              "    </tr>\n",
              "    <tr>\n",
              "      <th>22</th>\n",
              "      <td>60</td>\n",
              "      <td>Avery County Schools</td>\n",
              "      <td>NaN</td>\n",
              "      <td>NaN</td>\n",
              "      <td>NaN</td>\n",
              "      <td>20</td>\n",
              "      <td>18.2</td>\n",
              "      <td>1066</td>\n",
              "      <td>543</td>\n",
              "      <td>524</td>\n",
              "    </tr>\n",
              "    <tr>\n",
              "      <th>23</th>\n",
              "      <td>60</td>\n",
              "      <td>302</td>\n",
              "      <td>Avery County High</td>\n",
              "      <td>NaN</td>\n",
              "      <td>NaN</td>\n",
              "      <td>20</td>\n",
              "      <td>18.9</td>\n",
              "      <td>1066</td>\n",
              "      <td>543</td>\n",
              "      <td>524</td>\n",
              "    </tr>\n",
              "    <tr>\n",
              "      <th>24</th>\n",
              "      <td>70</td>\n",
              "      <td>Beaufort County Schools</td>\n",
              "      <td>NaN</td>\n",
              "      <td>NaN</td>\n",
              "      <td>NaN</td>\n",
              "      <td>127</td>\n",
              "      <td>26.7</td>\n",
              "      <td>1048</td>\n",
              "      <td>528</td>\n",
              "      <td>520</td>\n",
              "    </tr>\n",
              "    <tr>\n",
              "      <th>25</th>\n",
              "      <td>70</td>\n",
              "      <td>311</td>\n",
              "      <td>Beaufort Co Early College High</td>\n",
              "      <td>NaN</td>\n",
              "      <td>NaN</td>\n",
              "      <td>20</td>\n",
              "      <td>24.1</td>\n",
              "      <td>1211</td>\n",
              "      <td>618</td>\n",
              "      <td>593</td>\n",
              "    </tr>\n",
              "    <tr>\n",
              "      <th>26</th>\n",
              "      <td>70</td>\n",
              "      <td>330</td>\n",
              "      <td>Northside High</td>\n",
              "      <td>NaN</td>\n",
              "      <td>NaN</td>\n",
              "      <td>14</td>\n",
              "      <td>14</td>\n",
              "      <td>1127</td>\n",
              "      <td>556</td>\n",
              "      <td>571</td>\n",
              "    </tr>\n",
              "    <tr>\n",
              "      <th>27</th>\n",
              "      <td>70</td>\n",
              "      <td>339</td>\n",
              "      <td>Southside High</td>\n",
              "      <td>NaN</td>\n",
              "      <td>NaN</td>\n",
              "      <td>20</td>\n",
              "      <td>24.1</td>\n",
              "      <td>1002</td>\n",
              "      <td>495</td>\n",
              "      <td>507</td>\n",
              "    </tr>\n",
              "    <tr>\n",
              "      <th>28</th>\n",
              "      <td>70</td>\n",
              "      <td>342</td>\n",
              "      <td>Washington High</td>\n",
              "      <td>NaN</td>\n",
              "      <td>NaN</td>\n",
              "      <td>73</td>\n",
              "      <td>37.1</td>\n",
              "      <td>1000</td>\n",
              "      <td>507</td>\n",
              "      <td>493</td>\n",
              "    </tr>\n",
              "    <tr>\n",
              "      <th>29</th>\n",
              "      <td>80</td>\n",
              "      <td>Bertie County Schools</td>\n",
              "      <td>NaN</td>\n",
              "      <td>NaN</td>\n",
              "      <td>NaN</td>\n",
              "      <td>77</td>\n",
              "      <td>49.7</td>\n",
              "      <td>888</td>\n",
              "      <td>454</td>\n",
              "      <td>434</td>\n",
              "    </tr>\n",
              "  </tbody>\n",
              "</table>\n",
              "</div>"
            ],
            "text/plain": [
              "   Unnamed: 0          School System &School  ...  ERW  Math\n",
              "0         NaN                            NaN  ...  520   510\n",
              "1         NaN                            NaN  ...  548   540\n",
              "2         NaN                            NaN  ...  702   725\n",
              "3         NaN                            NaN  ...  609   569\n",
              "4          10   Alamance-Burlington Schools   ...  517   518\n",
              "5          10                            303  ...  572   580\n",
              "6          10                            324  ...  535   544\n",
              "7          10                            348  ...  464   455\n",
              "8          10                            360  ...  476   480\n",
              "9          10                            388  ...  514   514\n",
              "10         10                            396  ...  516   514\n",
              "11         10                            400  ...  547   547\n",
              "12         20      Alexander County Schools   ...  543   540\n",
              "13         20                            302  ...  534   528\n",
              "14         20                            303  ...  567   574\n",
              "15         30      Alleghany County Schools   ...  515   532\n",
              "16         30                            304  ...  515   532\n",
              "17         40          Anson County Schools   ...  482   466\n",
              "18         40                            304  ...  519   505\n",
              "19         40                            306  ...  457   440\n",
              "20         50           Ashe County Schools   ...  564   534\n",
              "21         50                            302  ...  564   534\n",
              "22         60          Avery County Schools   ...  543   524\n",
              "23         60                            302  ...  543   524\n",
              "24         70       Beaufort County Schools   ...  528   520\n",
              "25         70                            311  ...  618   593\n",
              "26         70                            330  ...  556   571\n",
              "27         70                            339  ...  495   507\n",
              "28         70                            342  ...  507   493\n",
              "29         80         Bertie County Schools   ...  454   434\n",
              "\n",
              "[30 rows x 10 columns]"
            ]
          },
          "metadata": {
            "tags": []
          },
          "execution_count": 733
        }
      ]
    },
    {
      "cell_type": "code",
      "metadata": {
        "colab": {
          "base_uri": "https://localhost:8080/"
        },
        "id": "iVuNqzn13wsZ",
        "outputId": "f64de7d8-8491-4255-8507-2a79947beb46"
      },
      "source": [
        "sat_df.shape"
      ],
      "execution_count": 734,
      "outputs": [
        {
          "output_type": "execute_result",
          "data": {
            "text/plain": [
              "(702, 10)"
            ]
          },
          "metadata": {
            "tags": []
          },
          "execution_count": 734
        }
      ]
    },
    {
      "cell_type": "code",
      "metadata": {
        "colab": {
          "base_uri": "https://localhost:8080/"
        },
        "id": "VljaTP_e3ssj",
        "outputId": "20bf1336-6f57-4424-8e8f-b678b3a9c347"
      },
      "source": [
        "sat_df.info()"
      ],
      "execution_count": 735,
      "outputs": [
        {
          "output_type": "stream",
          "text": [
            "<class 'pandas.core.frame.DataFrame'>\n",
            "RangeIndex: 702 entries, 0 to 701\n",
            "Data columns (total 10 columns):\n",
            " #   Column                 Non-Null Count  Dtype  \n",
            "---  ------                 --------------  -----  \n",
            " 0   Unnamed: 0             698 non-null    object \n",
            " 1   School System &School  698 non-null    object \n",
            " 2   Unnamed: 2             520 non-null    object \n",
            " 3   Unnamed: 3             0 non-null      float64\n",
            " 4   Unnamed: 4             0 non-null      float64\n",
            " 5   # Tested               702 non-null    object \n",
            " 6   % Tested               700 non-null    object \n",
            " 7   Total                  702 non-null    object \n",
            " 8   ERW                    702 non-null    object \n",
            " 9   Math                   702 non-null    object \n",
            "dtypes: float64(2), object(8)\n",
            "memory usage: 55.0+ KB\n"
          ],
          "name": "stdout"
        }
      ]
    },
    {
      "cell_type": "code",
      "metadata": {
        "colab": {
          "base_uri": "https://localhost:8080/"
        },
        "id": "H3Qb_W4G30VV",
        "outputId": "d3798d14-8a16-46d8-da92-1e52722c390c"
      },
      "source": [
        "sat_df.isna().sum()"
      ],
      "execution_count": 736,
      "outputs": [
        {
          "output_type": "execute_result",
          "data": {
            "text/plain": [
              "Unnamed: 0                 4\n",
              "School System &School      4\n",
              "Unnamed: 2               182\n",
              "Unnamed: 3               702\n",
              "Unnamed: 4               702\n",
              "# Tested                   0\n",
              "% Tested                   2\n",
              "Total                      0\n",
              "ERW                        0\n",
              "Math                       0\n",
              "dtype: int64"
            ]
          },
          "metadata": {
            "tags": []
          },
          "execution_count": 736
        }
      ]
    },
    {
      "cell_type": "markdown",
      "metadata": {
        "id": "5OltjEU6J1C0"
      },
      "source": [
        "3) 2019-2020 AST Dataset"
      ]
    },
    {
      "cell_type": "code",
      "metadata": {
        "colab": {
          "base_uri": "https://localhost:8080/",
          "height": 956
        },
        "id": "lWki1OrKOzEo",
        "outputId": "89d97b66-5d6e-4bc6-8a85-7f1fa24ea812"
      },
      "source": [
        "ast_df = pd.read_excel('/content/drive/Shared drives/Data Science for All - Empowerment/education-data-analysis-project/actgrads2019-2020_10122020.xlsx')\n",
        "ast_df.head(15)"
      ],
      "execution_count": 737,
      "outputs": [
        {
          "output_type": "execute_result",
          "data": {
            "text/html": [
              "<div>\n",
              "<style scoped>\n",
              "    .dataframe tbody tr th:only-of-type {\n",
              "        vertical-align: middle;\n",
              "    }\n",
              "\n",
              "    .dataframe tbody tr th {\n",
              "        vertical-align: top;\n",
              "    }\n",
              "\n",
              "    .dataframe thead th {\n",
              "        text-align: right;\n",
              "    }\n",
              "</style>\n",
              "<table border=\"1\" class=\"dataframe\">\n",
              "  <thead>\n",
              "    <tr style=\"text-align: right;\">\n",
              "      <th></th>\n",
              "      <th>Unnamed: 0</th>\n",
              "      <th>Unnamed: 1</th>\n",
              "      <th>School System &amp; School</th>\n",
              "      <th># tested</th>\n",
              "      <th>Average Composite Score</th>\n",
              "      <th>Average English Score</th>\n",
              "      <th>% Met English Benchmark</th>\n",
              "      <th>Average Math Score</th>\n",
              "      <th>% Met Math Benchmark</th>\n",
              "      <th>Average Reading Score</th>\n",
              "      <th>% Met Reading Benchmark</th>\n",
              "      <th>Average Science Score</th>\n",
              "      <th>% Met Science Benchmark</th>\n",
              "      <th>% Met All Four Benchmarks</th>\n",
              "    </tr>\n",
              "  </thead>\n",
              "  <tbody>\n",
              "    <tr>\n",
              "      <th>0</th>\n",
              "      <td>NaN</td>\n",
              "      <td>NaN</td>\n",
              "      <td>United States (All Students)</td>\n",
              "      <td>1670497.0</td>\n",
              "      <td>20.6</td>\n",
              "      <td>19.9</td>\n",
              "      <td>58</td>\n",
              "      <td>20.2</td>\n",
              "      <td>37</td>\n",
              "      <td>21.2</td>\n",
              "      <td>45</td>\n",
              "      <td>20.6</td>\n",
              "      <td>36</td>\n",
              "      <td>26</td>\n",
              "    </tr>\n",
              "    <tr>\n",
              "      <th>1</th>\n",
              "      <td>NaN</td>\n",
              "      <td>NaN</td>\n",
              "      <td>North Carolina (All Students)</td>\n",
              "      <td>108350.0</td>\n",
              "      <td>18.8</td>\n",
              "      <td>17.3</td>\n",
              "      <td>43</td>\n",
              "      <td>18.9</td>\n",
              "      <td>28</td>\n",
              "      <td>19.5</td>\n",
              "      <td>35</td>\n",
              "      <td>18.9</td>\n",
              "      <td>27</td>\n",
              "      <td>18</td>\n",
              "    </tr>\n",
              "    <tr>\n",
              "      <th>2</th>\n",
              "      <td>NaN</td>\n",
              "      <td>NaN</td>\n",
              "      <td>State of North Carolina</td>\n",
              "      <td>103276.0</td>\n",
              "      <td>18.6</td>\n",
              "      <td>17</td>\n",
              "      <td>41</td>\n",
              "      <td>18.8</td>\n",
              "      <td>26</td>\n",
              "      <td>19.2</td>\n",
              "      <td>34</td>\n",
              "      <td>18.7</td>\n",
              "      <td>25</td>\n",
              "      <td>17</td>\n",
              "    </tr>\n",
              "    <tr>\n",
              "      <th>3</th>\n",
              "      <td>NaN</td>\n",
              "      <td>NaN</td>\n",
              "      <td>NC School Of Science &amp; Math</td>\n",
              "      <td>174.0</td>\n",
              "      <td>32.4</td>\n",
              "      <td>32.4</td>\n",
              "      <td>&gt;95</td>\n",
              "      <td>31.7</td>\n",
              "      <td>&gt;95</td>\n",
              "      <td>32.5</td>\n",
              "      <td>&gt;95</td>\n",
              "      <td>32.1</td>\n",
              "      <td>&gt;95</td>\n",
              "      <td>&gt;95</td>\n",
              "    </tr>\n",
              "    <tr>\n",
              "      <th>4</th>\n",
              "      <td>NaN</td>\n",
              "      <td>NaN</td>\n",
              "      <td>NC School Of The Arts</td>\n",
              "      <td>31.0</td>\n",
              "      <td>26.4</td>\n",
              "      <td>28.5</td>\n",
              "      <td>&gt;95</td>\n",
              "      <td>23.9</td>\n",
              "      <td>68</td>\n",
              "      <td>28.4</td>\n",
              "      <td>84</td>\n",
              "      <td>24.2</td>\n",
              "      <td>71</td>\n",
              "      <td>55</td>\n",
              "    </tr>\n",
              "    <tr>\n",
              "      <th>5</th>\n",
              "      <td>010</td>\n",
              "      <td>010</td>\n",
              "      <td>Alamance-Burlington Schools</td>\n",
              "      <td>1575.0</td>\n",
              "      <td>17.2</td>\n",
              "      <td>15.4</td>\n",
              "      <td>30</td>\n",
              "      <td>17.8</td>\n",
              "      <td>19</td>\n",
              "      <td>17.6</td>\n",
              "      <td>23</td>\n",
              "      <td>17.6</td>\n",
              "      <td>19</td>\n",
              "      <td>10</td>\n",
              "    </tr>\n",
              "    <tr>\n",
              "      <th>6</th>\n",
              "      <td>010</td>\n",
              "      <td>010303</td>\n",
              "      <td>ABSS Early College at ACC</td>\n",
              "      <td>59.0</td>\n",
              "      <td>22.6</td>\n",
              "      <td>21.3</td>\n",
              "      <td>80</td>\n",
              "      <td>22.8</td>\n",
              "      <td>64</td>\n",
              "      <td>23.2</td>\n",
              "      <td>51</td>\n",
              "      <td>22.7</td>\n",
              "      <td>58</td>\n",
              "      <td>37</td>\n",
              "    </tr>\n",
              "    <tr>\n",
              "      <th>7</th>\n",
              "      <td>010</td>\n",
              "      <td>010324</td>\n",
              "      <td>Eastern Alamance High</td>\n",
              "      <td>296.0</td>\n",
              "      <td>17.5</td>\n",
              "      <td>15.8</td>\n",
              "      <td>33</td>\n",
              "      <td>18.1</td>\n",
              "      <td>21</td>\n",
              "      <td>17.9</td>\n",
              "      <td>26</td>\n",
              "      <td>17.7</td>\n",
              "      <td>21</td>\n",
              "      <td>11</td>\n",
              "    </tr>\n",
              "    <tr>\n",
              "      <th>8</th>\n",
              "      <td>010</td>\n",
              "      <td>010348</td>\n",
              "      <td>Graham High</td>\n",
              "      <td>131.0</td>\n",
              "      <td>15.2</td>\n",
              "      <td>13</td>\n",
              "      <td>13</td>\n",
              "      <td>16.1</td>\n",
              "      <td>6</td>\n",
              "      <td>15.8</td>\n",
              "      <td>12</td>\n",
              "      <td>15.7</td>\n",
              "      <td>8</td>\n",
              "      <td>&lt;5</td>\n",
              "    </tr>\n",
              "    <tr>\n",
              "      <th>9</th>\n",
              "      <td>010</td>\n",
              "      <td>010360</td>\n",
              "      <td>Hugh M Cummings High</td>\n",
              "      <td>212.0</td>\n",
              "      <td>14.2</td>\n",
              "      <td>11.4</td>\n",
              "      <td>7</td>\n",
              "      <td>15.5</td>\n",
              "      <td>6</td>\n",
              "      <td>14.1</td>\n",
              "      <td>7</td>\n",
              "      <td>15</td>\n",
              "      <td>5</td>\n",
              "      <td>&lt;5</td>\n",
              "    </tr>\n",
              "    <tr>\n",
              "      <th>10</th>\n",
              "      <td>010</td>\n",
              "      <td>010378</td>\n",
              "      <td>Ray Street Academy</td>\n",
              "      <td>2.0</td>\n",
              "      <td>*</td>\n",
              "      <td>*</td>\n",
              "      <td>*</td>\n",
              "      <td>*</td>\n",
              "      <td>*</td>\n",
              "      <td>*</td>\n",
              "      <td>*</td>\n",
              "      <td>*</td>\n",
              "      <td>*</td>\n",
              "      <td>*</td>\n",
              "    </tr>\n",
              "    <tr>\n",
              "      <th>11</th>\n",
              "      <td>010</td>\n",
              "      <td>010388</td>\n",
              "      <td>Southern Alamance High</td>\n",
              "      <td>339.0</td>\n",
              "      <td>17.7</td>\n",
              "      <td>15.9</td>\n",
              "      <td>32</td>\n",
              "      <td>17.7</td>\n",
              "      <td>17</td>\n",
              "      <td>18.3</td>\n",
              "      <td>24</td>\n",
              "      <td>18.2</td>\n",
              "      <td>19</td>\n",
              "      <td>9</td>\n",
              "    </tr>\n",
              "    <tr>\n",
              "      <th>12</th>\n",
              "      <td>010</td>\n",
              "      <td>010396</td>\n",
              "      <td>Walter M Williams High</td>\n",
              "      <td>257.0</td>\n",
              "      <td>17.1</td>\n",
              "      <td>15.4</td>\n",
              "      <td>30</td>\n",
              "      <td>18</td>\n",
              "      <td>19</td>\n",
              "      <td>17</td>\n",
              "      <td>18</td>\n",
              "      <td>17.2</td>\n",
              "      <td>18</td>\n",
              "      <td>10</td>\n",
              "    </tr>\n",
              "    <tr>\n",
              "      <th>13</th>\n",
              "      <td>010</td>\n",
              "      <td>010400</td>\n",
              "      <td>Western Alamance High</td>\n",
              "      <td>279.0</td>\n",
              "      <td>18.8</td>\n",
              "      <td>17.2</td>\n",
              "      <td>41</td>\n",
              "      <td>19.1</td>\n",
              "      <td>29</td>\n",
              "      <td>19.4</td>\n",
              "      <td>34</td>\n",
              "      <td>18.9</td>\n",
              "      <td>24</td>\n",
              "      <td>16</td>\n",
              "    </tr>\n",
              "    <tr>\n",
              "      <th>14</th>\n",
              "      <td>020</td>\n",
              "      <td>020</td>\n",
              "      <td>Alexander County Schools</td>\n",
              "      <td>318.0</td>\n",
              "      <td>18.2</td>\n",
              "      <td>16.7</td>\n",
              "      <td>40</td>\n",
              "      <td>18.6</td>\n",
              "      <td>21</td>\n",
              "      <td>18.6</td>\n",
              "      <td>28</td>\n",
              "      <td>18.5</td>\n",
              "      <td>21</td>\n",
              "      <td>13</td>\n",
              "    </tr>\n",
              "  </tbody>\n",
              "</table>\n",
              "</div>"
            ],
            "text/plain": [
              "   Unnamed: 0 Unnamed: 1  ... % Met Science Benchmark  % Met All Four Benchmarks\n",
              "0         NaN        NaN  ...                      36                         26\n",
              "1         NaN        NaN  ...                      27                         18\n",
              "2         NaN        NaN  ...                      25                         17\n",
              "3         NaN        NaN  ...                     >95                        >95\n",
              "4         NaN        NaN  ...                      71                         55\n",
              "5         010        010  ...                      19                         10\n",
              "6         010     010303  ...                      58                         37\n",
              "7         010     010324  ...                      21                         11\n",
              "8         010     010348  ...                       8                         <5\n",
              "9         010     010360  ...                       5                         <5\n",
              "10        010     010378  ...                       *                          *\n",
              "11        010     010388  ...                      19                          9\n",
              "12        010     010396  ...                      18                         10\n",
              "13        010     010400  ...                      24                         16\n",
              "14        020        020  ...                      21                         13\n",
              "\n",
              "[15 rows x 14 columns]"
            ]
          },
          "metadata": {
            "tags": []
          },
          "execution_count": 737
        }
      ]
    },
    {
      "cell_type": "code",
      "metadata": {
        "colab": {
          "base_uri": "https://localhost:8080/"
        },
        "id": "fG7C4f474MT8",
        "outputId": "b906e94a-6239-4d66-f170-eca5e82db5e0"
      },
      "source": [
        "ast_df.shape"
      ],
      "execution_count": 738,
      "outputs": [
        {
          "output_type": "execute_result",
          "data": {
            "text/plain": [
              "(766, 14)"
            ]
          },
          "metadata": {
            "tags": []
          },
          "execution_count": 738
        }
      ]
    },
    {
      "cell_type": "code",
      "metadata": {
        "colab": {
          "base_uri": "https://localhost:8080/"
        },
        "id": "OGf_Nk-a4QBU",
        "outputId": "68d5d0d8-f662-40ca-9025-3a3cb7c38d4a"
      },
      "source": [
        "ast_df.info()"
      ],
      "execution_count": 739,
      "outputs": [
        {
          "output_type": "stream",
          "text": [
            "<class 'pandas.core.frame.DataFrame'>\n",
            "RangeIndex: 766 entries, 0 to 765\n",
            "Data columns (total 14 columns):\n",
            " #   Column                     Non-Null Count  Dtype  \n",
            "---  ------                     --------------  -----  \n",
            " 0   Unnamed: 0                 761 non-null    object \n",
            " 1   Unnamed: 1                 760 non-null    object \n",
            " 2   School System & School     692 non-null    object \n",
            " 3    # tested                  765 non-null    float64\n",
            " 4   Average Composite Score    765 non-null    object \n",
            " 5   Average English Score      765 non-null    object \n",
            " 6   % Met English Benchmark    765 non-null    object \n",
            " 7   Average Math Score         765 non-null    object \n",
            " 8   % Met Math Benchmark       765 non-null    object \n",
            " 9   Average Reading Score      765 non-null    object \n",
            " 10  % Met Reading Benchmark    765 non-null    object \n",
            " 11  Average Science Score      765 non-null    object \n",
            " 12  % Met Science Benchmark    765 non-null    object \n",
            " 13  % Met All Four Benchmarks  765 non-null    object \n",
            "dtypes: float64(1), object(13)\n",
            "memory usage: 83.9+ KB\n"
          ],
          "name": "stdout"
        }
      ]
    },
    {
      "cell_type": "code",
      "metadata": {
        "colab": {
          "base_uri": "https://localhost:8080/"
        },
        "id": "I9tWku2e4XQw",
        "outputId": "4e4b47a8-efe7-4ada-ce2a-b782f87fe052"
      },
      "source": [
        "ast_df.isna().sum()"
      ],
      "execution_count": 740,
      "outputs": [
        {
          "output_type": "execute_result",
          "data": {
            "text/plain": [
              "Unnamed: 0                    5\n",
              "Unnamed: 1                    6\n",
              "School System & School       74\n",
              " # tested                     1\n",
              "Average Composite Score       1\n",
              "Average English Score         1\n",
              "% Met English Benchmark       1\n",
              "Average Math Score            1\n",
              "% Met Math Benchmark          1\n",
              "Average Reading Score         1\n",
              "% Met Reading Benchmark       1\n",
              "Average Science Score         1\n",
              "% Met Science Benchmark       1\n",
              "% Met All Four Benchmarks     1\n",
              "dtype: int64"
            ]
          },
          "metadata": {
            "tags": []
          },
          "execution_count": 740
        }
      ]
    },
    {
      "cell_type": "markdown",
      "metadata": {
        "id": "2Py5j7IUu5Rg"
      },
      "source": [
        "# Data Cleaning"
      ]
    },
    {
      "cell_type": "markdown",
      "metadata": {
        "id": "L8iMQnQyL1qM"
      },
      "source": [
        "### AST Dataset Cleaning "
      ]
    },
    {
      "cell_type": "markdown",
      "metadata": {
        "id": "fVZZJWG_L_6z"
      },
      "source": [
        "Removing top 3 rows \n"
      ]
    },
    {
      "cell_type": "code",
      "metadata": {
        "id": "xwMNY5l5L_ki"
      },
      "source": [
        "ast_df = ast_df.iloc[3:]"
      ],
      "execution_count": 741,
      "outputs": []
    },
    {
      "cell_type": "code",
      "metadata": {
        "colab": {
          "base_uri": "https://localhost:8080/",
          "height": 391
        },
        "id": "mkw4h5ipLyCs",
        "outputId": "88d4e6b0-4402-47ba-ca82-5240f0c1d1c3"
      },
      "source": [
        "ast_df.head()"
      ],
      "execution_count": 742,
      "outputs": [
        {
          "output_type": "execute_result",
          "data": {
            "text/html": [
              "<div>\n",
              "<style scoped>\n",
              "    .dataframe tbody tr th:only-of-type {\n",
              "        vertical-align: middle;\n",
              "    }\n",
              "\n",
              "    .dataframe tbody tr th {\n",
              "        vertical-align: top;\n",
              "    }\n",
              "\n",
              "    .dataframe thead th {\n",
              "        text-align: right;\n",
              "    }\n",
              "</style>\n",
              "<table border=\"1\" class=\"dataframe\">\n",
              "  <thead>\n",
              "    <tr style=\"text-align: right;\">\n",
              "      <th></th>\n",
              "      <th>Unnamed: 0</th>\n",
              "      <th>Unnamed: 1</th>\n",
              "      <th>School System &amp; School</th>\n",
              "      <th># tested</th>\n",
              "      <th>Average Composite Score</th>\n",
              "      <th>Average English Score</th>\n",
              "      <th>% Met English Benchmark</th>\n",
              "      <th>Average Math Score</th>\n",
              "      <th>% Met Math Benchmark</th>\n",
              "      <th>Average Reading Score</th>\n",
              "      <th>% Met Reading Benchmark</th>\n",
              "      <th>Average Science Score</th>\n",
              "      <th>% Met Science Benchmark</th>\n",
              "      <th>% Met All Four Benchmarks</th>\n",
              "    </tr>\n",
              "  </thead>\n",
              "  <tbody>\n",
              "    <tr>\n",
              "      <th>3</th>\n",
              "      <td>NaN</td>\n",
              "      <td>NaN</td>\n",
              "      <td>NC School Of Science &amp; Math</td>\n",
              "      <td>174.0</td>\n",
              "      <td>32.4</td>\n",
              "      <td>32.4</td>\n",
              "      <td>&gt;95</td>\n",
              "      <td>31.7</td>\n",
              "      <td>&gt;95</td>\n",
              "      <td>32.5</td>\n",
              "      <td>&gt;95</td>\n",
              "      <td>32.1</td>\n",
              "      <td>&gt;95</td>\n",
              "      <td>&gt;95</td>\n",
              "    </tr>\n",
              "    <tr>\n",
              "      <th>4</th>\n",
              "      <td>NaN</td>\n",
              "      <td>NaN</td>\n",
              "      <td>NC School Of The Arts</td>\n",
              "      <td>31.0</td>\n",
              "      <td>26.4</td>\n",
              "      <td>28.5</td>\n",
              "      <td>&gt;95</td>\n",
              "      <td>23.9</td>\n",
              "      <td>68</td>\n",
              "      <td>28.4</td>\n",
              "      <td>84</td>\n",
              "      <td>24.2</td>\n",
              "      <td>71</td>\n",
              "      <td>55</td>\n",
              "    </tr>\n",
              "    <tr>\n",
              "      <th>5</th>\n",
              "      <td>010</td>\n",
              "      <td>010</td>\n",
              "      <td>Alamance-Burlington Schools</td>\n",
              "      <td>1575.0</td>\n",
              "      <td>17.2</td>\n",
              "      <td>15.4</td>\n",
              "      <td>30</td>\n",
              "      <td>17.8</td>\n",
              "      <td>19</td>\n",
              "      <td>17.6</td>\n",
              "      <td>23</td>\n",
              "      <td>17.6</td>\n",
              "      <td>19</td>\n",
              "      <td>10</td>\n",
              "    </tr>\n",
              "    <tr>\n",
              "      <th>6</th>\n",
              "      <td>010</td>\n",
              "      <td>010303</td>\n",
              "      <td>ABSS Early College at ACC</td>\n",
              "      <td>59.0</td>\n",
              "      <td>22.6</td>\n",
              "      <td>21.3</td>\n",
              "      <td>80</td>\n",
              "      <td>22.8</td>\n",
              "      <td>64</td>\n",
              "      <td>23.2</td>\n",
              "      <td>51</td>\n",
              "      <td>22.7</td>\n",
              "      <td>58</td>\n",
              "      <td>37</td>\n",
              "    </tr>\n",
              "    <tr>\n",
              "      <th>7</th>\n",
              "      <td>010</td>\n",
              "      <td>010324</td>\n",
              "      <td>Eastern Alamance High</td>\n",
              "      <td>296.0</td>\n",
              "      <td>17.5</td>\n",
              "      <td>15.8</td>\n",
              "      <td>33</td>\n",
              "      <td>18.1</td>\n",
              "      <td>21</td>\n",
              "      <td>17.9</td>\n",
              "      <td>26</td>\n",
              "      <td>17.7</td>\n",
              "      <td>21</td>\n",
              "      <td>11</td>\n",
              "    </tr>\n",
              "  </tbody>\n",
              "</table>\n",
              "</div>"
            ],
            "text/plain": [
              "  Unnamed: 0 Unnamed: 1  ... % Met Science Benchmark  % Met All Four Benchmarks\n",
              "3        NaN        NaN  ...                     >95                        >95\n",
              "4        NaN        NaN  ...                      71                         55\n",
              "5        010        010  ...                      19                         10\n",
              "6        010     010303  ...                      58                         37\n",
              "7        010     010324  ...                      21                         11\n",
              "\n",
              "[5 rows x 14 columns]"
            ]
          },
          "metadata": {
            "tags": []
          },
          "execution_count": 742
        }
      ]
    },
    {
      "cell_type": "markdown",
      "metadata": {
        "id": "E-pvW8coNMyp"
      },
      "source": [
        "Changing data types of columns to float"
      ]
    },
    {
      "cell_type": "code",
      "metadata": {
        "id": "H952MB4w-64m"
      },
      "source": [
        "ast_df = ast_df.apply(lambda x: str(x).replace('>95', '95'))\n",
        "ast_df = ast_df.apply(lambda x: str(x).replace('<5', '5'))\n",
        "ast_df = ast_df.apply(lambda x: str(x).replace('*', '0'))\n",
        "ast_df = ast_df.apply(lambda x: str(x).replace('nan', '999'))\n",
        "ast_df = ast_df.apply(lambda x: str(x).replace('      .', '0'))"
      ],
      "execution_count": 743,
      "outputs": []
    },
    {
      "cell_type": "code",
      "metadata": {
        "id": "UvqNA9ixALnX"
      },
      "source": [
        "\n",
        "columns_to_float = [' # tested', 'Average Composite Score', 'Average English Score','% Met English Benchmark', 'Average Math Score', '% Met Math Benchmark',\n",
        "                    'Average Reading Score', '% Met Reading Benchmark', 'Average Science Score ', '% Met Science Benchmark', '% Met All Four Benchmarks']\n",
        "for column in columns_to_float:\n",
        "  ast_df[column] = pd.to_numeric(ast_df[column], errors='coerce')\n",
        "\n",
        "\n"
      ],
      "execution_count": 744,
      "outputs": []
    },
    {
      "cell_type": "markdown",
      "metadata": {
        "id": "HkPIuyWN03e2"
      },
      "source": [
        "### SAT Dataset Cleaning "
      ]
    },
    {
      "cell_type": "code",
      "metadata": {
        "id": "0VUzUCo93VDD"
      },
      "source": [
        "sat_df = sat_df.iloc[2:]"
      ],
      "execution_count": 745,
      "outputs": []
    },
    {
      "cell_type": "code",
      "metadata": {
        "colab": {
          "base_uri": "https://localhost:8080/"
        },
        "id": "7MGxrfas1lbw",
        "outputId": "025a04af-0555-4d64-be85-dd0fd3a43dfb"
      },
      "source": [
        "sat_df.columns"
      ],
      "execution_count": 746,
      "outputs": [
        {
          "output_type": "execute_result",
          "data": {
            "text/plain": [
              "Index(['Unnamed: 0', 'School System &School', 'Unnamed: 2', 'Unnamed: 3',\n",
              "       'Unnamed: 4', '# Tested', '% Tested', 'Total', 'ERW', 'Math'],\n",
              "      dtype='object')"
            ]
          },
          "metadata": {
            "tags": []
          },
          "execution_count": 746
        }
      ]
    },
    {
      "cell_type": "code",
      "metadata": {
        "id": "ARMrK19e1w9L"
      },
      "source": [
        "sat_df['# Tested'] = sat_df['# Tested'].apply(lambda x: str(x).replace('<10', '10'))\n",
        "\n"
      ],
      "execution_count": 747,
      "outputs": []
    },
    {
      "cell_type": "code",
      "metadata": {
        "id": "BH2--3CJ3pJW"
      },
      "source": [
        "sat_df['# Tested'] = pd.to_numeric(sat_df['# Tested'], errors='coerce')"
      ],
      "execution_count": 748,
      "outputs": []
    },
    {
      "cell_type": "code",
      "metadata": {
        "id": "ZA7W_fL_1IXW"
      },
      "source": [
        "sat_df = sat_df.drop('Unnamed: 3', axis = 1) \n",
        "sat_df = sat_df.drop('Unnamed: 4', axis = 1) "
      ],
      "execution_count": 749,
      "outputs": []
    },
    {
      "cell_type": "code",
      "metadata": {
        "id": "XEimv8mZ2RKv"
      },
      "source": [
        ""
      ],
      "execution_count": 749,
      "outputs": []
    },
    {
      "cell_type": "markdown",
      "metadata": {
        "id": "8PrJELsivDJ9"
      },
      "source": [
        "### Schools_df dataset cleaning"
      ]
    },
    {
      "cell_type": "code",
      "metadata": {
        "id": "br3RrqAM4w_O",
        "colab": {
          "base_uri": "https://localhost:8080/",
          "height": 410
        },
        "outputId": "e70d9c2a-3957-4d4d-bc22-99cf5d9760cf"
      },
      "source": [
        "schools_df.describe(percentiles=[.1, .25, .50, .75, .90, .99])\n"
      ],
      "execution_count": 750,
      "outputs": [
        {
          "output_type": "execute_result",
          "data": {
            "text/html": [
              "<div>\n",
              "<style scoped>\n",
              "    .dataframe tbody tr th:only-of-type {\n",
              "        vertical-align: middle;\n",
              "    }\n",
              "\n",
              "    .dataframe tbody tr th {\n",
              "        vertical-align: top;\n",
              "    }\n",
              "\n",
              "    .dataframe thead th {\n",
              "        text-align: right;\n",
              "    }\n",
              "</style>\n",
              "<table border=\"1\" class=\"dataframe\">\n",
              "  <thead>\n",
              "    <tr style=\"text-align: right;\">\n",
              "      <th></th>\n",
              "      <th>reporting_year</th>\n",
              "      <th>missed_days</th>\n",
              "      <th>spg_score</th>\n",
              "      <th>ach_score</th>\n",
              "      <th>eg_score</th>\n",
              "      <th>eg_index</th>\n",
              "      <th>rd_spg_score</th>\n",
              "      <th>rd_eg_score</th>\n",
              "      <th>rd_eg_index</th>\n",
              "      <th>ma_spg_score</th>\n",
              "      <th>ma_eg_score</th>\n",
              "      <th>ma_eg_index</th>\n",
              "      <th>k2_feeder</th>\n",
              "    </tr>\n",
              "  </thead>\n",
              "  <tbody>\n",
              "    <tr>\n",
              "      <th>count</th>\n",
              "      <td>26540.0</td>\n",
              "      <td>26540.000000</td>\n",
              "      <td>16333.000000</td>\n",
              "      <td>16059.000000</td>\n",
              "      <td>14382.000000</td>\n",
              "      <td>14382.00000</td>\n",
              "      <td>1997.000000</td>\n",
              "      <td>1994.000000</td>\n",
              "      <td>1994.000000</td>\n",
              "      <td>1997.000000</td>\n",
              "      <td>1964.000000</td>\n",
              "      <td>1964.000000</td>\n",
              "      <td>390.000000</td>\n",
              "    </tr>\n",
              "    <tr>\n",
              "      <th>mean</th>\n",
              "      <td>2019.0</td>\n",
              "      <td>3.297965</td>\n",
              "      <td>56.399498</td>\n",
              "      <td>51.778704</td>\n",
              "      <td>77.945981</td>\n",
              "      <td>0.02268</td>\n",
              "      <td>60.631447</td>\n",
              "      <td>78.036058</td>\n",
              "      <td>0.017879</td>\n",
              "      <td>62.122684</td>\n",
              "      <td>77.061202</td>\n",
              "      <td>-0.023544</td>\n",
              "      <td>481013.153846</td>\n",
              "    </tr>\n",
              "    <tr>\n",
              "      <th>std</th>\n",
              "      <td>0.0</td>\n",
              "      <td>4.578953</td>\n",
              "      <td>17.528875</td>\n",
              "      <td>20.549722</td>\n",
              "      <td>8.849621</td>\n",
              "      <td>2.63027</td>\n",
              "      <td>12.669942</td>\n",
              "      <td>7.804028</td>\n",
              "      <td>2.156019</td>\n",
              "      <td>14.390018</td>\n",
              "      <td>11.936635</td>\n",
              "      <td>3.902765</td>\n",
              "      <td>228706.250867</td>\n",
              "    </tr>\n",
              "    <tr>\n",
              "      <th>min</th>\n",
              "      <td>2019.0</td>\n",
              "      <td>0.000000</td>\n",
              "      <td>0.000000</td>\n",
              "      <td>0.000000</td>\n",
              "      <td>50.000000</td>\n",
              "      <td>-17.55000</td>\n",
              "      <td>15.000000</td>\n",
              "      <td>52.700000</td>\n",
              "      <td>-8.360000</td>\n",
              "      <td>7.000000</td>\n",
              "      <td>50.000000</td>\n",
              "      <td>-16.860000</td>\n",
              "      <td>70327.000000</td>\n",
              "    </tr>\n",
              "    <tr>\n",
              "      <th>10%</th>\n",
              "      <td>2019.0</td>\n",
              "      <td>0.000000</td>\n",
              "      <td>33.000000</td>\n",
              "      <td>24.300000</td>\n",
              "      <td>65.000000</td>\n",
              "      <td>-2.99000</td>\n",
              "      <td>44.000000</td>\n",
              "      <td>66.500000</td>\n",
              "      <td>-2.700000</td>\n",
              "      <td>43.000000</td>\n",
              "      <td>58.600000</td>\n",
              "      <td>-4.830000</td>\n",
              "      <td>140392.000000</td>\n",
              "    </tr>\n",
              "    <tr>\n",
              "      <th>25%</th>\n",
              "      <td>2019.0</td>\n",
              "      <td>0.000000</td>\n",
              "      <td>44.000000</td>\n",
              "      <td>37.500000</td>\n",
              "      <td>73.100000</td>\n",
              "      <td>-1.37000</td>\n",
              "      <td>52.000000</td>\n",
              "      <td>73.400000</td>\n",
              "      <td>-1.317500</td>\n",
              "      <td>53.000000</td>\n",
              "      <td>68.400000</td>\n",
              "      <td>-2.312500</td>\n",
              "      <td>260430.000000</td>\n",
              "    </tr>\n",
              "    <tr>\n",
              "      <th>50%</th>\n",
              "      <td>2019.0</td>\n",
              "      <td>2.000000</td>\n",
              "      <td>57.000000</td>\n",
              "      <td>52.000000</td>\n",
              "      <td>80.200000</td>\n",
              "      <td>0.10000</td>\n",
              "      <td>61.000000</td>\n",
              "      <td>80.000000</td>\n",
              "      <td>0.000000</td>\n",
              "      <td>63.000000</td>\n",
              "      <td>80.100000</td>\n",
              "      <td>0.055000</td>\n",
              "      <td>550349.000000</td>\n",
              "    </tr>\n",
              "    <tr>\n",
              "      <th>75%</th>\n",
              "      <td>2019.0</td>\n",
              "      <td>3.000000</td>\n",
              "      <td>69.000000</td>\n",
              "      <td>66.200000</td>\n",
              "      <td>83.800000</td>\n",
              "      <td>1.52000</td>\n",
              "      <td>69.000000</td>\n",
              "      <td>83.400000</td>\n",
              "      <td>1.360000</td>\n",
              "      <td>72.000000</td>\n",
              "      <td>86.000000</td>\n",
              "      <td>2.400000</td>\n",
              "      <td>640328.000000</td>\n",
              "    </tr>\n",
              "    <tr>\n",
              "      <th>90%</th>\n",
              "      <td>2019.0</td>\n",
              "      <td>9.000000</td>\n",
              "      <td>79.000000</td>\n",
              "      <td>78.900000</td>\n",
              "      <td>87.500000</td>\n",
              "      <td>3.01000</td>\n",
              "      <td>77.000000</td>\n",
              "      <td>86.600000</td>\n",
              "      <td>2.650000</td>\n",
              "      <td>80.000000</td>\n",
              "      <td>90.870000</td>\n",
              "      <td>4.537000</td>\n",
              "      <td>740404.000000</td>\n",
              "    </tr>\n",
              "    <tr>\n",
              "      <th>99%</th>\n",
              "      <td>2019.0</td>\n",
              "      <td>20.000000</td>\n",
              "      <td>94.000000</td>\n",
              "      <td>96.300000</td>\n",
              "      <td>94.400000</td>\n",
              "      <td>6.68190</td>\n",
              "      <td>88.000000</td>\n",
              "      <td>92.700000</td>\n",
              "      <td>5.620700</td>\n",
              "      <td>92.000000</td>\n",
              "      <td>99.400000</td>\n",
              "      <td>9.671100</td>\n",
              "      <td>960318.000000</td>\n",
              "    </tr>\n",
              "    <tr>\n",
              "      <th>max</th>\n",
              "      <td>2019.0</td>\n",
              "      <td>26.500000</td>\n",
              "      <td>100.000000</td>\n",
              "      <td>100.000000</td>\n",
              "      <td>100.000000</td>\n",
              "      <td>14.62000</td>\n",
              "      <td>95.000000</td>\n",
              "      <td>98.600000</td>\n",
              "      <td>9.210000</td>\n",
              "      <td>98.000000</td>\n",
              "      <td>100.000000</td>\n",
              "      <td>16.600000</td>\n",
              "      <td>960318.000000</td>\n",
              "    </tr>\n",
              "  </tbody>\n",
              "</table>\n",
              "</div>"
            ],
            "text/plain": [
              "       reporting_year   missed_days  ...  ma_eg_index      k2_feeder\n",
              "count         26540.0  26540.000000  ...  1964.000000     390.000000\n",
              "mean           2019.0      3.297965  ...    -0.023544  481013.153846\n",
              "std               0.0      4.578953  ...     3.902765  228706.250867\n",
              "min            2019.0      0.000000  ...   -16.860000   70327.000000\n",
              "10%            2019.0      0.000000  ...    -4.830000  140392.000000\n",
              "25%            2019.0      0.000000  ...    -2.312500  260430.000000\n",
              "50%            2019.0      2.000000  ...     0.055000  550349.000000\n",
              "75%            2019.0      3.000000  ...     2.400000  640328.000000\n",
              "90%            2019.0      9.000000  ...     4.537000  740404.000000\n",
              "99%            2019.0     20.000000  ...     9.671100  960318.000000\n",
              "max            2019.0     26.500000  ...    16.600000  960318.000000\n",
              "\n",
              "[11 rows x 13 columns]"
            ]
          },
          "metadata": {
            "tags": []
          },
          "execution_count": 750
        }
      ]
    },
    {
      "cell_type": "markdown",
      "metadata": {
        "id": "o6ZrW-sxTuXg"
      },
      "source": [
        "Dropping unnecessary columns"
      ]
    },
    {
      "cell_type": "code",
      "metadata": {
        "id": "9HHCNmx-TktS"
      },
      "source": [
        "columns_to_drop = ['asm_option', 'k2_feeder', 'use_3yr', 'use_alt_weight', 'scgs_score', 'reporting_year' ]\n",
        "schools_df = schools_df.drop(columns_to_drop, axis = 1) "
      ],
      "execution_count": 751,
      "outputs": []
    },
    {
      "cell_type": "markdown",
      "metadata": {
        "id": "bzsJqQOdBewF"
      },
      "source": [
        "Features to drop:\n",
        "grade_span: We focus on the high schools so we drop the other schools from grade_span column. \n",
        "\n"
      ]
    },
    {
      "cell_type": "code",
      "metadata": {
        "id": "Gx4_m1m59kT7",
        "colab": {
          "base_uri": "https://localhost:8080/"
        },
        "outputId": "86ef8efd-8278-4629-9458-ef8ab939c1f4"
      },
      "source": [
        "schools_df.grade_span.unique()"
      ],
      "execution_count": 752,
      "outputs": [
        {
          "output_type": "execute_result",
          "data": {
            "text/plain": [
              "array(['09-13', 'PK-05', '0K-05', '06-08', '09-12', '0K-12', '09-11',\n",
              "       'PK-08', '07-12', '0K-03', '04-05', '09-10', '07-08', '0K-06',\n",
              "       'PK-06', '06-12', '09-09', 'PK-01', '0K-08', '05-08', 'PK-04',\n",
              "       '02-03', '0K-04', '11-13', '05-06', '02-04', '0K-01', 'PK-03',\n",
              "       '06-07', '11-12', 'PK-12', '0K-02', '03-05', 'PK-02', '04-06',\n",
              "       '02-05', '01-05', 'PK-0K', 'UN-GR', '06-10', '04-09', '03-12',\n",
              "       '04-08', '08-12', '08-13', '06-13', '07-13', '0K-07', 'PK-13',\n",
              "       '0K-13', 'PK-07', '06-06', '10-12', 'PK-09', '06-09', '04-12',\n",
              "       '01-12', '05-12', '01-08', '0K-11', '0K-09', '05-09', '03-08'],\n",
              "      dtype=object)"
            ]
          },
          "metadata": {
            "tags": []
          },
          "execution_count": 752
        }
      ]
    },
    {
      "cell_type": "code",
      "metadata": {
        "id": "lzx6DguGArQr"
      },
      "source": [
        "grade_span_to_drop = ['01-05','01-08','02-03','02-04','02-05','03-05','03-08','04-05','04-06','04-08',\n",
        "                      '04-09','05-06','05-08','05-09','06-06','06-07','06-08','06-09','06-10','07-08',\n",
        "                      '09-09','09-10','09-11','0K-01','0K-02','0K-03','0K-04','0K-05','0K-06','0K-07',\n",
        "                      '0K-08','0K-09','0K-11','PK-01','PK-02','PK-03','PK-04','PK-05','PK-06','PK-07',\n",
        "                      'PK-08','PK-09','PK-0K','UN-GR']\n",
        "\n",
        "schools_df = schools_df[~schools_df['grade_span'].isin(grade_span_to_drop)]"
      ],
      "execution_count": 753,
      "outputs": []
    },
    {
      "cell_type": "code",
      "metadata": {
        "colab": {
          "base_uri": "https://localhost:8080/"
        },
        "id": "xt81Ig0kKlvb",
        "outputId": "723e41f1-cd04-4941-817f-a201e71212e0"
      },
      "source": [
        "schools_df.shape"
      ],
      "execution_count": 754,
      "outputs": [
        {
          "output_type": "execute_result",
          "data": {
            "text/plain": [
              "(6600, 33)"
            ]
          },
          "metadata": {
            "tags": []
          },
          "execution_count": 754
        }
      ]
    },
    {
      "cell_type": "code",
      "metadata": {
        "colab": {
          "base_uri": "https://localhost:8080/"
        },
        "id": "esQ9zolSLJPk",
        "outputId": "406d068b-705c-47b8-e0a0-854a853a82ae"
      },
      "source": [
        "schools_df.info()"
      ],
      "execution_count": 755,
      "outputs": [
        {
          "output_type": "stream",
          "text": [
            "<class 'pandas.core.frame.DataFrame'>\n",
            "Int64Index: 6600 entries, 0 to 26539\n",
            "Data columns (total 33 columns):\n",
            " #   Column          Non-Null Count  Dtype  \n",
            "---  ------          --------------  -----  \n",
            " 0   lea_code        6600 non-null   object \n",
            " 1   lea_name        6600 non-null   object \n",
            " 2   school_code     6600 non-null   object \n",
            " 3   school_name     6600 non-null   object \n",
            " 4   sbe_region      6600 non-null   object \n",
            " 5   grade_span      6600 non-null   object \n",
            " 6   title_1         1140 non-null   object \n",
            " 7   missed_days     6600 non-null   float64\n",
            " 8   subgroup        6600 non-null   object \n",
            " 9   spg_grade       6570 non-null   object \n",
            " 10  spg_score       3165 non-null   float64\n",
            " 11  ach_score       3165 non-null   float64\n",
            " 12  eg_score        2880 non-null   float64\n",
            " 13  eg_status       2880 non-null   object \n",
            " 14  eg_index        2880 non-null   float64\n",
            " 15  rd_spg_grade    174 non-null    object \n",
            " 16  rd_spg_score    81 non-null     float64\n",
            " 17  rdgs_ach_score  81 non-null     object \n",
            " 18  rd_eg_score     79 non-null     float64\n",
            " 19  rd_eg_status    79 non-null     object \n",
            " 20  rd_eg_index     79 non-null     float64\n",
            " 21  ma_spg_grade    174 non-null    object \n",
            " 22  ma_spg_score    81 non-null     float64\n",
            " 23  mags_ach_score  81 non-null     object \n",
            " 24  ma_eg_score     78 non-null     float64\n",
            " 25  ma_eg_status    78 non-null     object \n",
            " 26  ma_eg_index     78 non-null     float64\n",
            " 27  aaa_score       3143 non-null   object \n",
            " 28  elp_score       140 non-null    object \n",
            " 29  cgrs_score      2122 non-null   object \n",
            " 30  bi_score        2059 non-null   object \n",
            " 31  awa_score       1797 non-null   object \n",
            " 32  mcr_score       1967 non-null   object \n",
            "dtypes: float64(11), object(22)\n",
            "memory usage: 1.7+ MB\n"
          ],
          "name": "stdout"
        }
      ]
    },
    {
      "cell_type": "code",
      "metadata": {
        "colab": {
          "base_uri": "https://localhost:8080/"
        },
        "id": "bErp3XRRLeoo",
        "outputId": "272d586f-371c-4216-ae66-e7a82b4de2ca"
      },
      "source": [
        "schools_df.isna().sum()"
      ],
      "execution_count": 756,
      "outputs": [
        {
          "output_type": "execute_result",
          "data": {
            "text/plain": [
              "lea_code             0\n",
              "lea_name             0\n",
              "school_code          0\n",
              "school_name          0\n",
              "sbe_region           0\n",
              "grade_span           0\n",
              "title_1           5460\n",
              "missed_days          0\n",
              "subgroup             0\n",
              "spg_grade           30\n",
              "spg_score         3435\n",
              "ach_score         3435\n",
              "eg_score          3720\n",
              "eg_status         3720\n",
              "eg_index          3720\n",
              "rd_spg_grade      6426\n",
              "rd_spg_score      6519\n",
              "rdgs_ach_score    6519\n",
              "rd_eg_score       6521\n",
              "rd_eg_status      6521\n",
              "rd_eg_index       6521\n",
              "ma_spg_grade      6426\n",
              "ma_spg_score      6519\n",
              "mags_ach_score    6519\n",
              "ma_eg_score       6522\n",
              "ma_eg_status      6522\n",
              "ma_eg_index       6522\n",
              "aaa_score         3457\n",
              "elp_score         6460\n",
              "cgrs_score        4478\n",
              "bi_score          4541\n",
              "awa_score         4803\n",
              "mcr_score         4633\n",
              "dtype: int64"
            ]
          },
          "metadata": {
            "tags": []
          },
          "execution_count": 756
        }
      ]
    },
    {
      "cell_type": "code",
      "metadata": {
        "colab": {
          "base_uri": "https://localhost:8080/"
        },
        "id": "R1iusqicLlV3",
        "outputId": "02d2a845-1723-431e-dbad-96eccd53c54c"
      },
      "source": [
        "schools_df.columns"
      ],
      "execution_count": 757,
      "outputs": [
        {
          "output_type": "execute_result",
          "data": {
            "text/plain": [
              "Index(['lea_code', 'lea_name', 'school_code', 'school_name', 'sbe_region',\n",
              "       'grade_span', 'title_1', 'missed_days', 'subgroup', 'spg_grade',\n",
              "       'spg_score', 'ach_score', 'eg_score', 'eg_status', 'eg_index',\n",
              "       'rd_spg_grade', 'rd_spg_score', 'rdgs_ach_score', 'rd_eg_score',\n",
              "       'rd_eg_status', 'rd_eg_index', 'ma_spg_grade', 'ma_spg_score',\n",
              "       'mags_ach_score', 'ma_eg_score', 'ma_eg_status', 'ma_eg_index',\n",
              "       'aaa_score', 'elp_score', 'cgrs_score', 'bi_score', 'awa_score',\n",
              "       'mcr_score'],\n",
              "      dtype='object')"
            ]
          },
          "metadata": {
            "tags": []
          },
          "execution_count": 757
        }
      ]
    },
    {
      "cell_type": "code",
      "metadata": {
        "id": "lszoQlnRVXpO"
      },
      "source": [
        "columns_to_numeric = ['elp_score', 'cgrs_score', 'bi_score', 'awa_score', 'mcr_score']\n",
        "for column in columns_to_numeric:\n",
        "\n",
        "  schools_df[column] = schools_df[column].apply(lambda x: str(x).replace('<5', '5'))\n",
        "  schools_df[column] = schools_df[column].apply(lambda x: str(x).replace('nan', '999'))"
      ],
      "execution_count": 758,
      "outputs": []
    },
    {
      "cell_type": "code",
      "metadata": {
        "id": "Cycox1cpWpeu"
      },
      "source": [
        "# schools_df['elp_score'] = schools_df['elp_score'].apply(lambda x: str(x).replace('nan', '999'))\n",
        "# schools_df['cgrs_score'] = schools_df['cgrs_score'].apply(lambda x: str(x).replace('nan', '999'))\n",
        "# schools_df['bi_score'] = schools_df['bi_score'].apply(lambda x: str(x).replace('nan', '999'))\n",
        "# schools_df['awa_score'] = schools_df['awa_score'].apply(lambda x: str(x).replace('nan', '999'))\n",
        "# schools_df['mcr_score'] = schools_df['mcr_score'].apply(lambda x: str(x).replace('nan', '999'))\n",
        "\n",
        "# schools_df['elp_score'] = schools_df['elp_score'].apply(lambda x: str(x).replace('<5', '5'))\n",
        "# schools_df['cgrs_score'] = schools_df['cgrs_score'].apply(lambda x: str(x).replace('<5', '5'))\n",
        "# schools_df['bi_score'] = schools_df['bi_score'].apply(lambda x: str(x).replace('<5', '5'))\n",
        "# schools_df['awa_score'] = schools_df['awa_score'].apply(lambda x: str(x).replace('<5', '5'))\n",
        "# schools_df['mcr_score'] = schools_df['mcr_score'].apply(lambda x: str(x).replace('<5', '5'))"
      ],
      "execution_count": 759,
      "outputs": []
    },
    {
      "cell_type": "code",
      "metadata": {
        "id": "sLOThklWVFC-"
      },
      "source": [
        "for column in columns_to_numeric:\n",
        "  schools_df[column] = pd.to_numeric(schools_df[column], errors='coerce')"
      ],
      "execution_count": 760,
      "outputs": []
    },
    {
      "cell_type": "code",
      "metadata": {
        "id": "vm2DHTmPxIw2"
      },
      "source": [
        "schools_df['title_1'] = schools_df['title_1'].apply(lambda x: str(x).replace('nan', 'N'))\n",
        "schools_df['spg_grade'] = schools_df['spg_grade'].apply(lambda x: str(x).replace('nan', 'I'))\n",
        "schools_df['spg_score'] = schools_df['spg_score'].apply(lambda x: str(x).replace('nan', '999'))\n",
        "schools_df['ach_score'] = schools_df['ach_score'].apply(lambda x: str(x).replace('nan', '999'))\n",
        "schools_df['eg_score'] = schools_df['eg_score'].apply(lambda x: str(x).replace('nan', '999'))\n",
        "schools_df['eg_status'] = schools_df['eg_status'].apply(lambda x: str(x).replace('nan', 'insuff_data'))\n",
        "schools_df['eg_index'] = schools_df['eg_index'].apply(lambda x: str(x).replace('nan', '50.'))\n"
      ],
      "execution_count": 761,
      "outputs": []
    },
    {
      "cell_type": "code",
      "metadata": {
        "id": "QScS_u33OP7h"
      },
      "source": [
        "schools_df_all = schools_df[schools_df['subgroup'].isin(['ALL'])]"
      ],
      "execution_count": 762,
      "outputs": []
    },
    {
      "cell_type": "code",
      "metadata": {
        "colab": {
          "base_uri": "https://localhost:8080/"
        },
        "id": "qLjAMP_SPERe",
        "outputId": "3f978d5a-5c6a-49e5-a20a-c67a52420f9d"
      },
      "source": [
        "\n",
        "schools_df_all.shape"
      ],
      "execution_count": 763,
      "outputs": [
        {
          "output_type": "execute_result",
          "data": {
            "text/plain": [
              "(660, 33)"
            ]
          },
          "metadata": {
            "tags": []
          },
          "execution_count": 763
        }
      ]
    },
    {
      "cell_type": "code",
      "metadata": {
        "colab": {
          "base_uri": "https://localhost:8080/"
        },
        "id": "Q03fSsqzPLUB",
        "outputId": "bd5977f8-2f65-4d17-ff31-a95f6f4ba47e"
      },
      "source": [
        "schools_df_all.isna().sum()"
      ],
      "execution_count": 764,
      "outputs": [
        {
          "output_type": "execute_result",
          "data": {
            "text/plain": [
              "lea_code            0\n",
              "lea_name            0\n",
              "school_code         0\n",
              "school_name         0\n",
              "sbe_region          0\n",
              "grade_span          0\n",
              "title_1             0\n",
              "missed_days         0\n",
              "subgroup            0\n",
              "spg_grade           0\n",
              "spg_score           0\n",
              "ach_score           0\n",
              "eg_score            0\n",
              "eg_status           0\n",
              "eg_index            0\n",
              "rd_spg_grade      486\n",
              "rd_spg_score      579\n",
              "rdgs_ach_score    579\n",
              "rd_eg_score       581\n",
              "rd_eg_status      581\n",
              "rd_eg_index       581\n",
              "ma_spg_grade      486\n",
              "ma_spg_score      579\n",
              "mags_ach_score    579\n",
              "ma_eg_score       582\n",
              "ma_eg_status      582\n",
              "ma_eg_index       582\n",
              "aaa_score         103\n",
              "elp_score           0\n",
              "cgrs_score        139\n",
              "bi_score           34\n",
              "awa_score          32\n",
              "mcr_score         264\n",
              "dtype: int64"
            ]
          },
          "metadata": {
            "tags": []
          },
          "execution_count": 764
        }
      ]
    },
    {
      "cell_type": "code",
      "metadata": {
        "colab": {
          "base_uri": "https://localhost:8080/"
        },
        "id": "JToxweSTPrGN",
        "outputId": "8cb7a805-6912-44cc-9dfd-efd7f20228e7"
      },
      "source": [
        "schools_df_all.info()"
      ],
      "execution_count": 765,
      "outputs": [
        {
          "output_type": "stream",
          "text": [
            "<class 'pandas.core.frame.DataFrame'>\n",
            "Int64Index: 660 entries, 0 to 26530\n",
            "Data columns (total 33 columns):\n",
            " #   Column          Non-Null Count  Dtype  \n",
            "---  ------          --------------  -----  \n",
            " 0   lea_code        660 non-null    object \n",
            " 1   lea_name        660 non-null    object \n",
            " 2   school_code     660 non-null    object \n",
            " 3   school_name     660 non-null    object \n",
            " 4   sbe_region      660 non-null    object \n",
            " 5   grade_span      660 non-null    object \n",
            " 6   title_1         660 non-null    object \n",
            " 7   missed_days     660 non-null    float64\n",
            " 8   subgroup        660 non-null    object \n",
            " 9   spg_grade       660 non-null    object \n",
            " 10  spg_score       660 non-null    object \n",
            " 11  ach_score       660 non-null    object \n",
            " 12  eg_score        660 non-null    object \n",
            " 13  eg_status       660 non-null    object \n",
            " 14  eg_index        660 non-null    object \n",
            " 15  rd_spg_grade    174 non-null    object \n",
            " 16  rd_spg_score    81 non-null     float64\n",
            " 17  rdgs_ach_score  81 non-null     object \n",
            " 18  rd_eg_score     79 non-null     float64\n",
            " 19  rd_eg_status    79 non-null     object \n",
            " 20  rd_eg_index     79 non-null     float64\n",
            " 21  ma_spg_grade    174 non-null    object \n",
            " 22  ma_spg_score    81 non-null     float64\n",
            " 23  mags_ach_score  81 non-null     object \n",
            " 24  ma_eg_score     78 non-null     float64\n",
            " 25  ma_eg_status    78 non-null     object \n",
            " 26  ma_eg_index     78 non-null     float64\n",
            " 27  aaa_score       557 non-null    object \n",
            " 28  elp_score       660 non-null    float64\n",
            " 29  cgrs_score      521 non-null    float64\n",
            " 30  bi_score        626 non-null    float64\n",
            " 31  awa_score       628 non-null    float64\n",
            " 32  mcr_score       396 non-null    float64\n",
            "dtypes: float64(12), object(21)\n",
            "memory usage: 175.3+ KB\n"
          ],
          "name": "stdout"
        }
      ]
    },
    {
      "cell_type": "code",
      "metadata": {
        "id": "bi8qo9rfQ26O",
        "colab": {
          "base_uri": "https://localhost:8080/"
        },
        "outputId": "09c2bc72-2541-4a73-956e-113ed001f75c"
      },
      "source": [
        "schools_df_all.rd_spg_grade.unique()"
      ],
      "execution_count": 766,
      "outputs": [
        {
          "output_type": "execute_result",
          "data": {
            "text/plain": [
              "array([nan, 'ALT', 'I', 'C', 'B', 'D', 'F', 'A'], dtype=object)"
            ]
          },
          "metadata": {
            "tags": []
          },
          "execution_count": 766
        }
      ]
    },
    {
      "cell_type": "code",
      "metadata": {
        "id": "8cewFlNrROqA"
      },
      "source": [
        ""
      ],
      "execution_count": 766,
      "outputs": []
    }
  ]
}